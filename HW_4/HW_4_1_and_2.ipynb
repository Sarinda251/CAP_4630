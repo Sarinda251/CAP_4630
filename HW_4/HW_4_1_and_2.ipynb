{
  "nbformat": 4,
  "nbformat_minor": 0,
  "metadata": {
    "colab": {
      "name": "HW_4_1_and_2.ipynb",
      "provenance": [],
      "collapsed_sections": [],
      "authorship_tag": "ABX9TyN9BWSdp6O8xCOSWleT/QMG",
      "include_colab_link": true
    },
    "kernelspec": {
      "name": "python3",
      "display_name": "Python 3"
    }
  },
  "cells": [
    {
      "cell_type": "markdown",
      "metadata": {
        "id": "view-in-github",
        "colab_type": "text"
      },
      "source": [
        "<a href=\"https://colab.research.google.com/github/Sarinda251/CAP_4630/blob/master/HW_4_1_and_2.ipynb\" target=\"_parent\"><img src=\"https://colab.research.google.com/assets/colab-badge.svg\" alt=\"Open In Colab\"/></a>"
      ]
    },
    {
      "cell_type": "markdown",
      "metadata": {
        "id": "qPcNaS94WeDl",
        "colab_type": "text"
      },
      "source": [
        "#Homework 4, Problem 1\n",
        "\n",
        "###Using only numpy, implement the function conv2d. It takes as input input_mat and kernel_mat and outputs output_mat. All variables are square matrices. It should compute the convolution of input_mat with the kernel kernel_mat using valid padding.\n",
        "\n"
      ]
    },
    {
      "cell_type": "markdown",
      "metadata": {
        "id": "YkZ8yuV_WiOl",
        "colab_type": "text"
      },
      "source": [
        "## Code"
      ]
    },
    {
      "cell_type": "code",
      "metadata": {
        "id": "QJtwQs82Vnkt",
        "colab_type": "code",
        "colab": {}
      },
      "source": [
        "import numpy as np\n",
        "\n",
        "def conv2d(input_mat, kernel_mat):\n",
        "\n",
        "  # check if matrices are square\n",
        "  if(input_mat.shape[0] != input_mat.shape[1]):\n",
        "    print(\"Error: input matrix is not square\")\n",
        "    return []\n",
        "  if(kernel_mat.shape[0] != kernel_mat.shape[1]):\n",
        "    print(\"Error: kernel matrix is not square\")\n",
        "    return []\n",
        "\n",
        "  n = input_mat.shape[0]\n",
        "  f = kernel_mat.shape[0]\n",
        "\n",
        "  if(f > n):\n",
        "    print(\"Error: kernel matrix is too big\")\n",
        "    return []\n",
        "\n",
        "  output_mat = np.zeros((n-f+1, n-f+1))\n",
        "\n",
        "  # rotate kernel\n",
        "  kernel_mat = np.flip(kernel_mat, 0)\n",
        "  kernel_mat = np.flip(kernel_mat, 1)\n",
        "  print(input_mat)\n",
        "  print(kernel_mat)\n",
        "  \n",
        "  # apply filter\n",
        "  for x in range(n-f+1):\n",
        "    for y in range(n-f+1):\n",
        "      for i in range(f):\n",
        "        for j in range(f):\n",
        "          output_mat[x][y] += input_mat[x+i][y+j] * kernel_mat[i][j]\n",
        "  \n",
        "  print(output_mat)\n",
        "  return output_mat"
      ],
      "execution_count": 0,
      "outputs": []
    },
    {
      "cell_type": "markdown",
      "metadata": {
        "id": "hB3K_KnjoRTS",
        "colab_type": "text"
      },
      "source": [
        "## Test Cases\n"
      ]
    },
    {
      "cell_type": "code",
      "metadata": {
        "id": "Zcwhq8W4WM1A",
        "colab_type": "code",
        "outputId": "bdf901a0-505e-4110-f1f9-8631405b95bd",
        "colab": {
          "base_uri": "https://localhost:8080/",
          "height": 1000
        }
      },
      "source": [
        "from scipy import signal\n",
        "import numpy as np\n",
        "\n",
        "input_mat = []\n",
        "kernel_mat = []\n",
        "expected_mat = []\n",
        "\n",
        "# test case 1\n",
        "input_mat.append(np.array([[1, 2, 1, 2],\n",
        "                      [2, 1, 2, 1],\n",
        "                      [1, 2, 1, 2],\n",
        "                      [2, 1, 2, 1]]))\n",
        "\n",
        "kernel_mat.append(np.array([[1, 0],\n",
        "                       [0, 1]]))\n",
        "\n",
        "expected_mat.append(np.array([[2, 4, 2],\n",
        "                                [4, 2, 4],\n",
        "                                [2, 4, 2]]))\n",
        "\n",
        "# test case 2\n",
        "input_mat.append(np.array([[1, 0, 0, 0],\n",
        "                      [0, 1, 0, 0],\n",
        "                      [0, 0, 1, 0],\n",
        "                      [0, 0, 0, 1]]))\n",
        "kernel_mat.append(np.array([[1, 0], [0, 1]]))\n",
        "expected_mat.append(np.array([[2, 0, 0], [0, 2, 0], [0, 0, 2]]))\n",
        "\n",
        "\n",
        "# test case 3\n",
        "input_mat.append(np.array([[1, 0, 0, 0],\n",
        "                      [0, 1, 0, 0],\n",
        "                      [0, 0, 1, 0],\n",
        "                      [0, 0, 0, 1]]))\n",
        "kernel_mat.append(np.array([[1, -1],\n",
        "                       [-1, 0]]))\n",
        "\n",
        "expected_mat.append(np.array([[ 1, -1,  0], [-1,  1, -1],[ 0, -1,  1]]))\n",
        "\n",
        "\n",
        "# test case 4\n",
        "input_mat.append(np.array([[1, 0, 0, 0],\n",
        "                      [0, 1, 0, 0],\n",
        "                      [0, 0, 1, 0],\n",
        "                      [0, 0, 0, 1]]))\n",
        "kernel_mat.append(np.array([[1, 0, 0, 0],\n",
        "                      [0, 1, 0, 0],\n",
        "                      [0, 0, 1, 0],\n",
        "                      [0, 0, 0, 1]]))\n",
        "\n",
        "expected_mat.append(np.array([[4]]))\n",
        "\n",
        "\n",
        "# test case 5 - should either through an error, or return empty matrix\n",
        "input_mat.append(np.array([[1, -1],\n",
        "                       [-1, 0]]))\n",
        "kernel_mat.append(np.array([[1, 0, 0, 0],\n",
        "                      [0, 1, 0, 0],\n",
        "                      [0, 0, 1, 0],\n",
        "                      [0, 0, 0, 1]]))\n",
        "\n",
        "expected_mat.append([])\n",
        "\n",
        "\n",
        "\n",
        "for i in range(len(input_mat)):\n",
        "  # uncomment line for student code testing\n",
        "  output_mat = conv2d(input_mat[i], kernel_mat[i])\n",
        "\n",
        "  print(output_mat)\n",
        "  if np.array_equal(output_mat, expected_mat[i]):\n",
        "    print(\"Correct output!\\n\")\n",
        "  else:\n",
        "    print(\"Incorrect output!\\n\")\n"
      ],
      "execution_count": 2,
      "outputs": [
        {
          "output_type": "stream",
          "text": [
            "[[1 2 1 2]\n",
            " [2 1 2 1]\n",
            " [1 2 1 2]\n",
            " [2 1 2 1]]\n",
            "[[1 0]\n",
            " [0 1]]\n",
            "[[2. 4. 2.]\n",
            " [4. 2. 4.]\n",
            " [2. 4. 2.]]\n",
            "[[2. 4. 2.]\n",
            " [4. 2. 4.]\n",
            " [2. 4. 2.]]\n",
            "Correct output!\n",
            "\n",
            "[[1 0 0 0]\n",
            " [0 1 0 0]\n",
            " [0 0 1 0]\n",
            " [0 0 0 1]]\n",
            "[[1 0]\n",
            " [0 1]]\n",
            "[[2. 0. 0.]\n",
            " [0. 2. 0.]\n",
            " [0. 0. 2.]]\n",
            "[[2. 0. 0.]\n",
            " [0. 2. 0.]\n",
            " [0. 0. 2.]]\n",
            "Correct output!\n",
            "\n",
            "[[1 0 0 0]\n",
            " [0 1 0 0]\n",
            " [0 0 1 0]\n",
            " [0 0 0 1]]\n",
            "[[ 0 -1]\n",
            " [-1  1]]\n",
            "[[ 1. -1.  0.]\n",
            " [-1.  1. -1.]\n",
            " [ 0. -1.  1.]]\n",
            "[[ 1. -1.  0.]\n",
            " [-1.  1. -1.]\n",
            " [ 0. -1.  1.]]\n",
            "Correct output!\n",
            "\n",
            "[[1 0 0 0]\n",
            " [0 1 0 0]\n",
            " [0 0 1 0]\n",
            " [0 0 0 1]]\n",
            "[[1 0 0 0]\n",
            " [0 1 0 0]\n",
            " [0 0 1 0]\n",
            " [0 0 0 1]]\n",
            "[[4.]]\n",
            "[[4.]]\n",
            "Correct output!\n",
            "\n",
            "Error: kernel matrix is too big\n",
            "[]\n",
            "Correct output!\n",
            "\n"
          ],
          "name": "stdout"
        }
      ]
    },
    {
      "cell_type": "markdown",
      "metadata": {
        "id": "Q6aTPuDLkPKl",
        "colab_type": "text"
      },
      "source": [
        "#Homework 4, Problem 2\n",
        "\n",
        "###Using only numpy, implement the function maxpooling2d. It takes as input input_mat and s and outputs output_mat. The variables input_mat and output_mat are square matrices and s is an integer. It should compute the maxpooling operation on input_mat using window of shape s times s."
      ]
    },
    {
      "cell_type": "markdown",
      "metadata": {
        "id": "krCZFpeQkhxj",
        "colab_type": "text"
      },
      "source": [
        "## Code"
      ]
    },
    {
      "cell_type": "code",
      "metadata": {
        "id": "w_8_8mjtkhZd",
        "colab_type": "code",
        "colab": {}
      },
      "source": [
        "def maxpooling2d(input_mat, s):\n",
        "  rows = input_mat.shape[0]\n",
        "  cols = input_mat.shape[1]\n",
        "  while(rows > cols):\n",
        "    input_mat = np.column_stack((input_mat, np.zeros(rows)))\n",
        "    cols += 1\n",
        "  while(rows < cols):\n",
        "    input_mat = np.vstack((input_mat, np.zeros(cols)))\n",
        "    rows += 1\n",
        "\n",
        "  if(rows % s != 0):\n",
        "    print(\"Error: input array does not divide evenly into window size\")\n",
        "    return []\n",
        "\n",
        "  output_mat = np.zeros((rows//s, rows//s))\n",
        "\n",
        "  for x in range(0, cols, s):\n",
        "    for y in range(0, rows, s):\n",
        "      output_mat[x//s][y//s] = input_mat[x][y]\n",
        "      for i in range(s):\n",
        "        for j in range(s):\n",
        "          output_mat[x//s][y//s] = max(output_mat[x//s][y//s],input_mat[x+i][y+j]) \n",
        "\n",
        "  print(input_mat)\n",
        "  print(output_mat)\n",
        "  return output_mat\n"
      ],
      "execution_count": 0,
      "outputs": []
    },
    {
      "cell_type": "markdown",
      "metadata": {
        "id": "e15UYfFssJnj",
        "colab_type": "text"
      },
      "source": [
        "## Test Cases"
      ]
    },
    {
      "cell_type": "code",
      "metadata": {
        "id": "7Q0IRKMTd6dZ",
        "colab_type": "code",
        "outputId": "72ef947e-cfef-44d3-da5f-ab21047283e1",
        "colab": {
          "base_uri": "https://localhost:8080/",
          "height": 391
        }
      },
      "source": [
        "import skimage.measure\n",
        "\n",
        "input_mat = []\n",
        "expected_mat = []\n",
        "s = []\n",
        "input_mat.append(np.array([[1, 2, 1, 2],\n",
        "                      [2, 4, 2, 1],\n",
        "                      [1, 2, 4, 2],\n",
        "                      [2, 1, 2, 1]]))\n",
        "s.append(2)\n",
        "\n",
        "expected_mat.append(np.array([[4, 2],\n",
        "                                [2, 4]]))\n",
        "\n",
        "input_mat.append(np.array([[1, 2, 1, 2, 4, 5],\n",
        "                      [2, 4, 2, 1, 0, 3],\n",
        "                      [1, 2, 4, 2, 4, 5],\n",
        "                      [2, 1, 2, 1, 2, 1],\n",
        "                      [1, 1, 2, 3, 1, 2]]))\n",
        "s.append(2)\n",
        "\n",
        "expected_mat.append([[4, 2, 5],\n",
        " [2, 4, 5],\n",
        " [1, 3, 2]])\n",
        "\n",
        "\n",
        "for i in range(len(input_mat)):\n",
        "  # uncomment top line and comment second line to test code\n",
        "  output_mat = maxpooling2d(input_mat[i], s[i])\n",
        "\n",
        "  print(output_mat)\n",
        "  #print(expected_mat[i])\n",
        "\n",
        "  if np.array_equal(output_mat, expected_mat[i]):\n",
        "    print(\"Correct output!\")\n",
        "  else:\n",
        "    print(\"Incorrect output!\")\n"
      ],
      "execution_count": 4,
      "outputs": [
        {
          "output_type": "stream",
          "text": [
            "[[1 2 1 2]\n",
            " [2 4 2 1]\n",
            " [1 2 4 2]\n",
            " [2 1 2 1]]\n",
            "[[4. 2.]\n",
            " [2. 4.]]\n",
            "[[4. 2.]\n",
            " [2. 4.]]\n",
            "Correct output!\n",
            "[[1. 2. 1. 2. 4. 5.]\n",
            " [2. 4. 2. 1. 0. 3.]\n",
            " [1. 2. 4. 2. 4. 5.]\n",
            " [2. 1. 2. 1. 2. 1.]\n",
            " [1. 1. 2. 3. 1. 2.]\n",
            " [0. 0. 0. 0. 0. 0.]]\n",
            "[[4. 2. 5.]\n",
            " [2. 4. 5.]\n",
            " [1. 3. 2.]]\n",
            "[[4. 2. 5.]\n",
            " [2. 4. 5.]\n",
            " [1. 3. 2.]]\n",
            "Correct output!\n"
          ],
          "name": "stdout"
        }
      ]
    }
  ]
}
