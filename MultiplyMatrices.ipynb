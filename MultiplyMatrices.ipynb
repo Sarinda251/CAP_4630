{
  "nbformat": 4,
  "nbformat_minor": 0,
  "metadata": {
    "colab": {
      "name": "MultiplyMatrices.ipynb",
      "provenance": [],
      "authorship_tag": "ABX9TyPBpnzajkHqb18tnPVag0s3",
      "include_colab_link": true
    },
    "kernelspec": {
      "name": "python3",
      "display_name": "Python 3"
    }
  },
  "cells": [
    {
      "cell_type": "markdown",
      "metadata": {
        "id": "view-in-github",
        "colab_type": "text"
      },
      "source": [
        "<a href=\"https://colab.research.google.com/github/Sarinda251/CAP_4630/blob/master/MultiplyMatrices.ipynb\" target=\"_parent\"><img src=\"https://colab.research.google.com/assets/colab-badge.svg\" alt=\"Open In Colab\"/></a>"
      ]
    },
    {
      "cell_type": "markdown",
      "metadata": {
        "id": "2GdWuTidIYhb",
        "colab_type": "text"
      },
      "source": [
        "###Sarinda Samarasinghe"
      ]
    },
    {
      "cell_type": "markdown",
      "metadata": {
        "id": "77CmSCBoGU19",
        "colab_type": "text"
      },
      "source": [
        "#HW1: Multiply Matrices\n",
        "\n",
        "multiply_matrices takes as input a list of numpy arrays and outputs their product if it is possible.\n",
        "\n",
        "If two matrices in the list are incompatible, the first pair is printed in an error message and an empty list is returned. The matrices in the error message are 0-indexed.\n",
        "\n"
      ]
    },
    {
      "cell_type": "markdown",
      "metadata": {
        "id": "sKSsw3SoO9w1",
        "colab_type": "text"
      },
      "source": [
        "**Matrix Compatibility**\n",
        "\n",
        "Given an \\\\(m \\times n\\\\) matrix \\\\(A\\\\), and a \\\\(p \\times q\\\\) matrix \\\\(B\\\\), \\\\(A\\\\) and \\\\(B\\\\) are compatible if \\\\(n = p\\\\). \n",
        "\n",
        "\\begin{equation*}\n",
        "A_{m,n} = \n",
        "\\begin{Bmatrix}\n",
        "a_{1,1} & a_{1,2} & \\cdots & a_{1,n} \\\\\n",
        "a_{2,1} & a_{2,2} & \\cdots & a_{2,n} \\\\\n",
        "\\vdots  & \\vdots  & \\ddots & \\vdots  \\\\\n",
        "a_{m,1} & a_{m,2} & \\cdots & a_{m,n} \n",
        "\\end{Bmatrix}\n",
        ", B_{m,n} = \n",
        "\\begin{Bmatrix}\n",
        "b_{1,1} & b_{1,2} & \\cdots & b_{1,q} \\\\\n",
        "b_{2,1} & b_{2,2} & \\cdots & b_{2,q} \\\\\n",
        "\\vdots  & \\vdots  & \\ddots & \\vdots  \\\\\n",
        "b_{p,1} & b_{p,2} & \\cdots & b_{p,q} \n",
        "\\end{Bmatrix}\n",
        "\\end{equation*}\n",
        "\n",
        "\n",
        "The result of their multiplication is a \\\\(m \\times q\\\\) matrix:\n",
        "\n",
        "\\begin{equation*}\n",
        "A \\times B = \n",
        "\\begin{Bmatrix}\n",
        "c_{1,1} & c_{1,2} & \\cdots & c_{1,p} \\\\\n",
        "c_{2,1} & c_{2,2} & \\cdots & c_{2,p} \\\\\n",
        "\\vdots  & \\vdots  & \\ddots & \\vdots  \\\\\n",
        "c_{c,1} & c_{m,2} & \\cdots & c_{m,p} \n",
        "\\end{Bmatrix}\n",
        "\\end{equation*}"
      ]
    },
    {
      "cell_type": "markdown",
      "metadata": {
        "id": "2fYvK8UlT2aC",
        "colab_type": "text"
      },
      "source": [
        "##Code"
      ]
    },
    {
      "cell_type": "code",
      "metadata": {
        "id": "tdGLWyC2DnvI",
        "colab_type": "code",
        "colab": {}
      },
      "source": [
        "import numpy as np\n",
        "\n",
        "def multiply_matrices(array_list):\n",
        "  # sol stores the first matrix\n",
        "  sol = array_list[0]\n",
        "\n",
        "  # iterates through the rest of the list\n",
        "  i = 1\n",
        "  while i < len(array_list):\n",
        "    # sol accumulates the multiplications if legal, otherwise exception is caught\n",
        "    try:\n",
        "      sol = sol.dot(array_list[i])\n",
        "    except ValueError:\n",
        "      print(\"Error: matrices \" + str(i-1) + \" and \" + str(i) + \" are incompatible for multiplication\")\n",
        "      return []\n",
        "    i = i+1\n",
        "  return sol"
      ],
      "execution_count": 0,
      "outputs": []
    },
    {
      "cell_type": "markdown",
      "metadata": {
        "id": "KFg78AfaIEGc",
        "colab_type": "text"
      },
      "source": [
        "##Testing the function"
      ]
    },
    {
      "cell_type": "markdown",
      "metadata": {
        "id": "9o2Kt3r8ImdF",
        "colab_type": "text"
      },
      "source": [
        "**Standard**"
      ]
    },
    {
      "cell_type": "code",
      "metadata": {
        "id": "GeXbk-JkE7e3",
        "colab_type": "code",
        "colab": {
          "base_uri": "https://localhost:8080/",
          "height": 51
        },
        "outputId": "97ef2cc0-fbd6-4e0b-b03e-3df58be1b392"
      },
      "source": [
        "A = [[2,3], [4,6]]\n",
        "B = [[2,1], [7,8]]\n",
        "input = [np.array(A),np.array(B)]\n",
        "multiply_matrices(input)"
      ],
      "execution_count": 39,
      "outputs": [
        {
          "output_type": "execute_result",
          "data": {
            "text/plain": [
              "array([[25, 26],\n",
              "       [50, 52]])"
            ]
          },
          "metadata": {
            "tags": []
          },
          "execution_count": 39
        }
      ]
    },
    {
      "cell_type": "markdown",
      "metadata": {
        "id": "ZTJhqNjjJQjE",
        "colab_type": "text"
      },
      "source": [
        "**Longer List**\n",
        "\n",
        "\n",
        "The output does not change, since the additional entry is the identity matrix"
      ]
    },
    {
      "cell_type": "code",
      "metadata": {
        "id": "bcdNENFAJRCB",
        "colab_type": "code",
        "colab": {
          "base_uri": "https://localhost:8080/",
          "height": 51
        },
        "outputId": "5d288019-f2d7-48f9-b13d-1842caf405b4"
      },
      "source": [
        "A = [[2,3], [4,6]]\n",
        "B = [[2,1], [7,8]]\n",
        "C = [[1,0], [0,1]]\n",
        "input = [np.array(A),np.array(B),np.array(C)]\n",
        "multiply_matrices(input)"
      ],
      "execution_count": 38,
      "outputs": [
        {
          "output_type": "execute_result",
          "data": {
            "text/plain": [
              "array([[25, 26],\n",
              "       [50, 52]])"
            ]
          },
          "metadata": {
            "tags": []
          },
          "execution_count": 38
        }
      ]
    },
    {
      "cell_type": "markdown",
      "metadata": {
        "id": "kNPGA2DiJnbP",
        "colab_type": "text"
      },
      "source": [
        "**Error Message**\n",
        "\n",
        "Incompatible arrays are 0-indexed"
      ]
    },
    {
      "cell_type": "code",
      "metadata": {
        "id": "AL532_S7Jn3P",
        "colab_type": "code",
        "colab": {
          "base_uri": "https://localhost:8080/",
          "height": 51
        },
        "outputId": "97a62129-7cf4-4623-a135-c36fe971eb3a"
      },
      "source": [
        "A = [[2,3], [4,6]]\n",
        "B = [[2,1], [7,8], [0,0]]\n",
        "C = [[1,0], [0,1]]\n",
        "input = [np.array(A),np.array(B),np.array(C)]\n",
        "multiply_matrices(input)"
      ],
      "execution_count": 37,
      "outputs": [
        {
          "output_type": "stream",
          "text": [
            "Error: matrices 0 and 1 are incompatible for multiplication\n"
          ],
          "name": "stdout"
        },
        {
          "output_type": "execute_result",
          "data": {
            "text/plain": [
              "[]"
            ]
          },
          "metadata": {
            "tags": []
          },
          "execution_count": 37
        }
      ]
    },
    {
      "cell_type": "markdown",
      "metadata": {
        "id": "juk1l17mSj_f",
        "colab_type": "text"
      },
      "source": [
        "**Edge Case**\n",
        "\n",
        "If the list has only 1 matrix, it returns that matrix"
      ]
    },
    {
      "cell_type": "code",
      "metadata": {
        "id": "dQQf4E05SzMP",
        "colab_type": "code",
        "colab": {
          "base_uri": "https://localhost:8080/",
          "height": 51
        },
        "outputId": "caefbf90-dab6-4062-f661-0217ea19fc5d"
      },
      "source": [
        "A = [[2,3], [4,6]]\n",
        "input = [np.array(A)]\n",
        "multiply_matrices(input)"
      ],
      "execution_count": 35,
      "outputs": [
        {
          "output_type": "execute_result",
          "data": {
            "text/plain": [
              "array([[2, 3],\n",
              "       [4, 6]])"
            ]
          },
          "metadata": {
            "tags": []
          },
          "execution_count": 35
        }
      ]
    }
  ]
}