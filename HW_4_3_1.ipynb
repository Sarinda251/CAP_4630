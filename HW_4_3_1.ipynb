{
  "nbformat": 4,
  "nbformat_minor": 0,
  "metadata": {
    "colab": {
      "name": "HW_4_3_1.ipynb",
      "provenance": [],
      "include_colab_link": true
    },
    "kernelspec": {
      "name": "python3",
      "display_name": "Python 3"
    },
    "accelerator": "GPU"
  },
  "cells": [
    {
      "cell_type": "markdown",
      "metadata": {
        "id": "view-in-github",
        "colab_type": "text"
      },
      "source": [
        "<a href=\"https://colab.research.google.com/github/Sarinda251/CAP_4630/blob/master/HW_4_3_1.ipynb\" target=\"_parent\"><img src=\"https://colab.research.google.com/assets/colab-badge.svg\" alt=\"Open In Colab\"/></a>"
      ]
    },
    {
      "cell_type": "markdown",
      "metadata": {
        "id": "KSrgMJ5vKFzQ",
        "colab_type": "text"
      },
      "source": [
        "#Homework 4, Problem 3, Notebook 1"
      ]
    },
    {
      "cell_type": "markdown",
      "metadata": {
        "id": "TIW7bZaAK-Hf",
        "colab_type": "text"
      },
      "source": [
        "The convnet I chose was Mobile net, and I added a small 2 by 2 maxpooling layer to the classifier to group chunks of pixels together"
      ]
    },
    {
      "cell_type": "markdown",
      "metadata": {
        "id": "BqIG8QHMLNOn",
        "colab_type": "text"
      },
      "source": [
        "## Download the data"
      ]
    },
    {
      "cell_type": "markdown",
      "metadata": {
        "id": "t3I1jd7cKV6_",
        "colab_type": "text"
      },
      "source": [
        "Download the example data, a zip. of 2,000 JPG pictures of cats and dogs and extract it locally in ```/tmp```.\n",
        "\n"
      ]
    },
    {
      "cell_type": "code",
      "metadata": {
        "id": "JWjprHEXJ5Qi",
        "colab_type": "code",
        "outputId": "ad41c69d-b334-469e-884d-0645b0ddd037",
        "colab": {
          "base_uri": "https://localhost:8080/",
          "height": 204
        }
      },
      "source": [
        "!wget --no-check-certificate \\\n",
        "    https://storage.googleapis.com/mledu-datasets/cats_and_dogs_filtered.zip \\\n",
        "    -O /tmp/cats_and_dogs_filtered.zip"
      ],
      "execution_count": 1,
      "outputs": [
        {
          "output_type": "stream",
          "text": [
            "--2020-04-21 20:06:00--  https://storage.googleapis.com/mledu-datasets/cats_and_dogs_filtered.zip\n",
            "Resolving storage.googleapis.com (storage.googleapis.com)... 108.177.125.128, 2404:6800:4008:c04::80\n",
            "Connecting to storage.googleapis.com (storage.googleapis.com)|108.177.125.128|:443... connected.\n",
            "HTTP request sent, awaiting response... 200 OK\n",
            "Length: 68606236 (65M) [application/zip]\n",
            "Saving to: ‘/tmp/cats_and_dogs_filtered.zip’\n",
            "\n",
            "/tmp/cats_and_dogs_ 100%[===================>]  65.43M   142MB/s    in 0.5s    \n",
            "\n",
            "2020-04-21 20:06:00 (142 MB/s) - ‘/tmp/cats_and_dogs_filtered.zip’ saved [68606236/68606236]\n",
            "\n"
          ],
          "name": "stdout"
        }
      ]
    },
    {
      "cell_type": "code",
      "metadata": {
        "id": "WvoHtdA-K6Rw",
        "colab_type": "code",
        "colab": {}
      },
      "source": [
        "import os\n",
        "import zipfile\n",
        "\n",
        "local_zip = '/tmp/cats_and_dogs_filtered.zip'\n",
        "zip_ref = zipfile.ZipFile(local_zip, 'r')\n",
        "zip_ref.extractall('/tmp')\n",
        "zip_ref.close()"
      ],
      "execution_count": 0,
      "outputs": []
    },
    {
      "cell_type": "markdown",
      "metadata": {
        "id": "shZiOBnJMyy_",
        "colab_type": "text"
      },
      "source": [
        "Note that the data provided by Google does not have a test set."
      ]
    },
    {
      "cell_type": "code",
      "metadata": {
        "id": "dL8ikM89LlsH",
        "colab_type": "code",
        "colab": {}
      },
      "source": [
        "base_dir = '/tmp/cats_and_dogs_filtered'\n",
        "train_dir = os.path.join(base_dir, 'train')\n",
        "validation_dir = os.path.join(base_dir, 'validation')\n",
        "\n",
        "# Directory with our training cat pictures\n",
        "train_cats_dir = os.path.join(train_dir, 'cats')\n",
        "\n",
        "# Directory with our training dog pictures\n",
        "train_dogs_dir = os.path.join(train_dir, 'dogs')\n",
        "\n",
        "# Directory with our validation cat pictures\n",
        "validation_cats_dir = os.path.join(validation_dir, 'cats')\n",
        "\n",
        "# Directory with our validation dog pictures\n",
        "validation_dogs_dir = os.path.join(validation_dir, 'dogs')"
      ],
      "execution_count": 0,
      "outputs": []
    },
    {
      "cell_type": "markdown",
      "metadata": {
        "id": "inyP8bcdXnn-",
        "colab_type": "text"
      },
      "source": [
        "## Build network with VGG16 convolution base and custom densely connected layers"
      ]
    },
    {
      "cell_type": "markdown",
      "metadata": {
        "id": "kQ48W5T9rHWu",
        "colab_type": "text"
      },
      "source": [
        "### Load the convolutional base"
      ]
    },
    {
      "cell_type": "code",
      "metadata": {
        "id": "Y0FgtANCXm_H",
        "colab_type": "code",
        "outputId": "762a89b3-9acd-4f2d-abb8-4b6972fd41ee",
        "colab": {
          "base_uri": "https://localhost:8080/",
          "height": 122
        }
      },
      "source": [
        "from keras.applications import MobileNet\n",
        "\n",
        "conv_base = MobileNet(\n",
        "    weights='imagenet', \n",
        "    include_top=False, \n",
        "    input_shape=(150, 150, 3))"
      ],
      "execution_count": 4,
      "outputs": [
        {
          "output_type": "stream",
          "text": [
            "Using TensorFlow backend.\n",
            "/usr/local/lib/python3.6/dist-packages/keras_applications/mobilenet.py:207: UserWarning: `input_shape` is undefined or non-square, or `rows` is not in [128, 160, 192, 224]. Weights for input shape (224, 224) will be loaded as the default.\n",
            "  warnings.warn('`input_shape` is undefined or non-square, '\n"
          ],
          "name": "stderr"
        },
        {
          "output_type": "stream",
          "text": [
            "Downloading data from https://github.com/fchollet/deep-learning-models/releases/download/v0.6/mobilenet_1_0_224_tf_no_top.h5\n",
            "17227776/17225924 [==============================] - 2s 0us/step\n"
          ],
          "name": "stdout"
        }
      ]
    },
    {
      "cell_type": "markdown",
      "metadata": {
        "id": "D6OBHOO9q1ou",
        "colab_type": "text"
      },
      "source": [
        "### Freeze the convolutional base"
      ]
    },
    {
      "cell_type": "code",
      "metadata": {
        "id": "UleRo4Dpq6Ld",
        "colab_type": "code",
        "colab": {}
      },
      "source": [
        "conv_base.trainable = False"
      ],
      "execution_count": 0,
      "outputs": []
    },
    {
      "cell_type": "markdown",
      "metadata": {
        "id": "Qfx6PqhPrb7Q",
        "colab_type": "text"
      },
      "source": [
        "### Concatenate the convolutional base and densely connected layers"
      ]
    },
    {
      "cell_type": "code",
      "metadata": {
        "id": "qUpmocDAO3xm",
        "colab_type": "code",
        "colab": {}
      },
      "source": [
        "from keras import layers\n",
        "from keras import models\n",
        "from keras import optimizers\n",
        "\n",
        "model = models.Sequential()\n",
        "model.add(conv_base)\n",
        "model.add(layers.MaxPooling2D(2, 2))\n",
        "model.add(layers.Flatten())\n",
        "model.add(layers.Dense(256, activation='relu'))\n",
        "#model.add(layers.Dropout(0.1))\n",
        "model.add(layers.Dense(1, activation='sigmoid'))"
      ],
      "execution_count": 0,
      "outputs": []
    },
    {
      "cell_type": "code",
      "metadata": {
        "id": "Fh6gZSeAjF7c",
        "colab_type": "code",
        "outputId": "7ff27047-dfbf-487c-a007-1a51c78ebdcf",
        "colab": {
          "base_uri": "https://localhost:8080/",
          "height": 323
        }
      },
      "source": [
        "model.summary()"
      ],
      "execution_count": 13,
      "outputs": [
        {
          "output_type": "stream",
          "text": [
            "Model: \"sequential_7\"\n",
            "_________________________________________________________________\n",
            "Layer (type)                 Output Shape              Param #   \n",
            "=================================================================\n",
            "mobilenet_1.00_224 (Model)   (None, 4, 4, 1024)        3228864   \n",
            "_________________________________________________________________\n",
            "max_pooling2d_3 (MaxPooling2 (None, 2, 2, 1024)        0         \n",
            "_________________________________________________________________\n",
            "flatten_7 (Flatten)          (None, 4096)              0         \n",
            "_________________________________________________________________\n",
            "dense_3 (Dense)              (None, 256)               1048832   \n",
            "_________________________________________________________________\n",
            "dense_4 (Dense)              (None, 1)                 257       \n",
            "=================================================================\n",
            "Total params: 4,277,953\n",
            "Trainable params: 1,049,089\n",
            "Non-trainable params: 3,228,864\n",
            "_________________________________________________________________\n"
          ],
          "name": "stdout"
        }
      ]
    },
    {
      "cell_type": "markdown",
      "metadata": {
        "id": "eZjBiddhi5Qj",
        "colab_type": "text"
      },
      "source": [
        "## Train the model end to end with frozen convolutional base"
      ]
    },
    {
      "cell_type": "code",
      "metadata": {
        "id": "tfAQlC2Oi41L",
        "colab_type": "code",
        "outputId": "ae957803-dee5-48a8-db9d-94134f5b2da5",
        "colab": {
          "base_uri": "https://localhost:8080/",
          "height": 1000
        }
      },
      "source": [
        "from keras.preprocessing.image import ImageDataGenerator\n",
        "from keras import optimizers\n",
        "\n",
        "# data augmentation\n",
        "\n",
        "train_datagen = ImageDataGenerator(\n",
        "    rescale=1./255, \n",
        "    rotation_range=40,\n",
        "    width_shift_range=0.2,\n",
        "    height_shift_range=0.2,\n",
        "    shear_range=0.2,\n",
        "    zoom_range=0.2,\n",
        "    horizontal_flip=True,\n",
        "    fill_mode='nearest'\n",
        ")\n",
        "\n",
        "train_generator = train_datagen.flow_from_directory(\n",
        "    train_dir,\n",
        "    target_size=(150, 150),\n",
        "    batch_size=20,\n",
        "    class_mode='binary')\n",
        "\n",
        "validation_datagen = ImageDataGenerator(rescale=1./255)\n",
        "\n",
        "validation_generator = validation_datagen.flow_from_directory(\n",
        "    validation_dir,\n",
        "    target_size=(150, 150),\n",
        "    batch_size=20,\n",
        "    class_mode='binary')\n",
        "\n",
        "# compile model\n",
        "\n",
        "model.compile(\n",
        "    loss='binary_crossentropy', \n",
        "    optimizer=optimizers.RMSprop(lr=2e-5), \n",
        "    metrics=['acc'])\n",
        "\n",
        "# train\n",
        "\n",
        "history = model.fit_generator(\n",
        "    train_generator,\n",
        "    steps_per_epoch=100,\n",
        "    epochs=30,\n",
        "    validation_data=validation_generator,\n",
        "    validation_steps=50\n",
        ")"
      ],
      "execution_count": 14,
      "outputs": [
        {
          "output_type": "stream",
          "text": [
            "Found 2000 images belonging to 2 classes.\n",
            "Found 1000 images belonging to 2 classes.\n",
            "Epoch 1/30\n",
            "100/100 [==============================] - 23s 233ms/step - loss: 0.6170 - acc: 0.7250 - val_loss: 0.5206 - val_acc: 0.9140\n",
            "Epoch 2/30\n",
            "100/100 [==============================] - 16s 158ms/step - loss: 0.3889 - acc: 0.8365 - val_loss: 0.1296 - val_acc: 0.9370\n",
            "Epoch 3/30\n",
            "100/100 [==============================] - 16s 158ms/step - loss: 0.3430 - acc: 0.8650 - val_loss: 0.0141 - val_acc: 0.9440\n",
            "Epoch 4/30\n",
            "100/100 [==============================] - 16s 160ms/step - loss: 0.2902 - acc: 0.8830 - val_loss: 0.3228 - val_acc: 0.9470\n",
            "Epoch 5/30\n",
            "100/100 [==============================] - 16s 161ms/step - loss: 0.2770 - acc: 0.8800 - val_loss: 0.0544 - val_acc: 0.9510\n",
            "Epoch 6/30\n",
            "100/100 [==============================] - 16s 158ms/step - loss: 0.2975 - acc: 0.8895 - val_loss: 0.1513 - val_acc: 0.9560\n",
            "Epoch 7/30\n",
            "100/100 [==============================] - 16s 159ms/step - loss: 0.2798 - acc: 0.8805 - val_loss: 0.4132 - val_acc: 0.9440\n",
            "Epoch 8/30\n",
            "100/100 [==============================] - 16s 158ms/step - loss: 0.2478 - acc: 0.9035 - val_loss: 0.2012 - val_acc: 0.9560\n",
            "Epoch 9/30\n",
            "100/100 [==============================] - 16s 158ms/step - loss: 0.2595 - acc: 0.8975 - val_loss: 0.1090 - val_acc: 0.9490\n",
            "Epoch 10/30\n",
            "100/100 [==============================] - 16s 158ms/step - loss: 0.2406 - acc: 0.8975 - val_loss: 0.1013 - val_acc: 0.9590\n",
            "Epoch 11/30\n",
            "100/100 [==============================] - 16s 157ms/step - loss: 0.2521 - acc: 0.8970 - val_loss: 0.3681 - val_acc: 0.9570\n",
            "Epoch 12/30\n",
            "100/100 [==============================] - 16s 158ms/step - loss: 0.2340 - acc: 0.9000 - val_loss: 0.3403 - val_acc: 0.9590\n",
            "Epoch 13/30\n",
            "100/100 [==============================] - 16s 156ms/step - loss: 0.2056 - acc: 0.9140 - val_loss: 0.0872 - val_acc: 0.9590\n",
            "Epoch 14/30\n",
            "100/100 [==============================] - 16s 157ms/step - loss: 0.2429 - acc: 0.9085 - val_loss: 0.0013 - val_acc: 0.9610\n",
            "Epoch 15/30\n",
            "100/100 [==============================] - 16s 157ms/step - loss: 0.2490 - acc: 0.9010 - val_loss: 0.0562 - val_acc: 0.9560\n",
            "Epoch 16/30\n",
            "100/100 [==============================] - 16s 156ms/step - loss: 0.2164 - acc: 0.9150 - val_loss: 5.5591e-04 - val_acc: 0.9590\n",
            "Epoch 17/30\n",
            "100/100 [==============================] - 16s 156ms/step - loss: 0.2057 - acc: 0.9115 - val_loss: 0.1535 - val_acc: 0.9600\n",
            "Epoch 18/30\n",
            "100/100 [==============================] - 16s 156ms/step - loss: 0.2293 - acc: 0.9040 - val_loss: 0.2244 - val_acc: 0.9600\n",
            "Epoch 19/30\n",
            "100/100 [==============================] - 16s 156ms/step - loss: 0.2146 - acc: 0.9140 - val_loss: 0.0393 - val_acc: 0.9630\n",
            "Epoch 20/30\n",
            "100/100 [==============================] - 16s 157ms/step - loss: 0.2161 - acc: 0.9105 - val_loss: 0.0079 - val_acc: 0.9560\n",
            "Epoch 21/30\n",
            "100/100 [==============================] - 16s 156ms/step - loss: 0.1982 - acc: 0.9130 - val_loss: 0.0935 - val_acc: 0.9650\n",
            "Epoch 22/30\n",
            "100/100 [==============================] - 16s 156ms/step - loss: 0.2017 - acc: 0.9175 - val_loss: 0.0937 - val_acc: 0.9650\n",
            "Epoch 23/30\n",
            "100/100 [==============================] - 16s 156ms/step - loss: 0.1929 - acc: 0.9150 - val_loss: 0.1460 - val_acc: 0.9570\n",
            "Epoch 24/30\n",
            "100/100 [==============================] - 16s 156ms/step - loss: 0.2151 - acc: 0.9150 - val_loss: 0.0608 - val_acc: 0.9650\n",
            "Epoch 25/30\n",
            "100/100 [==============================] - 16s 160ms/step - loss: 0.1783 - acc: 0.9285 - val_loss: 0.0157 - val_acc: 0.9660\n",
            "Epoch 26/30\n",
            "100/100 [==============================] - 16s 156ms/step - loss: 0.2067 - acc: 0.9160 - val_loss: 0.0107 - val_acc: 0.9640\n",
            "Epoch 27/30\n",
            "100/100 [==============================] - 16s 156ms/step - loss: 0.1730 - acc: 0.9300 - val_loss: 0.2147 - val_acc: 0.9650\n",
            "Epoch 28/30\n",
            "100/100 [==============================] - 16s 157ms/step - loss: 0.1869 - acc: 0.9215 - val_loss: 0.4656 - val_acc: 0.9620\n",
            "Epoch 29/30\n",
            "100/100 [==============================] - 16s 155ms/step - loss: 0.1994 - acc: 0.9140 - val_loss: 0.0046 - val_acc: 0.9640\n",
            "Epoch 30/30\n",
            "100/100 [==============================] - 16s 156ms/step - loss: 0.1943 - acc: 0.9230 - val_loss: 0.0066 - val_acc: 0.9670\n"
          ],
          "name": "stdout"
        }
      ]
    },
    {
      "cell_type": "markdown",
      "metadata": {
        "id": "xqRc_vHKc92U",
        "colab_type": "text"
      },
      "source": [
        "## Display curves of loss and accuracy during training"
      ]
    },
    {
      "cell_type": "code",
      "metadata": {
        "id": "ybWwdzz9bwuQ",
        "colab_type": "code",
        "outputId": "f91cda47-d057-4c0f-ae0b-d452357b35a5",
        "colab": {
          "base_uri": "https://localhost:8080/",
          "height": 545
        }
      },
      "source": [
        "%matplotlib inline\n",
        "\n",
        "import matplotlib.pyplot as plt\n",
        "\n",
        "acc = history.history['acc']\n",
        "val_acc = history.history['val_acc']\n",
        "\n",
        "loss = history.history['loss']\n",
        "val_loss = history.history['val_loss']\n",
        "\n",
        "epochs = range(1, len(acc) + 1)\n",
        "\n",
        "# training and validation accuracy\n",
        "\n",
        "plt.plot(epochs, acc, 'bo', label='training acc')\n",
        "plt.plot(epochs, val_acc, 'b', label='validation acc')\n",
        "plt.title('training and validation accuracy')\n",
        "plt.legend()\n",
        "\n",
        "plt.figure()\n",
        "\n",
        "# training and validation loss\n",
        "\n",
        "plt.plot(epochs, loss, 'bo', label='training loss')\n",
        "plt.plot(epochs, val_loss, 'b', label='validation loss')\n",
        "plt.title('training and validation loss')\n",
        "plt.legend()\n",
        "\n",
        "plt.show()"
      ],
      "execution_count": 15,
      "outputs": [
        {
          "output_type": "display_data",
          "data": {
            "image/png": "[encoded data removed]",
            "text/plain": [
              "<Figure size 432x288 with 1 Axes>"
            ]
          },
          "metadata": {
            "tags": [],
            "needs_background": "light"
          }
        },
        {
          "output_type": "display_data",
          "data": {
            "image/png": "[encoded data removed]",
            "text/plain": [
              "<Figure size 432x288 with 1 Axes>"
            ]
          },
          "metadata": {
            "tags": [],
            "needs_background": "light"
          }
        }
      ]
    },
    {
      "cell_type": "markdown",
      "metadata": {
        "id": "lOWsxpey8lN0",
        "colab_type": "text"
      },
      "source": [
        "## Fine-tuning"
      ]
    },
    {
      "cell_type": "code",
      "metadata": {
        "id": "PwkVMx8N8qMw",
        "colab_type": "code",
        "colab": {}
      },
      "source": [
        "conv_base.trainable = True\n",
        "\n",
        "set_trainable = False\n",
        "for layer in conv_base.layers:\n",
        "  if layer.name == 'block5_conv1':\n",
        "    set_trainable = True\n",
        "  if set_trainable:\n",
        "    layer.trainable = True\n",
        "  else:\n",
        "    layer.trainable = False"
      ],
      "execution_count": 0,
      "outputs": []
    },
    {
      "cell_type": "code",
      "metadata": {
        "id": "DyN-J7rs9cvo",
        "colab_type": "code",
        "outputId": "36efb3a7-6b1f-4fd1-92fe-1d81d85fff27",
        "colab": {
          "base_uri": "https://localhost:8080/",
          "height": 1000
        }
      },
      "source": [
        "# compile model\n",
        "\n",
        "model.compile(\n",
        "    loss='binary_crossentropy',\n",
        "    #\n",
        "    # choose a smaller learning rate\n",
        "    #\n",
        "    optimizer=optimizers.RMSprop(lr=1e-5), \n",
        "    metrics=['acc'])\n",
        "\n",
        "# train\n",
        "\n",
        "history = model.fit_generator(\n",
        "    train_generator,\n",
        "    steps_per_epoch=100,\n",
        "    epochs=100,\n",
        "    validation_data=validation_generator,\n",
        "    validation_steps=50)"
      ],
      "execution_count": 17,
      "outputs": [
        {
          "output_type": "stream",
          "text": [
            "Epoch 1/100\n",
            "100/100 [==============================] - 18s 181ms/step - loss: 0.1905 - acc: 0.9250 - val_loss: 0.0467 - val_acc: 0.9600\n",
            "Epoch 2/100\n",
            "100/100 [==============================] - 16s 157ms/step - loss: 0.1788 - acc: 0.9275 - val_loss: 0.2279 - val_acc: 0.9630\n",
            "Epoch 3/100\n",
            "100/100 [==============================] - 16s 157ms/step - loss: 0.1747 - acc: 0.9350 - val_loss: 0.0062 - val_acc: 0.9560\n",
            "Epoch 4/100\n",
            "100/100 [==============================] - 16s 158ms/step - loss: 0.1757 - acc: 0.9265 - val_loss: 0.0922 - val_acc: 0.9540\n",
            "Epoch 5/100\n",
            "100/100 [==============================] - 16s 160ms/step - loss: 0.1867 - acc: 0.9275 - val_loss: 0.0095 - val_acc: 0.9560\n",
            "Epoch 6/100\n",
            "100/100 [==============================] - 16s 159ms/step - loss: 0.1770 - acc: 0.9320 - val_loss: 0.0685 - val_acc: 0.9520\n",
            "Epoch 7/100\n",
            "100/100 [==============================] - 16s 157ms/step - loss: 0.1850 - acc: 0.9175 - val_loss: 0.0098 - val_acc: 0.9500\n",
            "Epoch 8/100\n",
            "100/100 [==============================] - 16s 156ms/step - loss: 0.1878 - acc: 0.9365 - val_loss: 0.1395 - val_acc: 0.9540\n",
            "Epoch 9/100\n",
            "100/100 [==============================] - 16s 156ms/step - loss: 0.1693 - acc: 0.9295 - val_loss: 0.3794 - val_acc: 0.9490\n",
            "Epoch 10/100\n",
            "100/100 [==============================] - 16s 158ms/step - loss: 0.1862 - acc: 0.9240 - val_loss: 0.2075 - val_acc: 0.9530\n",
            "Epoch 11/100\n",
            "100/100 [==============================] - 16s 156ms/step - loss: 0.1672 - acc: 0.9385 - val_loss: 0.3302 - val_acc: 0.9520\n",
            "Epoch 12/100\n",
            "100/100 [==============================] - 16s 158ms/step - loss: 0.1681 - acc: 0.9305 - val_loss: 0.2083 - val_acc: 0.9520\n",
            "Epoch 13/100\n",
            "100/100 [==============================] - 16s 158ms/step - loss: 0.1678 - acc: 0.9255 - val_loss: 0.0068 - val_acc: 0.9520\n",
            "Epoch 14/100\n",
            "100/100 [==============================] - 16s 159ms/step - loss: 0.1790 - acc: 0.9240 - val_loss: 0.0221 - val_acc: 0.9520\n",
            "Epoch 15/100\n",
            "100/100 [==============================] - 16s 161ms/step - loss: 0.1808 - acc: 0.9295 - val_loss: 0.1735 - val_acc: 0.9550\n",
            "Epoch 16/100\n",
            "100/100 [==============================] - 16s 158ms/step - loss: 0.1820 - acc: 0.9220 - val_loss: 0.0571 - val_acc: 0.9510\n",
            "Epoch 17/100\n",
            "100/100 [==============================] - 16s 159ms/step - loss: 0.1881 - acc: 0.9205 - val_loss: 0.0623 - val_acc: 0.9550\n",
            "Epoch 18/100\n",
            "100/100 [==============================] - 16s 158ms/step - loss: 0.1729 - acc: 0.9280 - val_loss: 0.1133 - val_acc: 0.9520\n",
            "Epoch 19/100\n",
            "100/100 [==============================] - 16s 158ms/step - loss: 0.1736 - acc: 0.9315 - val_loss: 0.0277 - val_acc: 0.9460\n",
            "Epoch 20/100\n",
            "100/100 [==============================] - 16s 159ms/step - loss: 0.2122 - acc: 0.9175 - val_loss: 0.3894 - val_acc: 0.9460\n",
            "Epoch 21/100\n",
            "100/100 [==============================] - 16s 158ms/step - loss: 0.1631 - acc: 0.9355 - val_loss: 0.0395 - val_acc: 0.9490\n",
            "Epoch 22/100\n",
            "100/100 [==============================] - 16s 158ms/step - loss: 0.1692 - acc: 0.9315 - val_loss: 0.0486 - val_acc: 0.9550\n",
            "Epoch 23/100\n",
            "100/100 [==============================] - 16s 157ms/step - loss: 0.1604 - acc: 0.9330 - val_loss: 0.3671 - val_acc: 0.9500\n",
            "Epoch 24/100\n",
            "100/100 [==============================] - 16s 157ms/step - loss: 0.1682 - acc: 0.9285 - val_loss: 0.0733 - val_acc: 0.9450\n",
            "Epoch 25/100\n",
            "100/100 [==============================] - 16s 159ms/step - loss: 0.1481 - acc: 0.9470 - val_loss: 0.0429 - val_acc: 0.9550\n",
            "Epoch 26/100\n",
            "100/100 [==============================] - 16s 158ms/step - loss: 0.1686 - acc: 0.9345 - val_loss: 0.0725 - val_acc: 0.9530\n",
            "Epoch 27/100\n",
            "100/100 [==============================] - 16s 157ms/step - loss: 0.1898 - acc: 0.9270 - val_loss: 0.1169 - val_acc: 0.9560\n",
            "Epoch 28/100\n",
            "100/100 [==============================] - 16s 158ms/step - loss: 0.1567 - acc: 0.9375 - val_loss: 0.0722 - val_acc: 0.9500\n",
            "Epoch 29/100\n",
            "100/100 [==============================] - 16s 157ms/step - loss: 0.1689 - acc: 0.9335 - val_loss: 0.2149 - val_acc: 0.9500\n",
            "Epoch 30/100\n",
            "100/100 [==============================] - 16s 159ms/step - loss: 0.1549 - acc: 0.9360 - val_loss: 0.2171 - val_acc: 0.9560\n",
            "Epoch 31/100\n",
            "100/100 [==============================] - 16s 157ms/step - loss: 0.1659 - acc: 0.9330 - val_loss: 0.0646 - val_acc: 0.9510\n",
            "Epoch 32/100\n",
            "100/100 [==============================] - 16s 157ms/step - loss: 0.1821 - acc: 0.9230 - val_loss: 0.0352 - val_acc: 0.9510\n",
            "Epoch 33/100\n",
            "100/100 [==============================] - 16s 158ms/step - loss: 0.1617 - acc: 0.9335 - val_loss: 0.0220 - val_acc: 0.9530\n",
            "Epoch 34/100\n",
            "100/100 [==============================] - 16s 159ms/step - loss: 0.1793 - acc: 0.9240 - val_loss: 0.0579 - val_acc: 0.9520\n",
            "Epoch 35/100\n",
            "100/100 [==============================] - 16s 158ms/step - loss: 0.1712 - acc: 0.9350 - val_loss: 0.0570 - val_acc: 0.9560\n",
            "Epoch 36/100\n",
            "100/100 [==============================] - 16s 159ms/step - loss: 0.1522 - acc: 0.9380 - val_loss: 0.0088 - val_acc: 0.9510\n",
            "Epoch 37/100\n",
            "100/100 [==============================] - 16s 156ms/step - loss: 0.1707 - acc: 0.9270 - val_loss: 0.1620 - val_acc: 0.9470\n",
            "Epoch 38/100\n",
            "100/100 [==============================] - 16s 157ms/step - loss: 0.1752 - acc: 0.9280 - val_loss: 0.1426 - val_acc: 0.9520\n",
            "Epoch 39/100\n",
            "100/100 [==============================] - 16s 157ms/step - loss: 0.1507 - acc: 0.9425 - val_loss: 0.1042 - val_acc: 0.9550\n",
            "Epoch 40/100\n",
            "100/100 [==============================] - 16s 158ms/step - loss: 0.1464 - acc: 0.9470 - val_loss: 0.0081 - val_acc: 0.9490\n",
            "Epoch 41/100\n",
            "100/100 [==============================] - 16s 158ms/step - loss: 0.1600 - acc: 0.9355 - val_loss: 0.2268 - val_acc: 0.9500\n",
            "Epoch 42/100\n",
            "100/100 [==============================] - 16s 158ms/step - loss: 0.1669 - acc: 0.9290 - val_loss: 0.1509 - val_acc: 0.9550\n",
            "Epoch 43/100\n",
            "100/100 [==============================] - 16s 157ms/step - loss: 0.1531 - acc: 0.9430 - val_loss: 0.1226 - val_acc: 0.9470\n",
            "Epoch 44/100\n",
            "100/100 [==============================] - 16s 158ms/step - loss: 0.1771 - acc: 0.9365 - val_loss: 0.0209 - val_acc: 0.9510\n",
            "Epoch 45/100\n",
            "100/100 [==============================] - 16s 157ms/step - loss: 0.1718 - acc: 0.9295 - val_loss: 0.1783 - val_acc: 0.9500\n",
            "Epoch 46/100\n",
            "100/100 [==============================] - 16s 158ms/step - loss: 0.1488 - acc: 0.9340 - val_loss: 0.0573 - val_acc: 0.9470\n",
            "Epoch 47/100\n",
            "100/100 [==============================] - 16s 157ms/step - loss: 0.1510 - acc: 0.9405 - val_loss: 0.1504 - val_acc: 0.9590\n",
            "Epoch 48/100\n",
            "100/100 [==============================] - 16s 157ms/step - loss: 0.1364 - acc: 0.9400 - val_loss: 0.5069 - val_acc: 0.9520\n",
            "Epoch 49/100\n",
            "100/100 [==============================] - 16s 157ms/step - loss: 0.1443 - acc: 0.9425 - val_loss: 0.1539 - val_acc: 0.9500\n",
            "Epoch 50/100\n",
            "100/100 [==============================] - 16s 157ms/step - loss: 0.1717 - acc: 0.9280 - val_loss: 0.0623 - val_acc: 0.9540\n",
            "Epoch 51/100\n",
            "100/100 [==============================] - 16s 159ms/step - loss: 0.1536 - acc: 0.9305 - val_loss: 0.2879 - val_acc: 0.9530\n",
            "Epoch 52/100\n",
            "100/100 [==============================] - 16s 157ms/step - loss: 0.1596 - acc: 0.9325 - val_loss: 0.0188 - val_acc: 0.9490\n",
            "Epoch 53/100\n",
            "100/100 [==============================] - 16s 156ms/step - loss: 0.1397 - acc: 0.9435 - val_loss: 0.0365 - val_acc: 0.9570\n",
            "Epoch 54/100\n",
            "100/100 [==============================] - 16s 160ms/step - loss: 0.1547 - acc: 0.9325 - val_loss: 0.0789 - val_acc: 0.9520\n",
            "Epoch 55/100\n",
            "100/100 [==============================] - 16s 158ms/step - loss: 0.1570 - acc: 0.9365 - val_loss: 0.2100 - val_acc: 0.9500\n",
            "Epoch 56/100\n",
            "100/100 [==============================] - 16s 159ms/step - loss: 0.1613 - acc: 0.9370 - val_loss: 0.0273 - val_acc: 0.9490\n",
            "Epoch 57/100\n",
            "100/100 [==============================] - 16s 157ms/step - loss: 0.1416 - acc: 0.9475 - val_loss: 0.0853 - val_acc: 0.9490\n",
            "Epoch 58/100\n",
            "100/100 [==============================] - 16s 157ms/step - loss: 0.1481 - acc: 0.9390 - val_loss: 0.0975 - val_acc: 0.9500\n",
            "Epoch 59/100\n",
            "100/100 [==============================] - 16s 158ms/step - loss: 0.1541 - acc: 0.9425 - val_loss: 0.1108 - val_acc: 0.9470\n",
            "Epoch 60/100\n",
            "100/100 [==============================] - 16s 157ms/step - loss: 0.1526 - acc: 0.9400 - val_loss: 0.0268 - val_acc: 0.9490\n",
            "Epoch 61/100\n",
            "100/100 [==============================] - 16s 159ms/step - loss: 0.1508 - acc: 0.9425 - val_loss: 0.0616 - val_acc: 0.9530\n",
            "Epoch 62/100\n",
            "100/100 [==============================] - 16s 158ms/step - loss: 0.1555 - acc: 0.9435 - val_loss: 0.0036 - val_acc: 0.9500\n",
            "Epoch 63/100\n",
            "100/100 [==============================] - 16s 158ms/step - loss: 0.1574 - acc: 0.9350 - val_loss: 0.0840 - val_acc: 0.9530\n",
            "Epoch 64/100\n",
            "100/100 [==============================] - 16s 157ms/step - loss: 0.1493 - acc: 0.9430 - val_loss: 0.0497 - val_acc: 0.9510\n",
            "Epoch 65/100\n",
            "100/100 [==============================] - 16s 157ms/step - loss: 0.1682 - acc: 0.9280 - val_loss: 0.0080 - val_acc: 0.9560\n",
            "Epoch 66/100\n",
            "100/100 [==============================] - 16s 159ms/step - loss: 0.1437 - acc: 0.9355 - val_loss: 0.1815 - val_acc: 0.9460\n",
            "Epoch 67/100\n",
            "100/100 [==============================] - 16s 157ms/step - loss: 0.1725 - acc: 0.9280 - val_loss: 0.0544 - val_acc: 0.9500\n",
            "Epoch 68/100\n",
            "100/100 [==============================] - 16s 158ms/step - loss: 0.1452 - acc: 0.9420 - val_loss: 0.1954 - val_acc: 0.9500\n",
            "Epoch 69/100\n",
            "100/100 [==============================] - 16s 157ms/step - loss: 0.1515 - acc: 0.9415 - val_loss: 0.0540 - val_acc: 0.9530\n",
            "Epoch 70/100\n",
            "100/100 [==============================] - 16s 157ms/step - loss: 0.1336 - acc: 0.9425 - val_loss: 0.2861 - val_acc: 0.9530\n",
            "Epoch 71/100\n",
            "100/100 [==============================] - 16s 158ms/step - loss: 0.1612 - acc: 0.9345 - val_loss: 0.2299 - val_acc: 0.9480\n",
            "Epoch 72/100\n",
            "100/100 [==============================] - 16s 158ms/step - loss: 0.1580 - acc: 0.9390 - val_loss: 0.1331 - val_acc: 0.9540\n",
            "Epoch 73/100\n",
            "100/100 [==============================] - 16s 159ms/step - loss: 0.1403 - acc: 0.9420 - val_loss: 0.0617 - val_acc: 0.9500\n",
            "Epoch 74/100\n",
            "100/100 [==============================] - 16s 158ms/step - loss: 0.1473 - acc: 0.9380 - val_loss: 0.1127 - val_acc: 0.9550\n",
            "Epoch 75/100\n",
            "100/100 [==============================] - 16s 159ms/step - loss: 0.1607 - acc: 0.9370 - val_loss: 0.1612 - val_acc: 0.9480\n",
            "Epoch 76/100\n",
            "100/100 [==============================] - 16s 158ms/step - loss: 0.1335 - acc: 0.9430 - val_loss: 0.1444 - val_acc: 0.9470\n",
            "Epoch 77/100\n",
            "100/100 [==============================] - 16s 157ms/step - loss: 0.1438 - acc: 0.9425 - val_loss: 0.0339 - val_acc: 0.9480\n",
            "Epoch 78/100\n",
            "100/100 [==============================] - 16s 157ms/step - loss: 0.1469 - acc: 0.9375 - val_loss: 0.1972 - val_acc: 0.9470\n",
            "Epoch 79/100\n",
            "100/100 [==============================] - 16s 157ms/step - loss: 0.1498 - acc: 0.9370 - val_loss: 0.2154 - val_acc: 0.9490\n",
            "Epoch 80/100\n",
            "100/100 [==============================] - 16s 156ms/step - loss: 0.1719 - acc: 0.9385 - val_loss: 0.1608 - val_acc: 0.9430\n",
            "Epoch 81/100\n",
            "100/100 [==============================] - 16s 157ms/step - loss: 0.1405 - acc: 0.9425 - val_loss: 0.0936 - val_acc: 0.9560\n",
            "Epoch 82/100\n",
            "100/100 [==============================] - 16s 157ms/step - loss: 0.1298 - acc: 0.9485 - val_loss: 0.1150 - val_acc: 0.9460\n",
            "Epoch 83/100\n",
            "100/100 [==============================] - 16s 156ms/step - loss: 0.1412 - acc: 0.9415 - val_loss: 0.0842 - val_acc: 0.9560\n",
            "Epoch 84/100\n",
            "100/100 [==============================] - 16s 157ms/step - loss: 0.1481 - acc: 0.9425 - val_loss: 0.0825 - val_acc: 0.9510\n",
            "Epoch 85/100\n",
            "100/100 [==============================] - 16s 156ms/step - loss: 0.1471 - acc: 0.9350 - val_loss: 0.1138 - val_acc: 0.9570\n",
            "Epoch 86/100\n",
            "100/100 [==============================] - 16s 157ms/step - loss: 0.1326 - acc: 0.9470 - val_loss: 0.0249 - val_acc: 0.9560\n",
            "Epoch 87/100\n",
            "100/100 [==============================] - 16s 158ms/step - loss: 0.1385 - acc: 0.9500 - val_loss: 0.2024 - val_acc: 0.9550\n",
            "Epoch 88/100\n",
            "100/100 [==============================] - 16s 157ms/step - loss: 0.1255 - acc: 0.9510 - val_loss: 0.1747 - val_acc: 0.9460\n",
            "Epoch 89/100\n",
            "100/100 [==============================] - 16s 157ms/step - loss: 0.1363 - acc: 0.9440 - val_loss: 0.0194 - val_acc: 0.9540\n",
            "Epoch 90/100\n",
            "100/100 [==============================] - 16s 157ms/step - loss: 0.1438 - acc: 0.9375 - val_loss: 0.1097 - val_acc: 0.9510\n",
            "Epoch 91/100\n",
            "100/100 [==============================] - 16s 157ms/step - loss: 0.1244 - acc: 0.9495 - val_loss: 0.1033 - val_acc: 0.9530\n",
            "Epoch 92/100\n",
            "100/100 [==============================] - 16s 158ms/step - loss: 0.1248 - acc: 0.9480 - val_loss: 0.0199 - val_acc: 0.9510\n",
            "Epoch 93/100\n",
            "100/100 [==============================] - 16s 159ms/step - loss: 0.1092 - acc: 0.9600 - val_loss: 0.2246 - val_acc: 0.9470\n",
            "Epoch 94/100\n",
            "100/100 [==============================] - 16s 158ms/step - loss: 0.1194 - acc: 0.9505 - val_loss: 0.1052 - val_acc: 0.9450\n",
            "Epoch 95/100\n",
            "100/100 [==============================] - 16s 157ms/step - loss: 0.1341 - acc: 0.9445 - val_loss: 0.0221 - val_acc: 0.9540\n",
            "Epoch 96/100\n",
            "100/100 [==============================] - 16s 156ms/step - loss: 0.1283 - acc: 0.9475 - val_loss: 0.0880 - val_acc: 0.9490\n",
            "Epoch 97/100\n",
            "100/100 [==============================] - 16s 158ms/step - loss: 0.1239 - acc: 0.9520 - val_loss: 0.0073 - val_acc: 0.9460\n",
            "Epoch 98/100\n",
            "100/100 [==============================] - 16s 157ms/step - loss: 0.1381 - acc: 0.9440 - val_loss: 0.0459 - val_acc: 0.9500\n",
            "Epoch 99/100\n",
            "100/100 [==============================] - 16s 156ms/step - loss: 0.1347 - acc: 0.9445 - val_loss: 0.1561 - val_acc: 0.9480\n",
            "Epoch 100/100\n",
            "100/100 [==============================] - 16s 156ms/step - loss: 0.1320 - acc: 0.9450 - val_loss: 0.0283 - val_acc: 0.9470\n"
          ],
          "name": "stdout"
        }
      ]
    },
    {
      "cell_type": "markdown",
      "metadata": {
        "id": "eVBQgh5M-Rtz",
        "colab_type": "text"
      },
      "source": [
        "## Display learning curves during fine-tuning"
      ]
    },
    {
      "cell_type": "code",
      "metadata": {
        "id": "mbkIw7Ie-NP4",
        "colab_type": "code",
        "outputId": "3e8b4869-b063-49ac-911f-5502a06c09cf",
        "colab": {
          "base_uri": "https://localhost:8080/",
          "height": 545
        }
      },
      "source": [
        "%matplotlib inline\n",
        "\n",
        "import matplotlib.pyplot as plt\n",
        "\n",
        "acc = history.history['acc']\n",
        "val_acc = history.history['val_acc']\n",
        "\n",
        "loss = history.history['loss']\n",
        "val_loss = history.history['val_loss']\n",
        "\n",
        "epochs = range(1, len(acc) + 1)\n",
        "\n",
        "# training and validation accuracy\n",
        "\n",
        "plt.plot(epochs, acc, 'bo', label='training acc')\n",
        "plt.plot(epochs, val_acc, 'b', label='validation acc')\n",
        "plt.title('training and validation accuracy')\n",
        "plt.legend()\n",
        "\n",
        "plt.figure()\n",
        "\n",
        "# training and validation loss\n",
        "\n",
        "plt.plot(epochs, loss, 'bo', label='training loss')\n",
        "plt.plot(epochs, val_loss, 'b', label='validation loss')\n",
        "plt.title('training and validation loss')\n",
        "plt.legend()\n",
        "\n",
        "plt.show()"
      ],
      "execution_count": 18,
      "outputs": [
        {
          "output_type": "display_data",
          "data": {
            "image/png": "[encoded data removed]",
            "text/plain": [
              "<Figure size 432x288 with 1 Axes>"
            ]
          },
          "metadata": {
            "tags": [],
            "needs_background": "light"
          }
        },
        {
          "output_type": "display_data",
          "data": {
            "image/png": "[encoded data removed]",
            "text/plain": [
              "<Figure size 432x288 with 1 Axes>"
            ]
          },
          "metadata": {
            "tags": [],
            "needs_background": "light"
          }
        }
      ]
    },
    {
      "cell_type": "markdown",
      "metadata": {
        "id": "he3Nw6TOJwjx",
        "colab_type": "text"
      },
      "source": [
        "## Print out validation loss and accuracy"
      ]
    },
    {
      "cell_type": "code",
      "metadata": {
        "id": "SVQtrk7uJdhl",
        "colab_type": "code",
        "colab": {}
      },
      "source": [
        "val_loss, val_acc = model.evaluate_generator(validation_generator, steps=50)"
      ],
      "execution_count": 0,
      "outputs": []
    },
    {
      "cell_type": "code",
      "metadata": {
        "id": "HpdddLi1SUMe",
        "colab_type": "code",
        "outputId": "c5601193-8d34-4b3b-ec17-eb5786b10836",
        "colab": {
          "base_uri": "https://localhost:8080/",
          "height": 51
        }
      },
      "source": [
        "print(\"Validation loss:\", val_loss)\n",
        "print(\"Validation accuracy:\", val_acc)"
      ],
      "execution_count": 20,
      "outputs": [
        {
          "output_type": "stream",
          "text": [
            "Validation loss: 0.028262633830308914\n",
            "Validation accuracy: 0.9470000267028809\n"
          ],
          "name": "stdout"
        }
      ]
    },
    {
      "cell_type": "markdown",
      "metadata": {
        "id": "7Ww756WToby8",
        "colab_type": "text"
      },
      "source": [
        "## Save the model"
      ]
    },
    {
      "cell_type": "code",
      "metadata": {
        "id": "0lTUpUdwobKW",
        "colab_type": "code",
        "colab": {}
      },
      "source": [
        "model_fname = 'cats_and_dogs_small_4.h5' \n",
        "model.save(model_fname)"
      ],
      "execution_count": 0,
      "outputs": []
    }
  ]
}