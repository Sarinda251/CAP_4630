{
  "nbformat": 4,
  "nbformat_minor": 0,
  "metadata": {
    "colab": {
      "name": "HW3.ipynb",
      "provenance": [],
      "collapsed_sections": [],
      "authorship_tag": "ABX9TyMYGgIHmUk1nhwWv7Q7BFHx",
      "include_colab_link": true
    },
    "kernelspec": {
      "name": "python3",
      "display_name": "Python 3"
    }
  },
  "cells": [
    {
      "cell_type": "markdown",
      "metadata": {
        "id": "view-in-github",
        "colab_type": "text"
      },
      "source": [
        "<a href=\"https://colab.research.google.com/github/Sarinda251/CAP_4630/blob/master/HW3.ipynb\" target=\"_parent\"><img src=\"https://colab.research.google.com/assets/colab-badge.svg\" alt=\"Open In Colab\"/></a>"
      ]
    },
    {
      "cell_type": "code",
      "metadata": {
        "id": "rN8xUm9eXdSF"
      },
      "source": [
        "import pandas as pd\n",
        "from sklearn.model_selection import train_test_split\n",
        "from sklearn.naive_bayes import GaussianNB\n",
        "from sklearn.neighbors import KNeighborsClassifier\n",
        "from sklearn.metrics import make_scorer, accuracy_score, precision_score, recall_score, f1_score\n",
        "from sklearn.model_selection import KFold\n",
        "from sklearn.model_selection import cross_validate\n",
        "from sklearn.model_selection import train_test_split\n",
        "import statistics\n",
        "import numpy as np\n",
        "from numpy.random import seed\n",
        "from numpy.random import randn\n",
        "import matplotlib.pyplot as plt\n",
        "seed(1)"
      ],
      "execution_count": 257,
      "outputs": []
    },
    {
      "cell_type": "markdown",
      "metadata": {
        "id": "H17bsZxCfFcH"
      },
      "source": [
        "#Task 1"
      ]
    },
    {
      "cell_type": "markdown",
      "metadata": {
        "id": "3i-3qsm5jT7i"
      },
      "source": [
        "##Preprocess Data"
      ]
    },
    {
      "cell_type": "code",
      "metadata": {
        "id": "gUZCQ23KdCZ0",
        "outputId": "71b7806b-2439-4d2d-ae1e-6aebeaa3352d",
        "colab": {
          "base_uri": "https://localhost:8080/",
          "height": 0
        }
      },
      "source": [
        "df = pd.read_csv('football.csv')\n",
        "print(df.columns)\n",
        "print(df.info())"
      ],
      "execution_count": 234,
      "outputs": [
        {
          "output_type": "stream",
          "text": [
            "Index(['ID', 'Date', 'Opponent', 'Is_Home_or_Away',\n",
            "       'Is_Opponent_in_AP25_Preseason', 'Media', 'Label'],\n",
            "      dtype='object')\n",
            "<class 'pandas.core.frame.DataFrame'>\n",
            "RangeIndex: 36 entries, 0 to 35\n",
            "Data columns (total 7 columns):\n",
            " #   Column                         Non-Null Count  Dtype \n",
            "---  ------                         --------------  ----- \n",
            " 0   ID                             36 non-null     int64 \n",
            " 1   Date                           36 non-null     object\n",
            " 2   Opponent                       36 non-null     object\n",
            " 3   Is_Home_or_Away                36 non-null     object\n",
            " 4   Is_Opponent_in_AP25_Preseason  36 non-null     object\n",
            " 5   Media                          36 non-null     object\n",
            " 6   Label                          36 non-null     object\n",
            "dtypes: int64(1), object(6)\n",
            "memory usage: 2.1+ KB\n",
            "None\n"
          ],
          "name": "stdout"
        }
      ]
    },
    {
      "cell_type": "code",
      "metadata": {
        "id": "yZFAi1HKtOLm"
      },
      "source": [
        "dataClean = {\n",
        "  \"1-NBC\": 0,\n",
        "  \"2-ESPN\": 1,\n",
        "  \"3-FOX\": 2,\n",
        "  \"4-ABC\": 3,\n",
        "  \"5-CBS\": 4,\n",
        "  \"Home\": 0,\n",
        "  \"Away\": 1,\n",
        "  \"In\": 0,\n",
        "  \"Out\": 1,\n",
        "  \"Win\": 1,\n",
        "  \"Lose\": 0\n",
        "}\n",
        "df['Media'] = df['Media'].transform(lambda x: dataClean[x])\n",
        "df['Is_Home_or_Away'] = df['Is_Home_or_Away'].transform(lambda x: dataClean[x])\n",
        "df['Is_Opponent_in_AP25_Preseason'] = df['Is_Opponent_in_AP25_Preseason'].transform(lambda x: dataClean[x])\n",
        "df['Label'] = df['Label'].transform(lambda x: dataClean[x])"
      ],
      "execution_count": 235,
      "outputs": []
    },
    {
      "cell_type": "code",
      "metadata": {
        "id": "jO5S0EzKd9j5"
      },
      "source": [
        "train_x = df[['Is_Home_or_Away', 'Is_Opponent_in_AP25_Preseason', 'Media']][:24]\n",
        "train_y = df[['Label']][:24]\n",
        "test_x = df[['Is_Home_or_Away', 'Is_Opponent_in_AP25_Preseason', 'Media']][24:]\n",
        "test_y = df[['Label']][24:]\n"
      ],
      "execution_count": 236,
      "outputs": []
    },
    {
      "cell_type": "markdown",
      "metadata": {
        "id": "4igaXW-OgW33"
      },
      "source": [
        "##Naive Bayes"
      ]
    },
    {
      "cell_type": "code",
      "metadata": {
        "id": "UgdPp-2PsAfJ",
        "outputId": "e93ab582-def1-45fd-b585-912cf556aabc",
        "colab": {
          "base_uri": "https://localhost:8080/",
          "height": 88
        }
      },
      "source": [
        "gnb = GaussianNB()\n",
        "pred_y = gnb.fit(train_x, train_y).predict(test_x)\n",
        "print(pred_y)\n",
        "\n",
        "#print(test_y)"
      ],
      "execution_count": 237,
      "outputs": [
        {
          "output_type": "stream",
          "text": [
            "[1 0 1 1 1 0 0 1 1 0 1 0]\n"
          ],
          "name": "stdout"
        },
        {
          "output_type": "stream",
          "text": [
            "/usr/local/lib/python3.6/dist-packages/sklearn/naive_bayes.py:206: DataConversionWarning: A column-vector y was passed when a 1d array was expected. Please change the shape of y to (n_samples, ), for example using ravel().\n",
            "  y = column_or_1d(y, warn=True)\n"
          ],
          "name": "stderr"
        }
      ]
    },
    {
      "cell_type": "code",
      "metadata": {
        "id": "KRCGNeJ-wmVn",
        "outputId": "601b2652-9e39-4a19-ad9d-b29807df4889",
        "colab": {
          "base_uri": "https://localhost:8080/",
          "height": 85
        }
      },
      "source": [
        "TP = 0\n",
        "FP = 0\n",
        "TN = 0\n",
        "FN = 0\n",
        "for i in range(len(test_y)):\n",
        "  if pred_y[i] == 1:\n",
        "    if test_y.iloc[ i , : ][0] == pred_y[i]:\n",
        "      TP += 1\n",
        "    else:\n",
        "      FP += 1\n",
        "  else:\n",
        "    if test_y.iloc[ i , : ][0] == pred_y[i]:\n",
        "      TN += 1\n",
        "    else:\n",
        "      FN += 1\n",
        "\n",
        "Accuracy = (TP+TN)/(TP+FP+FN+TN)\n",
        "Precision = TP/(TP+FP)\n",
        "Recall = TP/(TP+FN)\n",
        "F1 = 2*(Recall * Precision) / (Recall + Precision)\n",
        "print(\"Accuracy: \" + str(Accuracy))\n",
        "print(\"Precision: \" + str(Precision))\n",
        "print(\"Recall: \" + str(Recall))\n",
        "print(\"F1: \" + str(F1))"
      ],
      "execution_count": 238,
      "outputs": [
        {
          "output_type": "stream",
          "text": [
            "Accuracy: 0.8333333333333334\n",
            "Precision: 1.0\n",
            "Recall: 0.7777777777777778\n",
            "F1: 0.8750000000000001\n"
          ],
          "name": "stdout"
        }
      ]
    },
    {
      "cell_type": "markdown",
      "metadata": {
        "id": "zZlaLsv_gcI7"
      },
      "source": [
        "##KNN"
      ]
    },
    {
      "cell_type": "code",
      "metadata": {
        "id": "3ygsKs3NbFxO",
        "outputId": "bb6e4f9f-9412-4774-db99-ee7ec54e72f9",
        "colab": {
          "base_uri": "https://localhost:8080/",
          "height": 88
        }
      },
      "source": [
        "knn = KNeighborsClassifier(n_neighbors=4)\n",
        "knn.fit(train_x, train_y)\n",
        "pred_y2 = knn.predict(test_x)\n",
        "print(pred_y2)"
      ],
      "execution_count": 239,
      "outputs": [
        {
          "output_type": "stream",
          "text": [
            "[1 0 1 1 1 1 0 1 1 0 1 0]\n"
          ],
          "name": "stdout"
        },
        {
          "output_type": "stream",
          "text": [
            "/usr/local/lib/python3.6/dist-packages/ipykernel_launcher.py:2: DataConversionWarning: A column-vector y was passed when a 1d array was expected. Please change the shape of y to (n_samples, ), for example using ravel().\n",
            "  \n"
          ],
          "name": "stderr"
        }
      ]
    },
    {
      "cell_type": "code",
      "metadata": {
        "id": "HHhOtoZsbk95",
        "outputId": "bbb8362c-f4ef-4541-ec6f-a7d7b269e245",
        "colab": {
          "base_uri": "https://localhost:8080/",
          "height": 85
        }
      },
      "source": [
        "TP = 0\n",
        "FP = 0\n",
        "TN = 0\n",
        "FN = 0\n",
        "for i in range(len(test_y)):\n",
        "  if pred_y[i] == 1:\n",
        "    if test_y.iloc[ i , : ][0] == pred_y2[i]:\n",
        "      TP += 1\n",
        "    else:\n",
        "      FP += 1\n",
        "  else:\n",
        "    if test_y.iloc[ i , : ][0] == pred_y2[i]:\n",
        "      TN += 1\n",
        "    else:\n",
        "      FN += 1\n",
        "\n",
        "Accuracy = (TP+TN)/(TP+FP+FN+TN)\n",
        "Precision = TP/(TP+FP)\n",
        "Recall = TP/(TP+FN)\n",
        "F1 = 2*(Recall * Precision) / (Recall + Precision)\n",
        "print(\"Accuracy: \" + str(Accuracy))\n",
        "print(\"Precision: \" + str(Precision))\n",
        "print(\"Recall: \" + str(Recall))\n",
        "print(\"F1: \" + str(F1))"
      ],
      "execution_count": 240,
      "outputs": [
        {
          "output_type": "stream",
          "text": [
            "Accuracy: 0.9166666666666666\n",
            "Precision: 1.0\n",
            "Recall: 0.875\n",
            "F1: 0.9333333333333333\n"
          ],
          "name": "stdout"
        }
      ]
    },
    {
      "cell_type": "markdown",
      "metadata": {
        "id": "LvvWWumVfIma"
      },
      "source": [
        "#Task 2"
      ]
    },
    {
      "cell_type": "markdown",
      "metadata": {
        "id": "Fud1sP2LqHZ6"
      },
      "source": [
        "## Preprocess Data"
      ]
    },
    {
      "cell_type": "code",
      "metadata": {
        "id": "7wSYZUeHEONK",
        "outputId": "7670825f-2841-4d44-c5f7-1a22ba400dcd",
        "colab": {
          "base_uri": "https://localhost:8080/",
          "height": 0
        }
      },
      "source": [
        "train_df = pd.read_csv('train.csv')\n",
        "print(train_df.columns)\n"
      ],
      "execution_count": 241,
      "outputs": [
        {
          "output_type": "stream",
          "text": [
            "Index(['PassengerId', 'Survived', 'Pclass', 'Name', 'Sex', 'Age', 'SibSp',\n",
            "       'Parch', 'Ticket', 'Fare', 'Cabin', 'Embarked'],\n",
            "      dtype='object')\n"
          ],
          "name": "stdout"
        }
      ]
    },
    {
      "cell_type": "code",
      "metadata": {
        "id": "eZ5zKeD5Gog8"
      },
      "source": [
        "sexToGender = {\n",
        "  \"male\": 0,\n",
        "  \"female\": 1\n",
        "}\n",
        "\n",
        "def embClean(x):\n",
        "  if str(x) == 'nan':\n",
        "    return 'S'\n",
        "  return x\n",
        "\n",
        "def fareClean(x, m):\n",
        "  if str(x) == 'nan':\n",
        "    return m\n",
        "  return x\n",
        "\n",
        "def fareBand(x):\n",
        "  if x <= 7.91:\n",
        "    return 0\n",
        "  if x <= 14.454:\n",
        "    return 1\n",
        "  if x <= 31:\n",
        "    return 2\n",
        "  if x <= 512.329:\n",
        "    return 3\n",
        "  return 4\n",
        "\n",
        "embBand = {\n",
        "    \"S\": 0,\n",
        "    \"C\": 1,\n",
        "    \"Q\": 2\n",
        "}\n",
        "\n",
        "def ageClean(x, s, a):\n",
        "  if str(x) == 'nan':\n",
        "    return max(float(s*randn(1) + a),0)\n",
        "  return float(x)\n",
        "\n",
        "cleanedFare  = [x for x in train_df['Fare'].values if str(x) != 'nan']\n",
        "mode = statistics.mode(cleanedFare)\n",
        "cleanedAge = [x for x in train_df['Age'].values if str(x) != 'nan']\n",
        "avg = statistics.mean(cleanedAge)\n",
        "std = statistics.stdev(cleanedAge)\n",
        "\n",
        "train_df['Age'] = train_df['Age'].transform(lambda x: ageClean(x, std, avg))\n",
        "train_df['Fare'] = train_df['Fare'].transform(lambda x: fareClean(x, mode))\n",
        "train_df['Fare'] = train_df['Fare'].transform(lambda x: fareBand(x))\n",
        "train_df['Embarked'] = train_df['Embarked'].transform(lambda x: embClean(x))\n",
        "train_df['Embarked'] = train_df['Embarked'].transform(lambda x: embBand[x])\n",
        "train_df['Gender'] = train_df['Sex'].transform(lambda x: sexToGender[x])\n",
        "train_df = train_df.drop(columns=[\"Ticket\", \"Cabin\", \"Name\", \"Sex\"])"
      ],
      "execution_count": 242,
      "outputs": []
    },
    {
      "cell_type": "code",
      "metadata": {
        "id": "WBcJJnfmqXj9",
        "outputId": "12eb31c9-94e2-4ddb-8bdb-8c71f5bc12be",
        "colab": {
          "base_uri": "https://localhost:8080/",
          "height": 0
        }
      },
      "source": [
        "train_df._get_numeric_data()"
      ],
      "execution_count": 243,
      "outputs": [
        {
          "output_type": "execute_result",
          "data": {
            "text/html": [
              "<div>\n",
              "<style scoped>\n",
              "    .dataframe tbody tr th:only-of-type {\n",
              "        vertical-align: middle;\n",
              "    }\n",
              "\n",
              "    .dataframe tbody tr th {\n",
              "        vertical-align: top;\n",
              "    }\n",
              "\n",
              "    .dataframe thead th {\n",
              "        text-align: right;\n",
              "    }\n",
              "</style>\n",
              "<table border=\"1\" class=\"dataframe\">\n",
              "  <thead>\n",
              "    <tr style=\"text-align: right;\">\n",
              "      <th></th>\n",
              "      <th>PassengerId</th>\n",
              "      <th>Survived</th>\n",
              "      <th>Pclass</th>\n",
              "      <th>Age</th>\n",
              "      <th>SibSp</th>\n",
              "      <th>Parch</th>\n",
              "      <th>Fare</th>\n",
              "      <th>Embarked</th>\n",
              "      <th>Gender</th>\n",
              "    </tr>\n",
              "  </thead>\n",
              "  <tbody>\n",
              "    <tr>\n",
              "      <th>0</th>\n",
              "      <td>1</td>\n",
              "      <td>0</td>\n",
              "      <td>3</td>\n",
              "      <td>22.000000</td>\n",
              "      <td>1</td>\n",
              "      <td>0</td>\n",
              "      <td>0</td>\n",
              "      <td>0</td>\n",
              "      <td>0</td>\n",
              "    </tr>\n",
              "    <tr>\n",
              "      <th>1</th>\n",
              "      <td>2</td>\n",
              "      <td>1</td>\n",
              "      <td>1</td>\n",
              "      <td>38.000000</td>\n",
              "      <td>1</td>\n",
              "      <td>0</td>\n",
              "      <td>3</td>\n",
              "      <td>1</td>\n",
              "      <td>1</td>\n",
              "    </tr>\n",
              "    <tr>\n",
              "      <th>2</th>\n",
              "      <td>3</td>\n",
              "      <td>1</td>\n",
              "      <td>3</td>\n",
              "      <td>26.000000</td>\n",
              "      <td>0</td>\n",
              "      <td>0</td>\n",
              "      <td>1</td>\n",
              "      <td>0</td>\n",
              "      <td>1</td>\n",
              "    </tr>\n",
              "    <tr>\n",
              "      <th>3</th>\n",
              "      <td>4</td>\n",
              "      <td>1</td>\n",
              "      <td>1</td>\n",
              "      <td>35.000000</td>\n",
              "      <td>1</td>\n",
              "      <td>0</td>\n",
              "      <td>3</td>\n",
              "      <td>0</td>\n",
              "      <td>1</td>\n",
              "    </tr>\n",
              "    <tr>\n",
              "      <th>4</th>\n",
              "      <td>5</td>\n",
              "      <td>0</td>\n",
              "      <td>3</td>\n",
              "      <td>35.000000</td>\n",
              "      <td>0</td>\n",
              "      <td>0</td>\n",
              "      <td>1</td>\n",
              "      <td>0</td>\n",
              "      <td>0</td>\n",
              "    </tr>\n",
              "    <tr>\n",
              "      <th>...</th>\n",
              "      <td>...</td>\n",
              "      <td>...</td>\n",
              "      <td>...</td>\n",
              "      <td>...</td>\n",
              "      <td>...</td>\n",
              "      <td>...</td>\n",
              "      <td>...</td>\n",
              "      <td>...</td>\n",
              "      <td>...</td>\n",
              "    </tr>\n",
              "    <tr>\n",
              "      <th>886</th>\n",
              "      <td>887</td>\n",
              "      <td>0</td>\n",
              "      <td>2</td>\n",
              "      <td>27.000000</td>\n",
              "      <td>0</td>\n",
              "      <td>0</td>\n",
              "      <td>1</td>\n",
              "      <td>0</td>\n",
              "      <td>0</td>\n",
              "    </tr>\n",
              "    <tr>\n",
              "      <th>887</th>\n",
              "      <td>888</td>\n",
              "      <td>1</td>\n",
              "      <td>1</td>\n",
              "      <td>19.000000</td>\n",
              "      <td>0</td>\n",
              "      <td>0</td>\n",
              "      <td>2</td>\n",
              "      <td>0</td>\n",
              "      <td>1</td>\n",
              "    </tr>\n",
              "    <tr>\n",
              "      <th>888</th>\n",
              "      <td>889</td>\n",
              "      <td>0</td>\n",
              "      <td>3</td>\n",
              "      <td>49.040526</td>\n",
              "      <td>1</td>\n",
              "      <td>2</td>\n",
              "      <td>2</td>\n",
              "      <td>0</td>\n",
              "      <td>1</td>\n",
              "    </tr>\n",
              "    <tr>\n",
              "      <th>889</th>\n",
              "      <td>890</td>\n",
              "      <td>1</td>\n",
              "      <td>1</td>\n",
              "      <td>26.000000</td>\n",
              "      <td>0</td>\n",
              "      <td>0</td>\n",
              "      <td>2</td>\n",
              "      <td>1</td>\n",
              "      <td>0</td>\n",
              "    </tr>\n",
              "    <tr>\n",
              "      <th>890</th>\n",
              "      <td>891</td>\n",
              "      <td>0</td>\n",
              "      <td>3</td>\n",
              "      <td>32.000000</td>\n",
              "      <td>0</td>\n",
              "      <td>0</td>\n",
              "      <td>0</td>\n",
              "      <td>2</td>\n",
              "      <td>0</td>\n",
              "    </tr>\n",
              "  </tbody>\n",
              "</table>\n",
              "<p>891 rows × 9 columns</p>\n",
              "</div>"
            ],
            "text/plain": [
              "     PassengerId  Survived  Pclass        Age  ...  Parch  Fare  Embarked  Gender\n",
              "0              1         0       3  22.000000  ...      0     0         0       0\n",
              "1              2         1       1  38.000000  ...      0     3         1       1\n",
              "2              3         1       3  26.000000  ...      0     1         0       1\n",
              "3              4         1       1  35.000000  ...      0     3         0       1\n",
              "4              5         0       3  35.000000  ...      0     1         0       0\n",
              "..           ...       ...     ...        ...  ...    ...   ...       ...     ...\n",
              "886          887         0       2  27.000000  ...      0     1         0       0\n",
              "887          888         1       1  19.000000  ...      0     2         0       1\n",
              "888          889         0       3  49.040526  ...      2     2         0       1\n",
              "889          890         1       1  26.000000  ...      0     2         1       0\n",
              "890          891         0       3  32.000000  ...      0     0         2       0\n",
              "\n",
              "[891 rows x 9 columns]"
            ]
          },
          "metadata": {
            "tags": []
          },
          "execution_count": 243
        }
      ]
    },
    {
      "cell_type": "code",
      "metadata": {
        "id": "gxsb9mdpzBaW",
        "outputId": "e7e78085-4563-47a3-8ce7-cbdc85ecd6c4",
        "colab": {
          "base_uri": "https://localhost:8080/",
          "height": 0
        }
      },
      "source": [
        "train_df.info()"
      ],
      "execution_count": 244,
      "outputs": [
        {
          "output_type": "stream",
          "text": [
            "<class 'pandas.core.frame.DataFrame'>\n",
            "RangeIndex: 891 entries, 0 to 890\n",
            "Data columns (total 9 columns):\n",
            " #   Column       Non-Null Count  Dtype  \n",
            "---  ------       --------------  -----  \n",
            " 0   PassengerId  891 non-null    int64  \n",
            " 1   Survived     891 non-null    int64  \n",
            " 2   Pclass       891 non-null    int64  \n",
            " 3   Age          891 non-null    float64\n",
            " 4   SibSp        891 non-null    int64  \n",
            " 5   Parch        891 non-null    int64  \n",
            " 6   Fare         891 non-null    int64  \n",
            " 7   Embarked     891 non-null    int64  \n",
            " 8   Gender       891 non-null    int64  \n",
            "dtypes: float64(1), int64(8)\n",
            "memory usage: 62.8 KB\n"
          ],
          "name": "stdout"
        }
      ]
    },
    {
      "cell_type": "markdown",
      "metadata": {
        "id": "00wFQLSVxIbf"
      },
      "source": [
        "all null values have been filled, and columns have been turned into numerical datatypes."
      ]
    },
    {
      "cell_type": "code",
      "metadata": {
        "id": "-tpovX0gyLSx"
      },
      "source": [
        "train_x = train_df.drop(columns=[\"PassengerId\", \"Survived\"])\n",
        "train_y = train_df[\"Survived\"]"
      ],
      "execution_count": 245,
      "outputs": []
    },
    {
      "cell_type": "code",
      "metadata": {
        "id": "MngsQc1pytuR",
        "outputId": "b06b28dd-9fef-4283-f21c-3589599ad9dc",
        "colab": {
          "base_uri": "https://localhost:8080/",
          "height": 0
        }
      },
      "source": [
        "train_x.describe()"
      ],
      "execution_count": 246,
      "outputs": [
        {
          "output_type": "execute_result",
          "data": {
            "text/html": [
              "<div>\n",
              "<style scoped>\n",
              "    .dataframe tbody tr th:only-of-type {\n",
              "        vertical-align: middle;\n",
              "    }\n",
              "\n",
              "    .dataframe tbody tr th {\n",
              "        vertical-align: top;\n",
              "    }\n",
              "\n",
              "    .dataframe thead th {\n",
              "        text-align: right;\n",
              "    }\n",
              "</style>\n",
              "<table border=\"1\" class=\"dataframe\">\n",
              "  <thead>\n",
              "    <tr style=\"text-align: right;\">\n",
              "      <th></th>\n",
              "      <th>Pclass</th>\n",
              "      <th>Age</th>\n",
              "      <th>SibSp</th>\n",
              "      <th>Parch</th>\n",
              "      <th>Fare</th>\n",
              "      <th>Embarked</th>\n",
              "      <th>Gender</th>\n",
              "    </tr>\n",
              "  </thead>\n",
              "  <tbody>\n",
              "    <tr>\n",
              "      <th>count</th>\n",
              "      <td>891.000000</td>\n",
              "      <td>891.000000</td>\n",
              "      <td>891.000000</td>\n",
              "      <td>891.000000</td>\n",
              "      <td>891.000000</td>\n",
              "      <td>891.000000</td>\n",
              "      <td>891.000000</td>\n",
              "    </tr>\n",
              "    <tr>\n",
              "      <th>mean</th>\n",
              "      <td>2.308642</td>\n",
              "      <td>29.933108</td>\n",
              "      <td>0.523008</td>\n",
              "      <td>0.381594</td>\n",
              "      <td>1.508418</td>\n",
              "      <td>0.361392</td>\n",
              "      <td>0.352413</td>\n",
              "    </tr>\n",
              "    <tr>\n",
              "      <th>std</th>\n",
              "      <td>0.836071</td>\n",
              "      <td>14.286985</td>\n",
              "      <td>1.102743</td>\n",
              "      <td>0.806057</td>\n",
              "      <td>1.124141</td>\n",
              "      <td>0.635673</td>\n",
              "      <td>0.477990</td>\n",
              "    </tr>\n",
              "    <tr>\n",
              "      <th>min</th>\n",
              "      <td>1.000000</td>\n",
              "      <td>0.000000</td>\n",
              "      <td>0.000000</td>\n",
              "      <td>0.000000</td>\n",
              "      <td>0.000000</td>\n",
              "      <td>0.000000</td>\n",
              "      <td>0.000000</td>\n",
              "    </tr>\n",
              "    <tr>\n",
              "      <th>25%</th>\n",
              "      <td>2.000000</td>\n",
              "      <td>20.869353</td>\n",
              "      <td>0.000000</td>\n",
              "      <td>0.000000</td>\n",
              "      <td>0.500000</td>\n",
              "      <td>0.000000</td>\n",
              "      <td>0.000000</td>\n",
              "    </tr>\n",
              "    <tr>\n",
              "      <th>50%</th>\n",
              "      <td>3.000000</td>\n",
              "      <td>29.000000</td>\n",
              "      <td>0.000000</td>\n",
              "      <td>0.000000</td>\n",
              "      <td>2.000000</td>\n",
              "      <td>0.000000</td>\n",
              "      <td>0.000000</td>\n",
              "    </tr>\n",
              "    <tr>\n",
              "      <th>75%</th>\n",
              "      <td>3.000000</td>\n",
              "      <td>38.841008</td>\n",
              "      <td>1.000000</td>\n",
              "      <td>0.000000</td>\n",
              "      <td>2.000000</td>\n",
              "      <td>1.000000</td>\n",
              "      <td>1.000000</td>\n",
              "    </tr>\n",
              "    <tr>\n",
              "      <th>max</th>\n",
              "      <td>3.000000</td>\n",
              "      <td>80.000000</td>\n",
              "      <td>8.000000</td>\n",
              "      <td>6.000000</td>\n",
              "      <td>4.000000</td>\n",
              "      <td>2.000000</td>\n",
              "      <td>1.000000</td>\n",
              "    </tr>\n",
              "  </tbody>\n",
              "</table>\n",
              "</div>"
            ],
            "text/plain": [
              "           Pclass         Age       SibSp  ...        Fare    Embarked      Gender\n",
              "count  891.000000  891.000000  891.000000  ...  891.000000  891.000000  891.000000\n",
              "mean     2.308642   29.933108    0.523008  ...    1.508418    0.361392    0.352413\n",
              "std      0.836071   14.286985    1.102743  ...    1.124141    0.635673    0.477990\n",
              "min      1.000000    0.000000    0.000000  ...    0.000000    0.000000    0.000000\n",
              "25%      2.000000   20.869353    0.000000  ...    0.500000    0.000000    0.000000\n",
              "50%      3.000000   29.000000    0.000000  ...    2.000000    0.000000    0.000000\n",
              "75%      3.000000   38.841008    1.000000  ...    2.000000    1.000000    1.000000\n",
              "max      3.000000   80.000000    8.000000  ...    4.000000    2.000000    1.000000\n",
              "\n",
              "[8 rows x 7 columns]"
            ]
          },
          "metadata": {
            "tags": []
          },
          "execution_count": 246
        }
      ]
    },
    {
      "cell_type": "code",
      "metadata": {
        "id": "yZq25TkgyvhV",
        "outputId": "34a4c4a5-23c7-49b3-b0ff-1753d41ac9ff",
        "colab": {
          "base_uri": "https://localhost:8080/",
          "height": 0
        }
      },
      "source": [
        "train_y"
      ],
      "execution_count": 247,
      "outputs": [
        {
          "output_type": "execute_result",
          "data": {
            "text/plain": [
              "0      0\n",
              "1      1\n",
              "2      1\n",
              "3      1\n",
              "4      0\n",
              "      ..\n",
              "886    0\n",
              "887    1\n",
              "888    0\n",
              "889    1\n",
              "890    0\n",
              "Name: Survived, Length: 891, dtype: int64"
            ]
          },
          "metadata": {
            "tags": []
          },
          "execution_count": 247
        }
      ]
    },
    {
      "cell_type": "markdown",
      "metadata": {
        "id": "gjrw80QNf6cZ"
      },
      "source": [
        "## Naive Bayes"
      ]
    },
    {
      "cell_type": "code",
      "metadata": {
        "id": "d8Evx_2Gf_fh",
        "outputId": "b59e5aa2-e25f-4105-a0a2-d96ebd8cab8a",
        "colab": {
          "base_uri": "https://localhost:8080/",
          "height": 419
        }
      },
      "source": [
        "train_x = train_x[[\"Fare\", \"Pclass\", \"Gender\", \"Age\"]]\n",
        "train_x"
      ],
      "execution_count": 248,
      "outputs": [
        {
          "output_type": "execute_result",
          "data": {
            "text/html": [
              "<div>\n",
              "<style scoped>\n",
              "    .dataframe tbody tr th:only-of-type {\n",
              "        vertical-align: middle;\n",
              "    }\n",
              "\n",
              "    .dataframe tbody tr th {\n",
              "        vertical-align: top;\n",
              "    }\n",
              "\n",
              "    .dataframe thead th {\n",
              "        text-align: right;\n",
              "    }\n",
              "</style>\n",
              "<table border=\"1\" class=\"dataframe\">\n",
              "  <thead>\n",
              "    <tr style=\"text-align: right;\">\n",
              "      <th></th>\n",
              "      <th>Fare</th>\n",
              "      <th>Pclass</th>\n",
              "      <th>Gender</th>\n",
              "      <th>Age</th>\n",
              "    </tr>\n",
              "  </thead>\n",
              "  <tbody>\n",
              "    <tr>\n",
              "      <th>0</th>\n",
              "      <td>0</td>\n",
              "      <td>3</td>\n",
              "      <td>0</td>\n",
              "      <td>22.000000</td>\n",
              "    </tr>\n",
              "    <tr>\n",
              "      <th>1</th>\n",
              "      <td>3</td>\n",
              "      <td>1</td>\n",
              "      <td>1</td>\n",
              "      <td>38.000000</td>\n",
              "    </tr>\n",
              "    <tr>\n",
              "      <th>2</th>\n",
              "      <td>1</td>\n",
              "      <td>3</td>\n",
              "      <td>1</td>\n",
              "      <td>26.000000</td>\n",
              "    </tr>\n",
              "    <tr>\n",
              "      <th>3</th>\n",
              "      <td>3</td>\n",
              "      <td>1</td>\n",
              "      <td>1</td>\n",
              "      <td>35.000000</td>\n",
              "    </tr>\n",
              "    <tr>\n",
              "      <th>4</th>\n",
              "      <td>1</td>\n",
              "      <td>3</td>\n",
              "      <td>0</td>\n",
              "      <td>35.000000</td>\n",
              "    </tr>\n",
              "    <tr>\n",
              "      <th>...</th>\n",
              "      <td>...</td>\n",
              "      <td>...</td>\n",
              "      <td>...</td>\n",
              "      <td>...</td>\n",
              "    </tr>\n",
              "    <tr>\n",
              "      <th>886</th>\n",
              "      <td>1</td>\n",
              "      <td>2</td>\n",
              "      <td>0</td>\n",
              "      <td>27.000000</td>\n",
              "    </tr>\n",
              "    <tr>\n",
              "      <th>887</th>\n",
              "      <td>2</td>\n",
              "      <td>1</td>\n",
              "      <td>1</td>\n",
              "      <td>19.000000</td>\n",
              "    </tr>\n",
              "    <tr>\n",
              "      <th>888</th>\n",
              "      <td>2</td>\n",
              "      <td>3</td>\n",
              "      <td>1</td>\n",
              "      <td>49.040526</td>\n",
              "    </tr>\n",
              "    <tr>\n",
              "      <th>889</th>\n",
              "      <td>2</td>\n",
              "      <td>1</td>\n",
              "      <td>0</td>\n",
              "      <td>26.000000</td>\n",
              "    </tr>\n",
              "    <tr>\n",
              "      <th>890</th>\n",
              "      <td>0</td>\n",
              "      <td>3</td>\n",
              "      <td>0</td>\n",
              "      <td>32.000000</td>\n",
              "    </tr>\n",
              "  </tbody>\n",
              "</table>\n",
              "<p>891 rows × 4 columns</p>\n",
              "</div>"
            ],
            "text/plain": [
              "     Fare  Pclass  Gender        Age\n",
              "0       0       3       0  22.000000\n",
              "1       3       1       1  38.000000\n",
              "2       1       3       1  26.000000\n",
              "3       3       1       1  35.000000\n",
              "4       1       3       0  35.000000\n",
              "..    ...     ...     ...        ...\n",
              "886     1       2       0  27.000000\n",
              "887     2       1       1  19.000000\n",
              "888     2       3       1  49.040526\n",
              "889     2       1       0  26.000000\n",
              "890     0       3       0  32.000000\n",
              "\n",
              "[891 rows x 4 columns]"
            ]
          },
          "metadata": {
            "tags": []
          },
          "execution_count": 248
        }
      ]
    },
    {
      "cell_type": "code",
      "metadata": {
        "id": "iutMd4K1gTmS",
        "outputId": "42356616-0b61-4370-a3d4-e1f545837c97",
        "colab": {
          "base_uri": "https://localhost:8080/",
          "height": 85
        }
      },
      "source": [
        "gnb = GaussianNB()\n",
        "clf = gnb.fit(train_x, train_y)\n",
        "\n",
        "scoring = {'accuracy' : make_scorer(accuracy_score), \n",
        "           'precision' : make_scorer(precision_score),\n",
        "           'recall' : make_scorer(recall_score), \n",
        "           'f1_score' : make_scorer(f1_score)}\n",
        "\n",
        "results = cross_validate(clf, train_x, train_y, cv=5, scoring=scoring)\n",
        "print(\"Accuracy: \" + str(statistics.mean(results['test_accuracy'])))\n",
        "print(\"Precision: \" + str(statistics.mean(results['test_precision'])))\n",
        "print(\"Recall: \" + str(statistics.mean(results['test_recall'])))\n",
        "print(\"F1: \" + str(statistics.mean(results['test_f1_score'])))"
      ],
      "execution_count": 249,
      "outputs": [
        {
          "output_type": "stream",
          "text": [
            "Accuracy: 0.746425208712573\n",
            "Precision: 0.6508873278620114\n",
            "Recall: 0.7370843989769821\n",
            "F1: 0.6907574561629913\n"
          ],
          "name": "stdout"
        }
      ]
    },
    {
      "cell_type": "markdown",
      "metadata": {
        "id": "65DAxLNjxn2d"
      },
      "source": [
        "##KNN"
      ]
    },
    {
      "cell_type": "code",
      "metadata": {
        "id": "Bnh1Ld1lzCcw",
        "outputId": "7e1d890c-3ed4-4136-d4f3-c0125879c41a",
        "colab": {
          "base_uri": "https://localhost:8080/",
          "height": 221
        }
      },
      "source": [
        "train_y"
      ],
      "execution_count": 250,
      "outputs": [
        {
          "output_type": "execute_result",
          "data": {
            "text/plain": [
              "0      0\n",
              "1      1\n",
              "2      1\n",
              "3      1\n",
              "4      0\n",
              "      ..\n",
              "886    0\n",
              "887    1\n",
              "888    0\n",
              "889    1\n",
              "890    0\n",
              "Name: Survived, Length: 891, dtype: int64"
            ]
          },
          "metadata": {
            "tags": []
          },
          "execution_count": 250
        }
      ]
    },
    {
      "cell_type": "code",
      "metadata": {
        "id": "uQ5F85SqxqOL"
      },
      "source": [
        "def euclideanDistance(p1, p2):\n",
        "  distance = 0\n",
        "  for i in range(len(p1)):\n",
        "    distance += pow((p1[i] - p2[i]), 2)\n",
        "  return np.sqrt(distance)\n",
        "\n",
        "def getDists(train_x, item):\n",
        "  distances = []\n",
        "  length = len(item)-1\n",
        "  for i in range(len(train_x)):\n",
        "    dist = euclideanDistance(item, train_x.iloc[ i , : ])\n",
        "    distances.append((dist, i))\n",
        "  distances.sort()\n",
        "  return distances\n",
        "\n",
        "def getNeighbors(train_x, item, k, distances):\n",
        "  neighbors = []\n",
        "  for i in range(k):\n",
        "    neighbors.append(distances[i+1][1])\n",
        "  return neighbors\n",
        "\n",
        "def getResponse(train_y, neighbors):\n",
        "  responses = [0,0]\n",
        "  for x in range(len(neighbors)):\n",
        "    response = train_y.iloc[neighbors[x]]\n",
        "    responses[response] += 1\n",
        "  if responses[0] > responses[1]:\n",
        "    return 0\n",
        "  return 1\n",
        "\n",
        "def getAccuracy(test_y, pred):\n",
        "\tcorrect = 0\n",
        "\tfor i in range(len(test_y)):\n",
        "\t\tif train_y.iloc[i] == pred[i]: \n",
        "\t\t\tcorrect = correct + 1\n",
        "\t\t\t\n",
        "\treturn (correct/float(len(test_y))*100) "
      ],
      "execution_count": 251,
      "outputs": []
    },
    {
      "cell_type": "code",
      "metadata": {
        "id": "ysUACv_a6Vrr",
        "outputId": "8c5e76a4-a94c-4777-aeec-8b00be8be14a",
        "colab": {
          "base_uri": "https://localhost:8080/",
          "height": 221
        }
      },
      "source": [
        "\n",
        "train_x2, test_x2, train_y2, test_y2 = train_test_split(train_x, train_y, test_size = .20)\n",
        "train_y2"
      ],
      "execution_count": 252,
      "outputs": [
        {
          "output_type": "execute_result",
          "data": {
            "text/plain": [
              "231    0\n",
              "345    1\n",
              "541    0\n",
              "60     0\n",
              "640    0\n",
              "      ..\n",
              "365    0\n",
              "856    1\n",
              "441    0\n",
              "681    1\n",
              "565    0\n",
              "Name: Survived, Length: 712, dtype: int64"
            ]
          },
          "metadata": {
            "tags": []
          },
          "execution_count": 252
        }
      ]
    },
    {
      "cell_type": "code",
      "metadata": {
        "id": "Krc9QOWS7_IU",
        "outputId": "2c2aa715-fa76-4a3a-e234-51cf6250f04c",
        "colab": {
          "base_uri": "https://localhost:8080/",
          "height": 34
        }
      },
      "source": [
        "train_y2.iloc[3]"
      ],
      "execution_count": 253,
      "outputs": [
        {
          "output_type": "execute_result",
          "data": {
            "text/plain": [
              "0"
            ]
          },
          "metadata": {
            "tags": []
          },
          "execution_count": 253
        }
      ]
    },
    {
      "cell_type": "code",
      "metadata": {
        "id": "naJzDCUv_X-2"
      },
      "source": [
        "k_acc = []\n",
        "pred = []\n",
        "distances = []\n",
        "for i in range(len(test_x2)):\n",
        "  distances.append(getDists(train_x2, test_x2.iloc[ i , : ]))"
      ],
      "execution_count": 254,
      "outputs": []
    },
    {
      "cell_type": "code",
      "metadata": {
        "id": "n5KVt7gMAcKm",
        "outputId": "c2931d2b-1c8b-45f9-ddaa-67df7a3f95ee",
        "colab": {
          "base_uri": "https://localhost:8080/",
          "height": 34
        }
      },
      "source": [
        "print(distances[0][0])"
      ],
      "execution_count": 255,
      "outputs": [
        {
          "output_type": "stream",
          "text": [
            "(0.0, 179)\n"
          ],
          "name": "stdout"
        }
      ]
    },
    {
      "cell_type": "code",
      "metadata": {
        "id": "vYi2nMCOynRZ",
        "outputId": "a424d502-9794-4b4b-d09b-d5bfcae1fc7d",
        "colab": {
          "base_uri": "https://localhost:8080/",
          "height": 1000
        }
      },
      "source": [
        "for k in range(5, len(train_x2) - 2, 5):\n",
        "  pred = []\n",
        "  for i in range(len(test_x2)):    \n",
        "    neighbors = getNeighbors(train_x2, test_x2.iloc[ i , : ], k, distances[i])\n",
        "    #print(neighbors)\n",
        "    #print(\"-----\")\n",
        "    result = getResponse(train_y2, neighbors)\n",
        "    pred.append(result)\n",
        "  accuracy = getAccuracy(test_y2, pred)\n",
        "  print((k), accuracy)\n",
        "  #print(str(k) + \" done\")\n",
        "  k_acc.append(((k+1), accuracy))\n"
      ],
      "execution_count": 256,
      "outputs": [
        {
          "output_type": "stream",
          "text": [
            "5 54.7486033519553\n",
            "10 50.83798882681564\n",
            "15 54.7486033519553\n",
            "20 53.072625698324025\n",
            "25 54.18994413407822\n",
            "30 54.7486033519553\n",
            "35 58.10055865921788\n",
            "40 56.424581005586596\n",
            "45 59.217877094972074\n",
            "50 58.10055865921788\n",
            "55 62.56983240223464\n",
            "60 62.01117318435754\n",
            "65 63.687150837988824\n",
            "70 63.128491620111724\n",
            "75 65.36312849162012\n",
            "80 65.92178770949721\n",
            "85 65.36312849162012\n",
            "90 65.36312849162012\n",
            "95 66.4804469273743\n",
            "100 66.4804469273743\n",
            "105 67.0391061452514\n",
            "110 67.0391061452514\n",
            "115 68.71508379888269\n",
            "120 67.0391061452514\n",
            "125 67.0391061452514\n",
            "130 67.0391061452514\n",
            "135 67.0391061452514\n",
            "140 67.0391061452514\n",
            "145 67.0391061452514\n",
            "150 67.0391061452514\n",
            "155 67.0391061452514\n",
            "160 67.0391061452514\n",
            "165 67.0391061452514\n",
            "170 67.0391061452514\n",
            "175 67.0391061452514\n",
            "180 67.0391061452514\n",
            "185 67.0391061452514\n",
            "190 67.0391061452514\n",
            "195 67.0391061452514\n",
            "200 67.0391061452514\n",
            "205 67.0391061452514\n",
            "210 67.0391061452514\n",
            "215 67.0391061452514\n",
            "220 67.0391061452514\n",
            "225 67.0391061452514\n",
            "230 67.0391061452514\n",
            "235 67.0391061452514\n",
            "240 67.0391061452514\n",
            "245 67.0391061452514\n",
            "250 67.0391061452514\n",
            "255 67.0391061452514\n",
            "260 67.0391061452514\n",
            "265 67.0391061452514\n",
            "270 67.0391061452514\n",
            "275 67.0391061452514\n",
            "280 67.0391061452514\n",
            "285 67.0391061452514\n",
            "290 67.0391061452514\n",
            "295 67.0391061452514\n",
            "300 67.0391061452514\n",
            "305 67.0391061452514\n",
            "310 67.0391061452514\n",
            "315 67.0391061452514\n",
            "320 67.0391061452514\n",
            "325 67.0391061452514\n",
            "330 67.0391061452514\n",
            "335 67.0391061452514\n",
            "340 67.0391061452514\n",
            "345 67.0391061452514\n",
            "350 67.0391061452514\n",
            "355 67.0391061452514\n",
            "360 67.0391061452514\n",
            "365 67.0391061452514\n",
            "370 67.0391061452514\n",
            "375 67.0391061452514\n",
            "380 67.0391061452514\n",
            "385 67.0391061452514\n",
            "390 67.0391061452514\n",
            "395 67.0391061452514\n",
            "400 67.0391061452514\n",
            "405 67.0391061452514\n",
            "410 67.0391061452514\n",
            "415 67.0391061452514\n",
            "420 67.0391061452514\n",
            "425 67.0391061452514\n",
            "430 67.0391061452514\n",
            "435 67.0391061452514\n",
            "440 67.0391061452514\n",
            "445 67.0391061452514\n",
            "450 67.0391061452514\n",
            "455 67.0391061452514\n",
            "460 67.0391061452514\n",
            "465 67.0391061452514\n",
            "470 67.0391061452514\n",
            "475 67.0391061452514\n",
            "480 67.0391061452514\n",
            "485 67.0391061452514\n",
            "490 67.0391061452514\n",
            "495 67.0391061452514\n",
            "500 67.0391061452514\n",
            "505 67.0391061452514\n",
            "510 67.0391061452514\n",
            "515 67.0391061452514\n",
            "520 67.0391061452514\n",
            "525 67.0391061452514\n",
            "530 67.0391061452514\n",
            "535 67.0391061452514\n",
            "540 67.0391061452514\n",
            "545 67.0391061452514\n",
            "550 67.0391061452514\n",
            "555 67.0391061452514\n",
            "560 67.0391061452514\n",
            "565 67.0391061452514\n",
            "570 67.0391061452514\n",
            "575 67.0391061452514\n",
            "580 67.0391061452514\n",
            "585 67.0391061452514\n",
            "590 67.0391061452514\n",
            "595 67.0391061452514\n",
            "600 67.0391061452514\n",
            "605 67.0391061452514\n",
            "610 67.0391061452514\n",
            "615 67.0391061452514\n",
            "620 67.0391061452514\n",
            "625 67.0391061452514\n",
            "630 67.0391061452514\n",
            "635 67.0391061452514\n",
            "640 67.0391061452514\n",
            "645 67.0391061452514\n",
            "650 67.0391061452514\n",
            "655 67.0391061452514\n",
            "660 67.0391061452514\n",
            "665 67.0391061452514\n",
            "670 67.0391061452514\n",
            "675 67.0391061452514\n",
            "680 67.0391061452514\n",
            "685 67.0391061452514\n",
            "690 67.0391061452514\n",
            "695 67.0391061452514\n",
            "700 67.0391061452514\n",
            "705 67.0391061452514\n"
          ],
          "name": "stdout"
        }
      ]
    },
    {
      "cell_type": "code",
      "metadata": {
        "id": "lVA8tS9iDwWC",
        "outputId": "ec7508bc-532a-4fc6-f593-6667f935af3f",
        "colab": {
          "base_uri": "https://localhost:8080/",
          "height": 281
        }
      },
      "source": [
        "X = [x[0] for x in k_acc]\n",
        "Y = [x[1] for x in k_acc]\n",
        "plt.plot(X, Y)\n",
        "plt.title(\"K vs KNN Accuracy\")\n",
        "plt.show()"
      ],
      "execution_count": 261,
      "outputs": [
        {
          "output_type": "display_data",
          "data": {
            "image/png": "[encoded data removed]",
            "text/plain": [
              "<Figure size 432x288 with 1 Axes>"
            ]
          },
          "metadata": {
            "tags": [],
            "needs_background": "light"
          }
        }
      ]
    },
    {
      "cell_type": "code",
      "metadata": {
        "id": "e_w3bzYGEuBO"
      },
      "source": [
        "k_acc = []\n",
        "pred = []\n",
        "distances = []\n",
        "for i in range(len(train_x)):\n",
        "  distances.append(getDists(train_x, train_x.iloc[ i , : ]))\n",
        "\n"
      ],
      "execution_count": 269,
      "outputs": []
    },
    {
      "cell_type": "code",
      "metadata": {
        "id": "feJyDBHFHnor",
        "outputId": "95512069-f74c-47cc-9826-64a172738cf3",
        "colab": {
          "base_uri": "https://localhost:8080/",
          "height": 34
        }
      },
      "source": [
        "len(distances)"
      ],
      "execution_count": 270,
      "outputs": [
        {
          "output_type": "execute_result",
          "data": {
            "text/plain": [
              "891"
            ]
          },
          "metadata": {
            "tags": []
          },
          "execution_count": 270
        }
      ]
    },
    {
      "cell_type": "code",
      "metadata": {
        "id": "5wjIV467Gvda",
        "outputId": "888594f4-bd78-4154-f52a-5a183a4c107d",
        "colab": {
          "base_uri": "https://localhost:8080/",
          "height": 1000
        }
      },
      "source": [
        "for k in range(5, len(train_x) - 2, 5):\n",
        "  pred = []\n",
        "  for i in range(len(distances)):    \n",
        "    neighbors = getNeighbors(train_x, train_x.iloc[ i , : ], k, distances[i])\n",
        "    #print(neighbors)\n",
        "    #print(\"-----\")\n",
        "    result = getResponse(train_y, neighbors)\n",
        "    pred.append(result)\n",
        "  accuracy = getAccuracy(train_y, pred)\n",
        "  print((k), accuracy)\n",
        "  #print(str(k) + \" done\")\n",
        "  k_acc.append(((k+1), accuracy))"
      ],
      "execution_count": 271,
      "outputs": [
        {
          "output_type": "stream",
          "text": [
            "5 76.0942760942761\n",
            "10 76.20650953984287\n",
            "15 73.73737373737373\n",
            "20 72.72727272727273\n",
            "25 71.8294051627385\n",
            "30 70.93153759820426\n",
            "35 70.03367003367003\n",
            "40 69.24803591470258\n",
            "45 69.1358024691358\n",
            "50 69.36026936026936\n",
            "55 68.91133557800224\n",
            "60 67.78900112233445\n",
            "65 66.77890011223344\n",
            "70 67.45230078563412\n",
            "75 65.54433221099887\n",
            "80 66.55443322109988\n",
            "85 65.54433221099887\n",
            "90 65.4320987654321\n",
            "95 64.98316498316498\n",
            "100 65.65656565656566\n",
            "105 65.09539842873177\n",
            "110 63.52413019079685\n",
            "115 62.62626262626263\n",
            "120 61.05499438832772\n",
            "125 61.84062850729517\n",
            "130 62.2895622895623\n",
            "135 60.71829405162739\n",
            "140 61.61616161616161\n",
            "145 61.61616161616161\n",
            "150 61.39169472502806\n",
            "155 61.61616161616161\n",
            "160 61.61616161616161\n",
            "165 61.61616161616161\n",
            "170 61.61616161616161\n",
            "175 61.61616161616161\n",
            "180 61.61616161616161\n",
            "185 61.61616161616161\n",
            "190 61.61616161616161\n",
            "195 61.61616161616161\n",
            "200 61.61616161616161\n",
            "205 61.61616161616161\n",
            "210 61.61616161616161\n",
            "215 61.61616161616161\n",
            "220 61.61616161616161\n",
            "225 61.61616161616161\n",
            "230 61.61616161616161\n",
            "235 61.61616161616161\n",
            "240 61.61616161616161\n",
            "245 61.61616161616161\n",
            "250 61.61616161616161\n",
            "255 61.61616161616161\n",
            "260 61.61616161616161\n",
            "265 61.61616161616161\n",
            "270 61.61616161616161\n",
            "275 61.61616161616161\n",
            "280 61.61616161616161\n",
            "285 61.61616161616161\n",
            "290 61.61616161616161\n",
            "295 61.61616161616161\n",
            "300 61.61616161616161\n",
            "305 61.61616161616161\n",
            "310 61.61616161616161\n",
            "315 61.61616161616161\n",
            "320 61.61616161616161\n",
            "325 61.61616161616161\n",
            "330 61.61616161616161\n",
            "335 61.61616161616161\n",
            "340 61.61616161616161\n",
            "345 61.61616161616161\n",
            "350 61.61616161616161\n",
            "355 61.61616161616161\n",
            "360 61.61616161616161\n",
            "365 61.61616161616161\n",
            "370 61.61616161616161\n",
            "375 61.61616161616161\n",
            "380 61.61616161616161\n",
            "385 61.61616161616161\n",
            "390 61.61616161616161\n",
            "395 61.61616161616161\n",
            "400 61.61616161616161\n",
            "405 61.61616161616161\n",
            "410 61.61616161616161\n",
            "415 61.61616161616161\n",
            "420 61.61616161616161\n",
            "425 61.61616161616161\n",
            "430 61.61616161616161\n",
            "435 61.61616161616161\n",
            "440 61.61616161616161\n",
            "445 61.61616161616161\n",
            "450 61.61616161616161\n",
            "455 61.61616161616161\n",
            "460 61.61616161616161\n",
            "465 61.61616161616161\n",
            "470 61.61616161616161\n",
            "475 61.61616161616161\n",
            "480 61.61616161616161\n",
            "485 61.61616161616161\n",
            "490 61.61616161616161\n",
            "495 61.61616161616161\n",
            "500 61.61616161616161\n",
            "505 61.61616161616161\n",
            "510 61.61616161616161\n",
            "515 61.61616161616161\n",
            "520 61.61616161616161\n",
            "525 61.61616161616161\n",
            "530 61.61616161616161\n",
            "535 61.61616161616161\n",
            "540 61.61616161616161\n",
            "545 61.61616161616161\n",
            "550 61.61616161616161\n",
            "555 61.61616161616161\n",
            "560 61.61616161616161\n",
            "565 61.61616161616161\n",
            "570 61.61616161616161\n",
            "575 61.61616161616161\n",
            "580 61.61616161616161\n",
            "585 61.61616161616161\n",
            "590 61.61616161616161\n",
            "595 61.61616161616161\n",
            "600 61.61616161616161\n",
            "605 61.61616161616161\n",
            "610 61.61616161616161\n",
            "615 61.61616161616161\n",
            "620 61.61616161616161\n",
            "625 61.61616161616161\n",
            "630 61.61616161616161\n",
            "635 61.61616161616161\n",
            "640 61.61616161616161\n",
            "645 61.61616161616161\n",
            "650 61.61616161616161\n",
            "655 61.61616161616161\n",
            "660 61.61616161616161\n",
            "665 61.61616161616161\n",
            "670 61.61616161616161\n",
            "675 61.61616161616161\n",
            "680 61.61616161616161\n",
            "685 61.61616161616161\n",
            "690 61.61616161616161\n",
            "695 61.61616161616161\n",
            "700 61.61616161616161\n",
            "705 61.61616161616161\n",
            "710 61.61616161616161\n",
            "715 61.61616161616161\n",
            "720 61.61616161616161\n",
            "725 61.61616161616161\n",
            "730 61.61616161616161\n",
            "735 61.61616161616161\n",
            "740 61.61616161616161\n",
            "745 61.61616161616161\n",
            "750 61.61616161616161\n",
            "755 61.61616161616161\n",
            "760 61.61616161616161\n",
            "765 61.61616161616161\n",
            "770 61.61616161616161\n",
            "775 61.61616161616161\n",
            "780 61.61616161616161\n",
            "785 61.61616161616161\n",
            "790 61.61616161616161\n",
            "795 61.61616161616161\n",
            "800 61.61616161616161\n",
            "805 61.61616161616161\n",
            "810 61.61616161616161\n",
            "815 61.61616161616161\n",
            "820 61.61616161616161\n",
            "825 61.61616161616161\n",
            "830 61.61616161616161\n",
            "835 61.61616161616161\n",
            "840 61.61616161616161\n",
            "845 61.61616161616161\n",
            "850 61.61616161616161\n",
            "855 61.61616161616161\n",
            "860 61.61616161616161\n",
            "865 61.61616161616161\n",
            "870 61.61616161616161\n",
            "875 61.61616161616161\n",
            "880 61.61616161616161\n",
            "885 61.61616161616161\n"
          ],
          "name": "stdout"
        },
        {
          "output_type": "display_data",
          "data": {
            "image/png": "[encoded data removed]",
            "text/plain": [
              "<Figure size 432x288 with 1 Axes>"
            ]
          },
          "metadata": {
            "tags": [],
            "needs_background": "light"
          }
        }
      ]
    },
    {
      "cell_type": "code",
      "metadata": {
        "id": "-1JgbwJ0KypE",
        "outputId": "a0018328-bf94-4244-c4b2-7ba9332db10e",
        "colab": {
          "base_uri": "https://localhost:8080/",
          "height": 281
        }
      },
      "source": [
        "X = [x[0] for x in k_acc]\n",
        "Y = [x[1] for x in k_acc]\n",
        "plt.plot(X, Y)\n",
        "plt.title(\"K vs KNN Accuracy\")\n",
        "plt.show()"
      ],
      "execution_count": 272,
      "outputs": [
        {
          "output_type": "display_data",
          "data": {
            "image/png": "[encoded data removed]",
            "text/plain": [
              "<Figure size 432x288 with 1 Axes>"
            ]
          },
          "metadata": {
            "tags": [],
            "needs_background": "light"
          }
        }
      ]
    }
  ]
}