{
  "nbformat": 4,
  "nbformat_minor": 0,
  "metadata": {
    "colab": {
      "name": "HW1_Titanic.ipynb",
      "provenance": [],
      "authorship_tag": "ABX9TyP/olk6HqeZp4cJZmcxJu8z",
      "include_colab_link": true
    },
    "kernelspec": {
      "name": "python3",
      "display_name": "Python 3"
    }
  },
  "cells": [
    {
      "cell_type": "markdown",
      "metadata": {
        "id": "view-in-github",
        "colab_type": "text"
      },
      "source": [
        "<a href=\"https://colab.research.google.com/github/Sarinda251/CAP_4630/blob/master/HW1_Titanic.ipynb\" target=\"_parent\"><img src=\"https://colab.research.google.com/assets/colab-badge.svg\" alt=\"Open In Colab\"/></a>"
      ]
    },
    {
      "cell_type": "code",
      "metadata": {
        "id": "EfhGNWBT91iz",
        "colab_type": "code",
        "colab": {}
      },
      "source": [
        "import pandas as pd\n",
        "import matplotlib.pyplot as plt\n",
        "import statistics\n",
        "from numpy.random import seed\n",
        "from numpy.random import randn\n",
        "seed(1)"
      ],
      "execution_count": 322,
      "outputs": []
    },
    {
      "cell_type": "code",
      "metadata": {
        "id": "HRzYfXCS9Iiy",
        "colab_type": "code",
        "colab": {}
      },
      "source": [
        "train_df = pd.read_csv('train.csv')\n",
        "test_df = pd.read_csv('test.csv')\n",
        "combine = [train_df, test_df]"
      ],
      "execution_count": 131,
      "outputs": []
    },
    {
      "cell_type": "code",
      "metadata": {
        "id": "okmdqfhy-17d",
        "colab_type": "code",
        "colab": {
          "base_uri": "https://localhost:8080/",
          "height": 255
        },
        "outputId": "37d45bc5-08c1-49a8-988f-04408167be32"
      },
      "source": [
        "print(train_df)"
      ],
      "execution_count": 132,
      "outputs": [
        {
          "output_type": "stream",
          "text": [
            "     PassengerId  Survived  Pclass  ...     Fare Cabin  Embarked\n",
            "0              1         0       3  ...   7.2500   NaN         S\n",
            "1              2         1       1  ...  71.2833   C85         C\n",
            "2              3         1       3  ...   7.9250   NaN         S\n",
            "3              4         1       1  ...  53.1000  C123         S\n",
            "4              5         0       3  ...   8.0500   NaN         S\n",
            "..           ...       ...     ...  ...      ...   ...       ...\n",
            "886          887         0       2  ...  13.0000   NaN         S\n",
            "887          888         1       1  ...  30.0000   B42         S\n",
            "888          889         0       3  ...  23.4500   NaN         S\n",
            "889          890         1       1  ...  30.0000  C148         C\n",
            "890          891         0       3  ...   7.7500   NaN         Q\n",
            "\n",
            "[891 rows x 12 columns]\n"
          ],
          "name": "stdout"
        }
      ]
    },
    {
      "cell_type": "markdown",
      "metadata": {
        "id": "k3ulzWHSHG9U",
        "colab_type": "text"
      },
      "source": [
        "question 1"
      ]
    },
    {
      "cell_type": "code",
      "metadata": {
        "id": "eZ5zKeD5Gog8",
        "colab_type": "code",
        "colab": {
          "base_uri": "https://localhost:8080/",
          "height": 68
        },
        "outputId": "9758a8a7-50d5-41de-d015-7a1a39e24c64"
      },
      "source": [
        "train_df.columns"
      ],
      "execution_count": 133,
      "outputs": [
        {
          "output_type": "execute_result",
          "data": {
            "text/plain": [
              "Index(['PassengerId', 'Survived', 'Pclass', 'Name', 'Sex', 'Age', 'SibSp',\n",
              "       'Parch', 'Ticket', 'Fare', 'Cabin', 'Embarked'],\n",
              "      dtype='object')"
            ]
          },
          "metadata": {
            "tags": []
          },
          "execution_count": 133
        }
      ]
    },
    {
      "cell_type": "markdown",
      "metadata": {
        "id": "Q28VXaODJUrG",
        "colab_type": "text"
      },
      "source": [
        "question 2 - 4"
      ]
    },
    {
      "cell_type": "code",
      "metadata": {
        "id": "v-DPEhZJJU8v",
        "colab_type": "code",
        "colab": {
          "base_uri": "https://localhost:8080/",
          "height": 419
        },
        "outputId": "f3192d6b-0de5-41c5-9ff5-a1fb1648ae41"
      },
      "source": [
        "train_df._get_numeric_data()"
      ],
      "execution_count": 134,
      "outputs": [
        {
          "output_type": "execute_result",
          "data": {
            "text/html": [
              "<div>\n",
              "<style scoped>\n",
              "    .dataframe tbody tr th:only-of-type {\n",
              "        vertical-align: middle;\n",
              "    }\n",
              "\n",
              "    .dataframe tbody tr th {\n",
              "        vertical-align: top;\n",
              "    }\n",
              "\n",
              "    .dataframe thead th {\n",
              "        text-align: right;\n",
              "    }\n",
              "</style>\n",
              "<table border=\"1\" class=\"dataframe\">\n",
              "  <thead>\n",
              "    <tr style=\"text-align: right;\">\n",
              "      <th></th>\n",
              "      <th>PassengerId</th>\n",
              "      <th>Survived</th>\n",
              "      <th>Pclass</th>\n",
              "      <th>Age</th>\n",
              "      <th>SibSp</th>\n",
              "      <th>Parch</th>\n",
              "      <th>Fare</th>\n",
              "    </tr>\n",
              "  </thead>\n",
              "  <tbody>\n",
              "    <tr>\n",
              "      <th>0</th>\n",
              "      <td>1</td>\n",
              "      <td>0</td>\n",
              "      <td>3</td>\n",
              "      <td>22.0</td>\n",
              "      <td>1</td>\n",
              "      <td>0</td>\n",
              "      <td>7.2500</td>\n",
              "    </tr>\n",
              "    <tr>\n",
              "      <th>1</th>\n",
              "      <td>2</td>\n",
              "      <td>1</td>\n",
              "      <td>1</td>\n",
              "      <td>38.0</td>\n",
              "      <td>1</td>\n",
              "      <td>0</td>\n",
              "      <td>71.2833</td>\n",
              "    </tr>\n",
              "    <tr>\n",
              "      <th>2</th>\n",
              "      <td>3</td>\n",
              "      <td>1</td>\n",
              "      <td>3</td>\n",
              "      <td>26.0</td>\n",
              "      <td>0</td>\n",
              "      <td>0</td>\n",
              "      <td>7.9250</td>\n",
              "    </tr>\n",
              "    <tr>\n",
              "      <th>3</th>\n",
              "      <td>4</td>\n",
              "      <td>1</td>\n",
              "      <td>1</td>\n",
              "      <td>35.0</td>\n",
              "      <td>1</td>\n",
              "      <td>0</td>\n",
              "      <td>53.1000</td>\n",
              "    </tr>\n",
              "    <tr>\n",
              "      <th>4</th>\n",
              "      <td>5</td>\n",
              "      <td>0</td>\n",
              "      <td>3</td>\n",
              "      <td>35.0</td>\n",
              "      <td>0</td>\n",
              "      <td>0</td>\n",
              "      <td>8.0500</td>\n",
              "    </tr>\n",
              "    <tr>\n",
              "      <th>...</th>\n",
              "      <td>...</td>\n",
              "      <td>...</td>\n",
              "      <td>...</td>\n",
              "      <td>...</td>\n",
              "      <td>...</td>\n",
              "      <td>...</td>\n",
              "      <td>...</td>\n",
              "    </tr>\n",
              "    <tr>\n",
              "      <th>886</th>\n",
              "      <td>887</td>\n",
              "      <td>0</td>\n",
              "      <td>2</td>\n",
              "      <td>27.0</td>\n",
              "      <td>0</td>\n",
              "      <td>0</td>\n",
              "      <td>13.0000</td>\n",
              "    </tr>\n",
              "    <tr>\n",
              "      <th>887</th>\n",
              "      <td>888</td>\n",
              "      <td>1</td>\n",
              "      <td>1</td>\n",
              "      <td>19.0</td>\n",
              "      <td>0</td>\n",
              "      <td>0</td>\n",
              "      <td>30.0000</td>\n",
              "    </tr>\n",
              "    <tr>\n",
              "      <th>888</th>\n",
              "      <td>889</td>\n",
              "      <td>0</td>\n",
              "      <td>3</td>\n",
              "      <td>NaN</td>\n",
              "      <td>1</td>\n",
              "      <td>2</td>\n",
              "      <td>23.4500</td>\n",
              "    </tr>\n",
              "    <tr>\n",
              "      <th>889</th>\n",
              "      <td>890</td>\n",
              "      <td>1</td>\n",
              "      <td>1</td>\n",
              "      <td>26.0</td>\n",
              "      <td>0</td>\n",
              "      <td>0</td>\n",
              "      <td>30.0000</td>\n",
              "    </tr>\n",
              "    <tr>\n",
              "      <th>890</th>\n",
              "      <td>891</td>\n",
              "      <td>0</td>\n",
              "      <td>3</td>\n",
              "      <td>32.0</td>\n",
              "      <td>0</td>\n",
              "      <td>0</td>\n",
              "      <td>7.7500</td>\n",
              "    </tr>\n",
              "  </tbody>\n",
              "</table>\n",
              "<p>891 rows × 7 columns</p>\n",
              "</div>"
            ],
            "text/plain": [
              "     PassengerId  Survived  Pclass   Age  SibSp  Parch     Fare\n",
              "0              1         0       3  22.0      1      0   7.2500\n",
              "1              2         1       1  38.0      1      0  71.2833\n",
              "2              3         1       3  26.0      0      0   7.9250\n",
              "3              4         1       1  35.0      1      0  53.1000\n",
              "4              5         0       3  35.0      0      0   8.0500\n",
              "..           ...       ...     ...   ...    ...    ...      ...\n",
              "886          887         0       2  27.0      0      0  13.0000\n",
              "887          888         1       1  19.0      0      0  30.0000\n",
              "888          889         0       3   NaN      1      2  23.4500\n",
              "889          890         1       1  26.0      0      0  30.0000\n",
              "890          891         0       3  32.0      0      0   7.7500\n",
              "\n",
              "[891 rows x 7 columns]"
            ]
          },
          "metadata": {
            "tags": []
          },
          "execution_count": 134
        }
      ]
    },
    {
      "cell_type": "markdown",
      "metadata": {
        "id": "do3TTnxXLAIC",
        "colab_type": "text"
      },
      "source": [
        "question 5"
      ]
    },
    {
      "cell_type": "code",
      "metadata": {
        "id": "CZZyKprTLBPc",
        "colab_type": "code",
        "colab": {
          "base_uri": "https://localhost:8080/",
          "height": 51
        },
        "outputId": "50421e5b-b4fc-4daa-b3b5-eeb405dab724"
      },
      "source": [
        "null_1=train_df.columns[train_df.isnull().any()]\n",
        "print(null_1)\n",
        "null_2=test_df.columns[test_df.isnull().any()]\n",
        "print(null_2)"
      ],
      "execution_count": 135,
      "outputs": [
        {
          "output_type": "stream",
          "text": [
            "Index(['Age', 'Cabin', 'Embarked'], dtype='object')\n",
            "Index(['Age', 'Fare', 'Cabin'], dtype='object')\n"
          ],
          "name": "stdout"
        }
      ]
    },
    {
      "cell_type": "code",
      "metadata": {
        "id": "UWJ3vh90RgiX",
        "colab_type": "code",
        "colab": {
          "base_uri": "https://localhost:8080/",
          "height": 340
        },
        "outputId": "c72ee833-8361-4515-f947-b05d7f95ec0e"
      },
      "source": [
        "train_df.info()"
      ],
      "execution_count": 136,
      "outputs": [
        {
          "output_type": "stream",
          "text": [
            "<class 'pandas.core.frame.DataFrame'>\n",
            "RangeIndex: 891 entries, 0 to 890\n",
            "Data columns (total 12 columns):\n",
            " #   Column       Non-Null Count  Dtype  \n",
            "---  ------       --------------  -----  \n",
            " 0   PassengerId  891 non-null    int64  \n",
            " 1   Survived     891 non-null    int64  \n",
            " 2   Pclass       891 non-null    int64  \n",
            " 3   Name         891 non-null    object \n",
            " 4   Sex          891 non-null    object \n",
            " 5   Age          714 non-null    float64\n",
            " 6   SibSp        891 non-null    int64  \n",
            " 7   Parch        891 non-null    int64  \n",
            " 8   Ticket       891 non-null    object \n",
            " 9   Fare         891 non-null    float64\n",
            " 10  Cabin        204 non-null    object \n",
            " 11  Embarked     889 non-null    object \n",
            "dtypes: float64(2), int64(5), object(5)\n",
            "memory usage: 83.7+ KB\n"
          ],
          "name": "stdout"
        }
      ]
    },
    {
      "cell_type": "code",
      "metadata": {
        "id": "i1n3jyXmRm0w",
        "colab_type": "code",
        "colab": {
          "base_uri": "https://localhost:8080/",
          "height": 323
        },
        "outputId": "0cb0abc3-1e9a-41c8-acb8-f4f4337c43bd"
      },
      "source": [
        "test_df.info()"
      ],
      "execution_count": 137,
      "outputs": [
        {
          "output_type": "stream",
          "text": [
            "<class 'pandas.core.frame.DataFrame'>\n",
            "RangeIndex: 418 entries, 0 to 417\n",
            "Data columns (total 11 columns):\n",
            " #   Column       Non-Null Count  Dtype  \n",
            "---  ------       --------------  -----  \n",
            " 0   PassengerId  418 non-null    int64  \n",
            " 1   Pclass       418 non-null    int64  \n",
            " 2   Name         418 non-null    object \n",
            " 3   Sex          418 non-null    object \n",
            " 4   Age          332 non-null    float64\n",
            " 5   SibSp        418 non-null    int64  \n",
            " 6   Parch        418 non-null    int64  \n",
            " 7   Ticket       418 non-null    object \n",
            " 8   Fare         417 non-null    float64\n",
            " 9   Cabin        91 non-null     object \n",
            " 10  Embarked     418 non-null    object \n",
            "dtypes: float64(2), int64(4), object(5)\n",
            "memory usage: 36.0+ KB\n"
          ],
          "name": "stdout"
        }
      ]
    },
    {
      "cell_type": "markdown",
      "metadata": {
        "id": "rhwquYi9O-3Q",
        "colab_type": "text"
      },
      "source": [
        "question 6"
      ]
    },
    {
      "cell_type": "code",
      "metadata": {
        "id": "JDfncErFO_7S",
        "colab_type": "code",
        "colab": {
          "base_uri": "https://localhost:8080/",
          "height": 238
        },
        "outputId": "63f9a2ad-2bb3-40c6-e541-eddcdb707615"
      },
      "source": [
        "train_df.dtypes"
      ],
      "execution_count": 138,
      "outputs": [
        {
          "output_type": "execute_result",
          "data": {
            "text/plain": [
              "PassengerId      int64\n",
              "Survived         int64\n",
              "Pclass           int64\n",
              "Name            object\n",
              "Sex             object\n",
              "Age            float64\n",
              "SibSp            int64\n",
              "Parch            int64\n",
              "Ticket          object\n",
              "Fare           float64\n",
              "Cabin           object\n",
              "Embarked        object\n",
              "dtype: object"
            ]
          },
          "metadata": {
            "tags": []
          },
          "execution_count": 138
        }
      ]
    },
    {
      "cell_type": "code",
      "metadata": {
        "id": "IUy4VCavPyA3",
        "colab_type": "code",
        "colab": {
          "base_uri": "https://localhost:8080/",
          "height": 221
        },
        "outputId": "e11fdc79-8085-4a07-b929-9cf2bbd38f41"
      },
      "source": [
        "train_df.Cabin"
      ],
      "execution_count": 139,
      "outputs": [
        {
          "output_type": "execute_result",
          "data": {
            "text/plain": [
              "0       NaN\n",
              "1       C85\n",
              "2       NaN\n",
              "3      C123\n",
              "4       NaN\n",
              "       ... \n",
              "886     NaN\n",
              "887     B42\n",
              "888     NaN\n",
              "889    C148\n",
              "890     NaN\n",
              "Name: Cabin, Length: 891, dtype: object"
            ]
          },
          "metadata": {
            "tags": []
          },
          "execution_count": 139
        }
      ]
    },
    {
      "cell_type": "markdown",
      "metadata": {
        "id": "z19cIvJVQsFO",
        "colab_type": "text"
      },
      "source": [
        "question 7"
      ]
    },
    {
      "cell_type": "code",
      "metadata": {
        "id": "-vzvDUI297C_",
        "colab_type": "code",
        "colab": {
          "base_uri": "https://localhost:8080/",
          "height": 297
        },
        "outputId": "6e222e59-8c2a-4a89-d04a-cfb6fb09dbae"
      },
      "source": [
        "train_df.describe()"
      ],
      "execution_count": 140,
      "outputs": [
        {
          "output_type": "execute_result",
          "data": {
            "text/html": [
              "<div>\n",
              "<style scoped>\n",
              "    .dataframe tbody tr th:only-of-type {\n",
              "        vertical-align: middle;\n",
              "    }\n",
              "\n",
              "    .dataframe tbody tr th {\n",
              "        vertical-align: top;\n",
              "    }\n",
              "\n",
              "    .dataframe thead th {\n",
              "        text-align: right;\n",
              "    }\n",
              "</style>\n",
              "<table border=\"1\" class=\"dataframe\">\n",
              "  <thead>\n",
              "    <tr style=\"text-align: right;\">\n",
              "      <th></th>\n",
              "      <th>PassengerId</th>\n",
              "      <th>Survived</th>\n",
              "      <th>Pclass</th>\n",
              "      <th>Age</th>\n",
              "      <th>SibSp</th>\n",
              "      <th>Parch</th>\n",
              "      <th>Fare</th>\n",
              "    </tr>\n",
              "  </thead>\n",
              "  <tbody>\n",
              "    <tr>\n",
              "      <th>count</th>\n",
              "      <td>891.000000</td>\n",
              "      <td>891.000000</td>\n",
              "      <td>891.000000</td>\n",
              "      <td>714.000000</td>\n",
              "      <td>891.000000</td>\n",
              "      <td>891.000000</td>\n",
              "      <td>891.000000</td>\n",
              "    </tr>\n",
              "    <tr>\n",
              "      <th>mean</th>\n",
              "      <td>446.000000</td>\n",
              "      <td>0.383838</td>\n",
              "      <td>2.308642</td>\n",
              "      <td>29.699118</td>\n",
              "      <td>0.523008</td>\n",
              "      <td>0.381594</td>\n",
              "      <td>32.204208</td>\n",
              "    </tr>\n",
              "    <tr>\n",
              "      <th>std</th>\n",
              "      <td>257.353842</td>\n",
              "      <td>0.486592</td>\n",
              "      <td>0.836071</td>\n",
              "      <td>14.526497</td>\n",
              "      <td>1.102743</td>\n",
              "      <td>0.806057</td>\n",
              "      <td>49.693429</td>\n",
              "    </tr>\n",
              "    <tr>\n",
              "      <th>min</th>\n",
              "      <td>1.000000</td>\n",
              "      <td>0.000000</td>\n",
              "      <td>1.000000</td>\n",
              "      <td>0.420000</td>\n",
              "      <td>0.000000</td>\n",
              "      <td>0.000000</td>\n",
              "      <td>0.000000</td>\n",
              "    </tr>\n",
              "    <tr>\n",
              "      <th>25%</th>\n",
              "      <td>223.500000</td>\n",
              "      <td>0.000000</td>\n",
              "      <td>2.000000</td>\n",
              "      <td>20.125000</td>\n",
              "      <td>0.000000</td>\n",
              "      <td>0.000000</td>\n",
              "      <td>7.910400</td>\n",
              "    </tr>\n",
              "    <tr>\n",
              "      <th>50%</th>\n",
              "      <td>446.000000</td>\n",
              "      <td>0.000000</td>\n",
              "      <td>3.000000</td>\n",
              "      <td>28.000000</td>\n",
              "      <td>0.000000</td>\n",
              "      <td>0.000000</td>\n",
              "      <td>14.454200</td>\n",
              "    </tr>\n",
              "    <tr>\n",
              "      <th>75%</th>\n",
              "      <td>668.500000</td>\n",
              "      <td>1.000000</td>\n",
              "      <td>3.000000</td>\n",
              "      <td>38.000000</td>\n",
              "      <td>1.000000</td>\n",
              "      <td>0.000000</td>\n",
              "      <td>31.000000</td>\n",
              "    </tr>\n",
              "    <tr>\n",
              "      <th>max</th>\n",
              "      <td>891.000000</td>\n",
              "      <td>1.000000</td>\n",
              "      <td>3.000000</td>\n",
              "      <td>80.000000</td>\n",
              "      <td>8.000000</td>\n",
              "      <td>6.000000</td>\n",
              "      <td>512.329200</td>\n",
              "    </tr>\n",
              "  </tbody>\n",
              "</table>\n",
              "</div>"
            ],
            "text/plain": [
              "       PassengerId    Survived      Pclass  ...       SibSp       Parch        Fare\n",
              "count   891.000000  891.000000  891.000000  ...  891.000000  891.000000  891.000000\n",
              "mean    446.000000    0.383838    2.308642  ...    0.523008    0.381594   32.204208\n",
              "std     257.353842    0.486592    0.836071  ...    1.102743    0.806057   49.693429\n",
              "min       1.000000    0.000000    1.000000  ...    0.000000    0.000000    0.000000\n",
              "25%     223.500000    0.000000    2.000000  ...    0.000000    0.000000    7.910400\n",
              "50%     446.000000    0.000000    3.000000  ...    0.000000    0.000000   14.454200\n",
              "75%     668.500000    1.000000    3.000000  ...    1.000000    0.000000   31.000000\n",
              "max     891.000000    1.000000    3.000000  ...    8.000000    6.000000  512.329200\n",
              "\n",
              "[8 rows x 7 columns]"
            ]
          },
          "metadata": {
            "tags": []
          },
          "execution_count": 140
        }
      ]
    },
    {
      "cell_type": "markdown",
      "metadata": {
        "id": "ZRZpTiQQQtpP",
        "colab_type": "text"
      },
      "source": [
        "question 8"
      ]
    },
    {
      "cell_type": "code",
      "metadata": {
        "id": "iKd-ZdIzQwkY",
        "colab_type": "code",
        "colab": {
          "base_uri": "https://localhost:8080/",
          "height": 102
        },
        "outputId": "f01feadf-2872-4925-8ac8-0623f70e5ae7"
      },
      "source": [
        "train_df.Name.describe()"
      ],
      "execution_count": 141,
      "outputs": [
        {
          "output_type": "execute_result",
          "data": {
            "text/plain": [
              "count                        891\n",
              "unique                       891\n",
              "top       Gheorgheff, Mr. Stanio\n",
              "freq                           1\n",
              "Name: Name, dtype: object"
            ]
          },
          "metadata": {
            "tags": []
          },
          "execution_count": 141
        }
      ]
    },
    {
      "cell_type": "code",
      "metadata": {
        "id": "gc-6YjcZSh4i",
        "colab_type": "code",
        "colab": {
          "base_uri": "https://localhost:8080/",
          "height": 102
        },
        "outputId": "4ca5f836-cca1-45eb-dce1-094782ec11fe"
      },
      "source": [
        "train_df.Sex.describe()"
      ],
      "execution_count": 142,
      "outputs": [
        {
          "output_type": "execute_result",
          "data": {
            "text/plain": [
              "count      891\n",
              "unique       2\n",
              "top       male\n",
              "freq       577\n",
              "Name: Sex, dtype: object"
            ]
          },
          "metadata": {
            "tags": []
          },
          "execution_count": 142
        }
      ]
    },
    {
      "cell_type": "code",
      "metadata": {
        "id": "Xf9NsnHeSj1w",
        "colab_type": "code",
        "colab": {
          "base_uri": "https://localhost:8080/",
          "height": 102
        },
        "outputId": "61ab5c21-6ed1-4f7a-b859-1d9be0e28693"
      },
      "source": [
        "train_df.Embarked.describe()"
      ],
      "execution_count": 143,
      "outputs": [
        {
          "output_type": "execute_result",
          "data": {
            "text/plain": [
              "count     889\n",
              "unique      3\n",
              "top         S\n",
              "freq      644\n",
              "Name: Embarked, dtype: object"
            ]
          },
          "metadata": {
            "tags": []
          },
          "execution_count": 143
        }
      ]
    },
    {
      "cell_type": "code",
      "metadata": {
        "id": "lzKetvyTT5V3",
        "colab_type": "code",
        "colab": {
          "base_uri": "https://localhost:8080/",
          "height": 102
        },
        "outputId": "9da8dacf-5709-4da3-ba91-fb7f13978f42"
      },
      "source": [
        "train_df.Ticket.describe()"
      ],
      "execution_count": 144,
      "outputs": [
        {
          "output_type": "execute_result",
          "data": {
            "text/plain": [
              "count      891\n",
              "unique     681\n",
              "top       1601\n",
              "freq         7\n",
              "Name: Ticket, dtype: object"
            ]
          },
          "metadata": {
            "tags": []
          },
          "execution_count": 144
        }
      ]
    },
    {
      "cell_type": "code",
      "metadata": {
        "id": "2H3yN7gPThSp",
        "colab_type": "code",
        "colab": {
          "base_uri": "https://localhost:8080/",
          "height": 102
        },
        "outputId": "1a145875-0692-4bfc-aeac-0d0ef8337ca1"
      },
      "source": [
        "train_df.Cabin.describe()"
      ],
      "execution_count": 145,
      "outputs": [
        {
          "output_type": "execute_result",
          "data": {
            "text/plain": [
              "count         204\n",
              "unique        147\n",
              "top       B96 B98\n",
              "freq            4\n",
              "Name: Cabin, dtype: object"
            ]
          },
          "metadata": {
            "tags": []
          },
          "execution_count": 145
        }
      ]
    },
    {
      "cell_type": "markdown",
      "metadata": {
        "id": "6mZh7I9-UGZg",
        "colab_type": "text"
      },
      "source": [
        "question 9"
      ]
    },
    {
      "cell_type": "code",
      "metadata": {
        "id": "GRXfMsXhUJvQ",
        "colab_type": "code",
        "colab": {
          "base_uri": "https://localhost:8080/",
          "height": 34
        },
        "outputId": "d77fe3a0-1bc9-49df-8690-2358db583b5c"
      },
      "source": [
        "train_df[train_df['Pclass'] == 1]['Survived'].mean()"
      ],
      "execution_count": 146,
      "outputs": [
        {
          "output_type": "execute_result",
          "data": {
            "text/plain": [
              "0.6296296296296297"
            ]
          },
          "metadata": {
            "tags": []
          },
          "execution_count": 146
        }
      ]
    },
    {
      "cell_type": "markdown",
      "metadata": {
        "id": "kYBGfLHLUGYh",
        "colab_type": "text"
      },
      "source": [
        "question 10"
      ]
    },
    {
      "cell_type": "code",
      "metadata": {
        "id": "KHpudAZgWpZR",
        "colab_type": "code",
        "colab": {
          "base_uri": "https://localhost:8080/",
          "height": 34
        },
        "outputId": "9d3ff4f0-b012-46a2-aa86-d70747640c88"
      },
      "source": [
        "train_df[train_df['Sex'] == 'male']['Survived'].mean()"
      ],
      "execution_count": 147,
      "outputs": [
        {
          "output_type": "execute_result",
          "data": {
            "text/plain": [
              "0.18890814558058924"
            ]
          },
          "metadata": {
            "tags": []
          },
          "execution_count": 147
        }
      ]
    },
    {
      "cell_type": "code",
      "metadata": {
        "id": "1yYm42jLW6AO",
        "colab_type": "code",
        "colab": {
          "base_uri": "https://localhost:8080/",
          "height": 34
        },
        "outputId": "95f978a7-2ae4-406e-f55a-583bb069b454"
      },
      "source": [
        "train_df[train_df['Sex'] == 'female']['Survived'].mean()"
      ],
      "execution_count": 148,
      "outputs": [
        {
          "output_type": "execute_result",
          "data": {
            "text/plain": [
              "0.7420382165605095"
            ]
          },
          "metadata": {
            "tags": []
          },
          "execution_count": 148
        }
      ]
    },
    {
      "cell_type": "markdown",
      "metadata": {
        "id": "GXJ8DXBspyb7",
        "colab_type": "text"
      },
      "source": [
        "question 11"
      ]
    },
    {
      "cell_type": "code",
      "metadata": {
        "id": "QsVwTRaqsxys",
        "colab_type": "code",
        "colab": {
          "base_uri": "https://localhost:8080/",
          "height": 346
        },
        "outputId": "630726d9-c4e2-44de-a45b-ede7069bf23b"
      },
      "source": [
        "survived = train_df[train_df['Survived'] == 1]\n",
        "\n",
        "ages = sorted(survived['Age'].value_counts().index)\n",
        "counts = []\n",
        "for i in ages:\n",
        "  counts.append(len(survived[train_df['Age'] == i]))\n",
        "\n",
        "plt.hist(ages)\n",
        "plt.xlabel('Age')\n",
        "plt.title('Survived = 1')"
      ],
      "execution_count": 196,
      "outputs": [
        {
          "output_type": "stream",
          "text": [
            "/usr/local/lib/python3.6/dist-packages/ipykernel_launcher.py:6: UserWarning: Boolean Series key will be reindexed to match DataFrame index.\n",
            "  \n"
          ],
          "name": "stderr"
        },
        {
          "output_type": "execute_result",
          "data": {
            "text/plain": [
              "Text(0.5, 1.0, 'Survived = 1')"
            ]
          },
          "metadata": {
            "tags": []
          },
          "execution_count": 196
        },
        {
          "output_type": "display_data",
          "data": {
            "image/png": "[encoded data removed]",
            "text/plain": [
              "<Figure size 432x288 with 1 Axes>"
            ]
          },
          "metadata": {
            "tags": [],
            "needs_background": "light"
          }
        }
      ]
    },
    {
      "cell_type": "code",
      "metadata": {
        "id": "OjG_eqikp8dM",
        "colab_type": "code",
        "colab": {
          "base_uri": "https://localhost:8080/",
          "height": 346
        },
        "outputId": "d9b30836-223f-4d64-d40a-b04633ab38ad"
      },
      "source": [
        "dead = train_df[train_df['Survived'] == 0]\n",
        "\n",
        "ages = sorted(dead['Age'].value_counts().index)\n",
        "counts = []\n",
        "for i in ages:\n",
        "  counts.append(len(dead[train_df['Age'] == i]))\n",
        "\n",
        "\n",
        "plt.hist(ages)\n",
        "plt.xlabel('Age')\n",
        "plt.title('Survived = 0')"
      ],
      "execution_count": 195,
      "outputs": [
        {
          "output_type": "stream",
          "text": [
            "/usr/local/lib/python3.6/dist-packages/ipykernel_launcher.py:6: UserWarning: Boolean Series key will be reindexed to match DataFrame index.\n",
            "  \n"
          ],
          "name": "stderr"
        },
        {
          "output_type": "execute_result",
          "data": {
            "text/plain": [
              "Text(0.5, 1.0, 'Survived = 0')"
            ]
          },
          "metadata": {
            "tags": []
          },
          "execution_count": 195
        },
        {
          "output_type": "display_data",
          "data": {
            "image/png": "[encoded data removed]",
            "text/plain": [
              "<Figure size 432x288 with 1 Axes>"
            ]
          },
          "metadata": {
            "tags": [],
            "needs_background": "light"
          }
        }
      ]
    },
    {
      "cell_type": "code",
      "metadata": {
        "id": "xNmHAtR87Tuy",
        "colab_type": "code",
        "colab": {
          "base_uri": "https://localhost:8080/",
          "height": 380
        },
        "outputId": "f532a9a4-f80a-45ea-d022-6728dbe1acdf"
      },
      "source": [
        "allages = sorted(train_df['Age'].value_counts().index)\n",
        "counts = []\n",
        "\n",
        "for i in allages:\n",
        "  scounts = len(survived[train_df['Age'] == i])\n",
        "  dcounts = len(dead[train_df['Age'] == i])\n",
        "  counts.append((scounts/(scounts+dcounts)))\n",
        "\n",
        "plt.bar(allages, counts)\n",
        "plt.xlabel('Age')\n",
        "plt.title('Age vs Survival Rate')\n"
      ],
      "execution_count": 176,
      "outputs": [
        {
          "output_type": "stream",
          "text": [
            "/usr/local/lib/python3.6/dist-packages/ipykernel_launcher.py:5: UserWarning: Boolean Series key will be reindexed to match DataFrame index.\n",
            "  \"\"\"\n",
            "/usr/local/lib/python3.6/dist-packages/ipykernel_launcher.py:6: UserWarning: Boolean Series key will be reindexed to match DataFrame index.\n",
            "  \n"
          ],
          "name": "stderr"
        },
        {
          "output_type": "execute_result",
          "data": {
            "text/plain": [
              "Text(0.5, 1.0, 'Age vs Survival Rate')"
            ]
          },
          "metadata": {
            "tags": []
          },
          "execution_count": 176
        },
        {
          "output_type": "display_data",
          "data": {
            "image/png": "[encoded data removed]",
            "text/plain": [
              "<Figure size 432x288 with 1 Axes>"
            ]
          },
          "metadata": {
            "tags": [],
            "needs_background": "light"
          }
        }
      ]
    },
    {
      "cell_type": "code",
      "metadata": {
        "id": "TlTebpmq_YSN",
        "colab_type": "code",
        "colab": {
          "base_uri": "https://localhost:8080/",
          "height": 363
        },
        "outputId": "5878b30d-87f7-46fe-859b-4d3cbebfe71b"
      },
      "source": [
        "allages = sorted(train_df['Age'].value_counts().index)\n",
        "counts = []\n",
        "\n",
        "for i in allages:\n",
        "  scounts = len(survived[train_df['Age'] == i])\n",
        "  dcounts = len(dead[train_df['Age'] == i])\n",
        "  counts.append((scounts/(scounts+dcounts)))\n",
        "\n",
        "plt.bar(allages, counts)\n",
        "plt.xlabel('Age')\n",
        "plt.title('Age vs Survival Rate')\n",
        "plt.xticks(allages, '')\n",
        "plt.xticks([4,15,25,80], [\"4\", \"15\", \"25\", \"80\"])\n",
        "plt.show()\n"
      ],
      "execution_count": 187,
      "outputs": [
        {
          "output_type": "stream",
          "text": [
            "/usr/local/lib/python3.6/dist-packages/ipykernel_launcher.py:5: UserWarning: Boolean Series key will be reindexed to match DataFrame index.\n",
            "  \"\"\"\n",
            "/usr/local/lib/python3.6/dist-packages/ipykernel_launcher.py:6: UserWarning: Boolean Series key will be reindexed to match DataFrame index.\n",
            "  \n"
          ],
          "name": "stderr"
        },
        {
          "output_type": "display_data",
          "data": {
            "image/png": "[encoded data removed]",
            "text/plain": [
              "<Figure size 432x288 with 1 Axes>"
            ]
          },
          "metadata": {
            "tags": [],
            "needs_background": "light"
          }
        }
      ]
    },
    {
      "cell_type": "markdown",
      "metadata": {
        "id": "K6AMLpsZ69vb",
        "colab_type": "text"
      },
      "source": [
        "question 12"
      ]
    },
    {
      "cell_type": "code",
      "metadata": {
        "id": "uijdwNMSsZdb",
        "colab_type": "code",
        "colab": {
          "base_uri": "https://localhost:8080/",
          "height": 363
        },
        "outputId": "996d8c16-a770-4b10-d797-7df1c35ca9f2"
      },
      "source": [
        "classes = train_df[train_df['Pclass'] == 1]\n",
        "dead = classes[train_df['Survived'] == 0]\n",
        "\n",
        "ages = sorted(dead['Age'].value_counts().index)\n",
        "print(len(ages))\n",
        "plt.hist(ages)\n",
        "plt.xlabel('Age')\n",
        "plt.title('Pclass = 1 | Survived = 0')\n",
        "plt.yticks([10,20,30,40])\n",
        "plt.show"
      ],
      "execution_count": 212,
      "outputs": [
        {
          "output_type": "stream",
          "text": [
            "39\n"
          ],
          "name": "stdout"
        },
        {
          "output_type": "stream",
          "text": [
            "/usr/local/lib/python3.6/dist-packages/ipykernel_launcher.py:2: UserWarning: Boolean Series key will be reindexed to match DataFrame index.\n",
            "  \n"
          ],
          "name": "stderr"
        },
        {
          "output_type": "execute_result",
          "data": {
            "text/plain": [
              "<function matplotlib.pyplot.show>"
            ]
          },
          "metadata": {
            "tags": []
          },
          "execution_count": 212
        },
        {
          "output_type": "display_data",
          "data": {
            "image/png": "[encoded data removed]",
            "text/plain": [
              "<Figure size 432x288 with 1 Axes>"
            ]
          },
          "metadata": {
            "tags": [],
            "needs_background": "light"
          }
        }
      ]
    },
    {
      "cell_type": "code",
      "metadata": {
        "id": "tIXIyY3OGEDk",
        "colab_type": "code",
        "colab": {
          "base_uri": "https://localhost:8080/",
          "height": 363
        },
        "outputId": "d2b892f3-75a4-4c72-bad8-7792b068dde6"
      },
      "source": [
        "classes = train_df[train_df['Pclass'] == 1]\n",
        "dead = classes[train_df['Survived'] == 1]\n",
        "\n",
        "ages = sorted(dead['Age'].value_counts().index)\n",
        "print(len(ages))\n",
        "plt.hist(ages)\n",
        "plt.xlabel('Age')\n",
        "plt.title('Pclass = 1 | Survived = 1')\n",
        "plt.yticks([10,20,30,40])\n",
        "plt.show"
      ],
      "execution_count": 211,
      "outputs": [
        {
          "output_type": "stream",
          "text": [
            "48\n"
          ],
          "name": "stdout"
        },
        {
          "output_type": "stream",
          "text": [
            "/usr/local/lib/python3.6/dist-packages/ipykernel_launcher.py:2: UserWarning: Boolean Series key will be reindexed to match DataFrame index.\n",
            "  \n"
          ],
          "name": "stderr"
        },
        {
          "output_type": "execute_result",
          "data": {
            "text/plain": [
              "<function matplotlib.pyplot.show>"
            ]
          },
          "metadata": {
            "tags": []
          },
          "execution_count": 211
        },
        {
          "output_type": "display_data",
          "data": {
            "image/png": "[encoded data removed]",
            "text/plain": [
              "<Figure size 432x288 with 1 Axes>"
            ]
          },
          "metadata": {
            "tags": [],
            "needs_background": "light"
          }
        }
      ]
    },
    {
      "cell_type": "code",
      "metadata": {
        "id": "8DwwwQ03GSq-",
        "colab_type": "code",
        "colab": {
          "base_uri": "https://localhost:8080/",
          "height": 363
        },
        "outputId": "e12eaea2-2c39-4a3d-f108-dd47bb6d0c23"
      },
      "source": [
        "classes = train_df[train_df['Pclass'] == 2]\n",
        "dead = classes[train_df['Survived'] == 0]\n",
        "\n",
        "ages = sorted(dead['Age'].value_counts().index)\n",
        "print(len(ages))\n",
        "plt.hist(ages)\n",
        "plt.xlabel('Age')\n",
        "plt.title('Pclass = 2 | Survived = 0')\n",
        "plt.xticks([0,10,20,30,40,50,60,70])\n",
        "plt.yticks([10,20,30,40])\n",
        "plt.show"
      ],
      "execution_count": 220,
      "outputs": [
        {
          "output_type": "stream",
          "text": [
            "38\n"
          ],
          "name": "stdout"
        },
        {
          "output_type": "stream",
          "text": [
            "/usr/local/lib/python3.6/dist-packages/ipykernel_launcher.py:2: UserWarning: Boolean Series key will be reindexed to match DataFrame index.\n",
            "  \n"
          ],
          "name": "stderr"
        },
        {
          "output_type": "execute_result",
          "data": {
            "text/plain": [
              "<function matplotlib.pyplot.show>"
            ]
          },
          "metadata": {
            "tags": []
          },
          "execution_count": 220
        },
        {
          "output_type": "display_data",
          "data": {
            "image/png": "[encoded data removed]",
            "text/plain": [
              "<Figure size 432x288 with 1 Axes>"
            ]
          },
          "metadata": {
            "tags": [],
            "needs_background": "light"
          }
        }
      ]
    },
    {
      "cell_type": "code",
      "metadata": {
        "id": "hl_pbN5kGWXX",
        "colab_type": "code",
        "colab": {
          "base_uri": "https://localhost:8080/",
          "height": 363
        },
        "outputId": "a650332b-3e68-4a95-8039-f3ad7df783f3"
      },
      "source": [
        "classes = train_df[train_df['Pclass'] == 2]\n",
        "dead = classes[train_df['Survived'] == 1]\n",
        "\n",
        "ages = sorted(dead['Age'].value_counts().index)\n",
        "print(len(ages))\n",
        "plt.hist(ages)\n",
        "plt.xlabel('Age')\n",
        "plt.title('Pclass = 2 | Survived = 1')\n",
        "plt.yticks([10,20,30,40])\n",
        "plt.show"
      ],
      "execution_count": 216,
      "outputs": [
        {
          "output_type": "stream",
          "text": [
            "40\n"
          ],
          "name": "stdout"
        },
        {
          "output_type": "stream",
          "text": [
            "/usr/local/lib/python3.6/dist-packages/ipykernel_launcher.py:2: UserWarning: Boolean Series key will be reindexed to match DataFrame index.\n",
            "  \n"
          ],
          "name": "stderr"
        },
        {
          "output_type": "execute_result",
          "data": {
            "text/plain": [
              "<function matplotlib.pyplot.show>"
            ]
          },
          "metadata": {
            "tags": []
          },
          "execution_count": 216
        },
        {
          "output_type": "display_data",
          "data": {
            "image/png": "[encoded data removed]",
            "text/plain": [
              "<Figure size 432x288 with 1 Axes>"
            ]
          },
          "metadata": {
            "tags": [],
            "needs_background": "light"
          }
        }
      ]
    },
    {
      "cell_type": "code",
      "metadata": {
        "id": "rDgMw1d9GdMZ",
        "colab_type": "code",
        "colab": {
          "base_uri": "https://localhost:8080/",
          "height": 346
        },
        "outputId": "7c7a2d18-b29c-4fae-ebe8-d133f1383875"
      },
      "source": [
        "classes = train_df[train_df['Pclass'] == 3]\n",
        "dead = classes[train_df['Survived'] == 0]\n",
        "\n",
        "ages = sorted(dead['Age'].value_counts().index)\n",
        "plt.hist(ages)\n",
        "plt.xlabel('Age')\n",
        "plt.title('Pclass = 3 | Survived = 0')\n",
        "plt.yticks([10,20,30,40])\n",
        "plt.show\n",
        "print(len(ages))"
      ],
      "execution_count": 219,
      "outputs": [
        {
          "output_type": "stream",
          "text": [
            "62\n"
          ],
          "name": "stdout"
        },
        {
          "output_type": "stream",
          "text": [
            "/usr/local/lib/python3.6/dist-packages/ipykernel_launcher.py:2: UserWarning: Boolean Series key will be reindexed to match DataFrame index.\n",
            "  \n"
          ],
          "name": "stderr"
        },
        {
          "output_type": "display_data",
          "data": {
            "image/png": "[encoded data removed]",
            "text/plain": [
              "<Figure size 432x288 with 1 Axes>"
            ]
          },
          "metadata": {
            "tags": [],
            "needs_background": "light"
          }
        }
      ]
    },
    {
      "cell_type": "code",
      "metadata": {
        "id": "Tib0xEAwGlid",
        "colab_type": "code",
        "colab": {
          "base_uri": "https://localhost:8080/",
          "height": 363
        },
        "outputId": "5f741677-ab0c-4173-d578-73e8c22edc9d"
      },
      "source": [
        "classes = train_df[train_df['Pclass'] == 3]\n",
        "dead = classes[train_df['Survived'] == 1]\n",
        "\n",
        "ages = sorted(dead['Age'].value_counts().index)\n",
        "print(len(ages))\n",
        "plt.hist(ages)\n",
        "plt.xlabel('Age')\n",
        "plt.title('Pclass = 3 | Survived = 1')\n",
        "plt.yticks([10,20,30,40])\n",
        "plt.show"
      ],
      "execution_count": 218,
      "outputs": [
        {
          "output_type": "stream",
          "text": [
            "37\n"
          ],
          "name": "stdout"
        },
        {
          "output_type": "stream",
          "text": [
            "/usr/local/lib/python3.6/dist-packages/ipykernel_launcher.py:2: UserWarning: Boolean Series key will be reindexed to match DataFrame index.\n",
            "  \n"
          ],
          "name": "stderr"
        },
        {
          "output_type": "execute_result",
          "data": {
            "text/plain": [
              "<function matplotlib.pyplot.show>"
            ]
          },
          "metadata": {
            "tags": []
          },
          "execution_count": 218
        },
        {
          "output_type": "display_data",
          "data": {
            "image/png": "[encoded data removed]",
            "text/plain": [
              "<Figure size 432x288 with 1 Axes>"
            ]
          },
          "metadata": {
            "tags": [],
            "needs_background": "light"
          }
        }
      ]
    },
    {
      "cell_type": "code",
      "metadata": {
        "id": "qUtKH_5QKV5n",
        "colab_type": "code",
        "colab": {
          "base_uri": "https://localhost:8080/",
          "height": 329
        },
        "outputId": "6be9842a-a004-4d00-c412-2e2a455dba30"
      },
      "source": [
        "classes = train_df[train_df['Pclass'] == 1]\n",
        "\n",
        "ages = sorted(classes['Age'].value_counts().index)\n",
        "print(len(ages))\n",
        "plt.hist(ages)\n",
        "plt.xlabel('Age')\n",
        "plt.title('Pclass = 1')\n",
        "plt.xticks([0,10,20,30,40,50,60,70])\n",
        "plt.yticks([10,20,30,40])\n",
        "plt.show"
      ],
      "execution_count": 223,
      "outputs": [
        {
          "output_type": "stream",
          "text": [
            "57\n"
          ],
          "name": "stdout"
        },
        {
          "output_type": "execute_result",
          "data": {
            "text/plain": [
              "<function matplotlib.pyplot.show>"
            ]
          },
          "metadata": {
            "tags": []
          },
          "execution_count": 223
        },
        {
          "output_type": "display_data",
          "data": {
            "image/png": "[encoded data removed]",
            "text/plain": [
              "<Figure size 432x288 with 1 Axes>"
            ]
          },
          "metadata": {
            "tags": [],
            "needs_background": "light"
          }
        }
      ]
    },
    {
      "cell_type": "code",
      "metadata": {
        "id": "qa_R1d81KThh",
        "colab_type": "code",
        "colab": {
          "base_uri": "https://localhost:8080/",
          "height": 329
        },
        "outputId": "549f6060-751f-4d5e-bb66-2a7836ee1ade"
      },
      "source": [
        "classes = train_df[train_df['Pclass'] == 2]\n",
        "\n",
        "ages = sorted(classes['Age'].value_counts().index)\n",
        "print(len(ages))\n",
        "plt.hist(ages)\n",
        "plt.xlabel('Age')\n",
        "plt.title('Pclass = 2')\n",
        "plt.xticks([0,10,20,30,40,50,60,70])\n",
        "plt.yticks([10,20,30,40])\n",
        "plt.show"
      ],
      "execution_count": 222,
      "outputs": [
        {
          "output_type": "stream",
          "text": [
            "57\n"
          ],
          "name": "stdout"
        },
        {
          "output_type": "execute_result",
          "data": {
            "text/plain": [
              "<function matplotlib.pyplot.show>"
            ]
          },
          "metadata": {
            "tags": []
          },
          "execution_count": 222
        },
        {
          "output_type": "display_data",
          "data": {
            "image/png": "[encoded data removed]",
            "text/plain": [
              "<Figure size 432x288 with 1 Axes>"
            ]
          },
          "metadata": {
            "tags": [],
            "needs_background": "light"
          }
        }
      ]
    },
    {
      "cell_type": "code",
      "metadata": {
        "id": "f3pouvhqKM7f",
        "colab_type": "code",
        "colab": {
          "base_uri": "https://localhost:8080/",
          "height": 329
        },
        "outputId": "74b8d771-70dd-45ed-bcc4-33684fbb0231"
      },
      "source": [
        "classes = train_df[train_df['Pclass'] == 3]\n",
        "\n",
        "ages = sorted(classes['Age'].value_counts().index)\n",
        "print(len(ages))\n",
        "plt.hist(ages)\n",
        "plt.xlabel('Age')\n",
        "plt.title('Pclass = 3')\n",
        "plt.xticks([0,10,20,30,40,50,60,70])\n",
        "plt.yticks([10,20,30,40])\n",
        "plt.show"
      ],
      "execution_count": 221,
      "outputs": [
        {
          "output_type": "stream",
          "text": [
            "68\n"
          ],
          "name": "stdout"
        },
        {
          "output_type": "execute_result",
          "data": {
            "text/plain": [
              "<function matplotlib.pyplot.show>"
            ]
          },
          "metadata": {
            "tags": []
          },
          "execution_count": 221
        },
        {
          "output_type": "display_data",
          "data": {
            "image/png": "[encoded data removed]",
            "text/plain": [
              "<Figure size 432x288 with 1 Axes>"
            ]
          },
          "metadata": {
            "tags": [],
            "needs_background": "light"
          }
        }
      ]
    },
    {
      "cell_type": "markdown",
      "metadata": {
        "id": "6U8l-G_RLKuD",
        "colab_type": "text"
      },
      "source": [
        "question 13"
      ]
    },
    {
      "cell_type": "code",
      "metadata": {
        "id": "m88lNmQXLMFm",
        "colab_type": "code",
        "colab": {
          "base_uri": "https://localhost:8080/",
          "height": 400
        },
        "outputId": "17bea8da-738c-4606-c9a7-5512c0dcdead"
      },
      "source": [
        "filter1 = train_df[train_df['Embarked'] == 'S']\n",
        "filter2 = filter1[train_df['Survived'] == 0]\n",
        "men = filter2[train_df['Sex'] == 'male']\n",
        "women = filter2[train_df['Sex'] == 'female']\n",
        "x = ['female', 'male']\n",
        "y = []\n",
        "\n",
        "y.append(statistics.mean(women['Fare'].values))\n",
        "y.append(statistics.mean(men['Fare'].values))\n",
        "\n",
        "plt.bar(x,y)\n",
        "plt.yticks([0,20,40,60,80])\n",
        "plt.title('Embarked = S | Survived = 0')"
      ],
      "execution_count": 256,
      "outputs": [
        {
          "output_type": "stream",
          "text": [
            "/usr/local/lib/python3.6/dist-packages/ipykernel_launcher.py:2: UserWarning: Boolean Series key will be reindexed to match DataFrame index.\n",
            "  \n",
            "/usr/local/lib/python3.6/dist-packages/ipykernel_launcher.py:3: UserWarning: Boolean Series key will be reindexed to match DataFrame index.\n",
            "  This is separate from the ipykernel package so we can avoid doing imports until\n",
            "/usr/local/lib/python3.6/dist-packages/ipykernel_launcher.py:4: UserWarning: Boolean Series key will be reindexed to match DataFrame index.\n",
            "  after removing the cwd from sys.path.\n"
          ],
          "name": "stderr"
        },
        {
          "output_type": "execute_result",
          "data": {
            "text/plain": [
              "Text(0.5, 1.0, 'Embarked = S | Survived = 0')"
            ]
          },
          "metadata": {
            "tags": []
          },
          "execution_count": 256
        },
        {
          "output_type": "display_data",
          "data": {
            "image/png": "[encoded data removed]",
            "text/plain": [
              "<Figure size 432x288 with 1 Axes>"
            ]
          },
          "metadata": {
            "tags": [],
            "needs_background": "light"
          }
        }
      ]
    },
    {
      "cell_type": "code",
      "metadata": {
        "colab_type": "code",
        "id": "_DGsNlAwPMkm",
        "colab": {
          "base_uri": "https://localhost:8080/",
          "height": 400
        },
        "outputId": "ca952fa4-e254-45dc-9a6c-8b3bb6ade69e"
      },
      "source": [
        "filter1 = train_df[train_df['Embarked'] == 'S']\n",
        "filter2 = filter1[train_df['Survived'] == 1]\n",
        "men = filter2[train_df['Sex'] == 'male']\n",
        "women = filter2[train_df['Sex'] == 'female']\n",
        "x = ['female', 'male']\n",
        "y = []\n",
        "\n",
        "y.append(statistics.mean(women['Fare'].values))\n",
        "y.append(statistics.mean(men['Fare'].values))\n",
        "\n",
        "plt.bar(x,y)\n",
        "plt.yticks([0,20,40,60,80])\n",
        "plt.title('Embarked = S | Survived = 1')"
      ],
      "execution_count": 257,
      "outputs": [
        {
          "output_type": "stream",
          "text": [
            "/usr/local/lib/python3.6/dist-packages/ipykernel_launcher.py:2: UserWarning: Boolean Series key will be reindexed to match DataFrame index.\n",
            "  \n",
            "/usr/local/lib/python3.6/dist-packages/ipykernel_launcher.py:3: UserWarning: Boolean Series key will be reindexed to match DataFrame index.\n",
            "  This is separate from the ipykernel package so we can avoid doing imports until\n",
            "/usr/local/lib/python3.6/dist-packages/ipykernel_launcher.py:4: UserWarning: Boolean Series key will be reindexed to match DataFrame index.\n",
            "  after removing the cwd from sys.path.\n"
          ],
          "name": "stderr"
        },
        {
          "output_type": "execute_result",
          "data": {
            "text/plain": [
              "Text(0.5, 1.0, 'Embarked = S | Survived = 1')"
            ]
          },
          "metadata": {
            "tags": []
          },
          "execution_count": 257
        },
        {
          "output_type": "display_data",
          "data": {
            "image/png": "[encoded data removed]",
            "text/plain": [
              "<Figure size 432x288 with 1 Axes>"
            ]
          },
          "metadata": {
            "tags": [],
            "needs_background": "light"
          }
        }
      ]
    },
    {
      "cell_type": "code",
      "metadata": {
        "colab_type": "code",
        "id": "goYKiTrxPMy2",
        "colab": {
          "base_uri": "https://localhost:8080/",
          "height": 400
        },
        "outputId": "42289204-c6da-46c3-ee4f-a493ec876fef"
      },
      "source": [
        "filter1 = train_df[train_df['Embarked'] == 'C']\n",
        "filter2 = filter1[train_df['Survived'] == 0]\n",
        "men = filter2[train_df['Sex'] == 'male']\n",
        "women = filter2[train_df['Sex'] == 'female']\n",
        "x = ['female', 'male']\n",
        "y = []\n",
        "\n",
        "y.append(statistics.mean(women['Fare'].values))\n",
        "y.append(statistics.mean(men['Fare'].values))\n",
        "\n",
        "plt.bar(x,y)\n",
        "plt.yticks([0,20,40,60,80])\n",
        "plt.title('Embarked = C | Survived = 0')"
      ],
      "execution_count": 259,
      "outputs": [
        {
          "output_type": "stream",
          "text": [
            "/usr/local/lib/python3.6/dist-packages/ipykernel_launcher.py:2: UserWarning: Boolean Series key will be reindexed to match DataFrame index.\n",
            "  \n",
            "/usr/local/lib/python3.6/dist-packages/ipykernel_launcher.py:3: UserWarning: Boolean Series key will be reindexed to match DataFrame index.\n",
            "  This is separate from the ipykernel package so we can avoid doing imports until\n",
            "/usr/local/lib/python3.6/dist-packages/ipykernel_launcher.py:4: UserWarning: Boolean Series key will be reindexed to match DataFrame index.\n",
            "  after removing the cwd from sys.path.\n"
          ],
          "name": "stderr"
        },
        {
          "output_type": "execute_result",
          "data": {
            "text/plain": [
              "Text(0.5, 1.0, 'Embarked = C | Survived = 0')"
            ]
          },
          "metadata": {
            "tags": []
          },
          "execution_count": 259
        },
        {
          "output_type": "display_data",
          "data": {
            "image/png": "[encoded data removed]",
            "text/plain": [
              "<Figure size 432x288 with 1 Axes>"
            ]
          },
          "metadata": {
            "tags": [],
            "needs_background": "light"
          }
        }
      ]
    },
    {
      "cell_type": "code",
      "metadata": {
        "colab_type": "code",
        "id": "WlkPlZ_iPNJt",
        "colab": {
          "base_uri": "https://localhost:8080/",
          "height": 400
        },
        "outputId": "627a4353-e627-42e0-c2ad-25263e4ebdf6"
      },
      "source": [
        "filter1 = train_df[train_df['Embarked'] == 'C']\n",
        "filter2 = filter1[train_df['Survived'] == 1]\n",
        "men = filter2[train_df['Sex'] == 'male']\n",
        "women = filter2[train_df['Sex'] == 'female']\n",
        "x = ['female', 'male']\n",
        "y = []\n",
        "\n",
        "y.append(statistics.mean(women['Fare'].values))\n",
        "y.append(statistics.mean(men['Fare'].values))\n",
        "\n",
        "plt.bar(x,y)\n",
        "plt.yticks([0,20,40,60,80])\n",
        "plt.title('Embarked = C | Survived = 1')"
      ],
      "execution_count": 260,
      "outputs": [
        {
          "output_type": "stream",
          "text": [
            "/usr/local/lib/python3.6/dist-packages/ipykernel_launcher.py:2: UserWarning: Boolean Series key will be reindexed to match DataFrame index.\n",
            "  \n",
            "/usr/local/lib/python3.6/dist-packages/ipykernel_launcher.py:3: UserWarning: Boolean Series key will be reindexed to match DataFrame index.\n",
            "  This is separate from the ipykernel package so we can avoid doing imports until\n",
            "/usr/local/lib/python3.6/dist-packages/ipykernel_launcher.py:4: UserWarning: Boolean Series key will be reindexed to match DataFrame index.\n",
            "  after removing the cwd from sys.path.\n"
          ],
          "name": "stderr"
        },
        {
          "output_type": "execute_result",
          "data": {
            "text/plain": [
              "Text(0.5, 1.0, 'Embarked = C | Survived = 1')"
            ]
          },
          "metadata": {
            "tags": []
          },
          "execution_count": 260
        },
        {
          "output_type": "display_data",
          "data": {
            "image/png": "[encoded data removed]",
            "text/plain": [
              "<Figure size 432x288 with 1 Axes>"
            ]
          },
          "metadata": {
            "tags": [],
            "needs_background": "light"
          }
        }
      ]
    },
    {
      "cell_type": "code",
      "metadata": {
        "colab_type": "code",
        "id": "alu0PjnBPNSO",
        "colab": {
          "base_uri": "https://localhost:8080/",
          "height": 400
        },
        "outputId": "a135b158-bf2b-4563-d6eb-72a9c41ddeb6"
      },
      "source": [
        "filter1 = train_df[train_df['Embarked'] == 'Q']\n",
        "filter2 = filter1[train_df['Survived'] == 0]\n",
        "men = filter2[train_df['Sex'] == 'male']\n",
        "women = filter2[train_df['Sex'] == 'female']\n",
        "x = ['female', 'male']\n",
        "y = []\n",
        "\n",
        "y.append(statistics.mean(women['Fare'].values))\n",
        "y.append(statistics.mean(men['Fare'].values))\n",
        "\n",
        "plt.bar(x,y)\n",
        "plt.yticks([0,20,40,60,80])\n",
        "plt.title('Embarked = Q | Survived = 0')"
      ],
      "execution_count": 261,
      "outputs": [
        {
          "output_type": "stream",
          "text": [
            "/usr/local/lib/python3.6/dist-packages/ipykernel_launcher.py:2: UserWarning: Boolean Series key will be reindexed to match DataFrame index.\n",
            "  \n",
            "/usr/local/lib/python3.6/dist-packages/ipykernel_launcher.py:3: UserWarning: Boolean Series key will be reindexed to match DataFrame index.\n",
            "  This is separate from the ipykernel package so we can avoid doing imports until\n",
            "/usr/local/lib/python3.6/dist-packages/ipykernel_launcher.py:4: UserWarning: Boolean Series key will be reindexed to match DataFrame index.\n",
            "  after removing the cwd from sys.path.\n"
          ],
          "name": "stderr"
        },
        {
          "output_type": "execute_result",
          "data": {
            "text/plain": [
              "Text(0.5, 1.0, 'Embarked = Q | Survived = 0')"
            ]
          },
          "metadata": {
            "tags": []
          },
          "execution_count": 261
        },
        {
          "output_type": "display_data",
          "data": {
            "image/png": "[encoded data removed]",
            "text/plain": [
              "<Figure size 432x288 with 1 Axes>"
            ]
          },
          "metadata": {
            "tags": [],
            "needs_background": "light"
          }
        }
      ]
    },
    {
      "cell_type": "code",
      "metadata": {
        "colab_type": "code",
        "id": "1m3IOSIFPNa9",
        "colab": {
          "base_uri": "https://localhost:8080/",
          "height": 400
        },
        "outputId": "37a94757-68c1-4552-ac6e-9c16c0158f39"
      },
      "source": [
        "filter1 = train_df[train_df['Embarked'] == 'Q']\n",
        "filter2 = filter1[train_df['Survived'] == 1]\n",
        "men = filter2[train_df['Sex'] == 'male']\n",
        "women = filter2[train_df['Sex'] == 'female']\n",
        "x = ['female', 'male']\n",
        "y = []\n",
        "\n",
        "y.append(statistics.mean(women['Fare'].values))\n",
        "y.append(statistics.mean(men['Fare'].values))\n",
        "\n",
        "plt.bar(x,y)\n",
        "plt.yticks([0,20,40,60,80])\n",
        "plt.title('Embarked = Q | Survived = 1')"
      ],
      "execution_count": 263,
      "outputs": [
        {
          "output_type": "stream",
          "text": [
            "/usr/local/lib/python3.6/dist-packages/ipykernel_launcher.py:2: UserWarning: Boolean Series key will be reindexed to match DataFrame index.\n",
            "  \n",
            "/usr/local/lib/python3.6/dist-packages/ipykernel_launcher.py:3: UserWarning: Boolean Series key will be reindexed to match DataFrame index.\n",
            "  This is separate from the ipykernel package so we can avoid doing imports until\n",
            "/usr/local/lib/python3.6/dist-packages/ipykernel_launcher.py:4: UserWarning: Boolean Series key will be reindexed to match DataFrame index.\n",
            "  after removing the cwd from sys.path.\n"
          ],
          "name": "stderr"
        },
        {
          "output_type": "execute_result",
          "data": {
            "text/plain": [
              "Text(0.5, 1.0, 'Embarked = Q | Survived = 1')"
            ]
          },
          "metadata": {
            "tags": []
          },
          "execution_count": 263
        },
        {
          "output_type": "display_data",
          "data": {
            "image/png": "[encoded data removed]",
            "text/plain": [
              "<Figure size 432x288 with 1 Axes>"
            ]
          },
          "metadata": {
            "tags": [],
            "needs_background": "light"
          }
        }
      ]
    },
    {
      "cell_type": "markdown",
      "metadata": {
        "id": "iVAMZzP7Rr10",
        "colab_type": "text"
      },
      "source": [
        "question 14"
      ]
    },
    {
      "cell_type": "code",
      "metadata": {
        "id": "l4i_vHsLRvA4",
        "colab_type": "code",
        "colab": {
          "base_uri": "https://localhost:8080/",
          "height": 136
        },
        "outputId": "b6712c0c-6033-4485-ca22-96f90b4944e4"
      },
      "source": [
        "print(train_df.Ticket.describe())\n",
        "print(891-681)\n",
        "print((891-681)/891)"
      ],
      "execution_count": 270,
      "outputs": [
        {
          "output_type": "stream",
          "text": [
            "count      891\n",
            "unique     681\n",
            "top       1601\n",
            "freq         7\n",
            "Name: Ticket, dtype: object\n",
            "210\n",
            "0.2356902356902357\n"
          ],
          "name": "stdout"
        }
      ]
    },
    {
      "cell_type": "code",
      "metadata": {
        "id": "p7hFb1GbSKo_",
        "colab_type": "code",
        "colab": {
          "base_uri": "https://localhost:8080/",
          "height": 459
        },
        "outputId": "407bc4f7-0801-465e-bbf2-a82ae1918bf2"
      },
      "source": [
        "filter1 = train_df[train_df['Survived'] == 1]\n",
        "print(filter1['Ticket'].value_counts())\n",
        "print(filter1['Ticket'].value_counts().values)\n",
        "print(filter1['Ticket'].value_counts().index)"
      ],
      "execution_count": 289,
      "outputs": [
        {
          "output_type": "stream",
          "text": [
            "1601        5\n",
            "113760      4\n",
            "2666        4\n",
            "17421       3\n",
            "PC 17757    3\n",
            "           ..\n",
            "236852      1\n",
            "27849       1\n",
            "370370      1\n",
            "226593      1\n",
            "312991      1\n",
            "Name: Ticket, Length: 260, dtype: int64\n",
            "[5 4 4 3 3 3 3 3 3 3 3 3 3 2 2 2 2 2 2 2 2 2 2 2 2 2 2 2 2 2 2 2 2 2 2 2 2\n",
            " 2 2 2 2 2 2 2 2 2 2 2 2 2 2 2 2 2 2 2 2 2 2 2 2 2 2 2 2 1 1 1 1 1 1 1 1 1\n",
            " 1 1 1 1 1 1 1 1 1 1 1 1 1 1 1 1 1 1 1 1 1 1 1 1 1 1 1 1 1 1 1 1 1 1 1 1 1\n",
            " 1 1 1 1 1 1 1 1 1 1 1 1 1 1 1 1 1 1 1 1 1 1 1 1 1 1 1 1 1 1 1 1 1 1 1 1 1\n",
            " 1 1 1 1 1 1 1 1 1 1 1 1 1 1 1 1 1 1 1 1 1 1 1 1 1 1 1 1 1 1 1 1 1 1 1 1 1\n",
            " 1 1 1 1 1 1 1 1 1 1 1 1 1 1 1 1 1 1 1 1 1 1 1 1 1 1 1 1 1 1 1 1 1 1 1 1 1\n",
            " 1 1 1 1 1 1 1 1 1 1 1 1 1 1 1 1 1 1 1 1 1 1 1 1 1 1 1 1 1 1 1 1 1 1 1 1 1\n",
            " 1]\n",
            "Index(['1601', '113760', '2666', '17421', 'PC 17757', '347077', '24160',\n",
            "       '29106', '110152', 'PC 17572',\n",
            "       ...\n",
            "       '17465', '35851', '347470', '113783', '13213', '236852', '27849',\n",
            "       '370370', '226593', '312991'],\n",
            "      dtype='object', length=260)\n"
          ],
          "name": "stdout"
        }
      ]
    },
    {
      "cell_type": "code",
      "metadata": {
        "id": "1UbIp1sngnvF",
        "colab_type": "code",
        "colab": {
          "base_uri": "https://localhost:8080/",
          "height": 330
        },
        "outputId": "2cd5dca9-10b3-405f-e785-1e929d3ef056"
      },
      "source": [
        "fig, ax = plt.subplots(figsize=(40,6))\n",
        "filter1 = train_df[train_df['Survived'] == 0]\n",
        "\n",
        "ages = filter1['Ticket'].value_counts()\n",
        "plt.bar(filter1['Ticket'].value_counts().index, filter1['Ticket'].value_counts().values)\n",
        "plt.xticks(rotation=45)\n",
        "plt.title('Survived = 0')\n",
        "plt.show"
      ],
      "execution_count": 299,
      "outputs": [
        {
          "output_type": "execute_result",
          "data": {
            "text/plain": [
              "<function matplotlib.pyplot.show>"
            ]
          },
          "metadata": {
            "tags": []
          },
          "execution_count": 299
        },
        {
          "output_type": "display_data",
          "data": {
            "image/png": "[encoded data removed]",
            "text/plain": [
              "<Figure size 2880x432 with 1 Axes>"
            ]
          },
          "metadata": {
            "tags": [],
            "needs_background": "light"
          }
        }
      ]
    },
    {
      "cell_type": "code",
      "metadata": {
        "id": "N9va6d-Jkw7m",
        "colab_type": "code",
        "colab": {
          "base_uri": "https://localhost:8080/",
          "height": 327
        },
        "outputId": "6a5925b0-bc21-436c-f124-6faad7528117"
      },
      "source": [
        "fig, ax = plt.subplots(figsize=(40,6))\n",
        "filter1 = train_df[train_df['Survived'] == 1]\n",
        "\n",
        "ages = filter1['Ticket'].value_counts()\n",
        "plt.bar(filter1['Ticket'].value_counts().index, filter1['Ticket'].value_counts().values)\n",
        "plt.xticks(rotation=45)\n",
        "plt.title('Survived = 1')\n",
        "plt.show"
      ],
      "execution_count": 300,
      "outputs": [
        {
          "output_type": "execute_result",
          "data": {
            "text/plain": [
              "<function matplotlib.pyplot.show>"
            ]
          },
          "metadata": {
            "tags": []
          },
          "execution_count": 300
        },
        {
          "output_type": "display_data",
          "data": {
            "image/png": "[encoded data removed]",
            "text/plain": [
              "<Figure size 2880x432 with 1 Axes>"
            ]
          },
          "metadata": {
            "tags": [],
            "needs_background": "light"
          }
        }
      ]
    },
    {
      "cell_type": "markdown",
      "metadata": {
        "id": "2A38LROgqdZm",
        "colab_type": "text"
      },
      "source": [
        "question 15"
      ]
    },
    {
      "cell_type": "code",
      "metadata": {
        "id": "88orEqMIqctn",
        "colab_type": "code",
        "colab": {
          "base_uri": "https://localhost:8080/",
          "height": 34
        },
        "outputId": "e83a430c-bfbf-4b77-ac05-b60a4e153073"
      },
      "source": [
        "train_df[train_df['Cabin'] == 'NaN']\n",
        "train_df['Cabin'].isnull().sum()\n"
      ],
      "execution_count": 310,
      "outputs": [
        {
          "output_type": "execute_result",
          "data": {
            "text/plain": [
              "687"
            ]
          },
          "metadata": {
            "tags": []
          },
          "execution_count": 310
        }
      ]
    },
    {
      "cell_type": "code",
      "metadata": {
        "id": "lq7xTVN_r_Cw",
        "colab_type": "code",
        "colab": {
          "base_uri": "https://localhost:8080/",
          "height": 34
        },
        "outputId": "4f14c91e-d047-4073-9170-ff92022120f2"
      },
      "source": [
        "train_df['Cabin'].isnull().sum() + test_df['Cabin'].isnull().sum()"
      ],
      "execution_count": 311,
      "outputs": [
        {
          "output_type": "execute_result",
          "data": {
            "text/plain": [
              "1014"
            ]
          },
          "metadata": {
            "tags": []
          },
          "execution_count": 311
        }
      ]
    },
    {
      "cell_type": "markdown",
      "metadata": {
        "id": "BL0viOkXtAIf",
        "colab_type": "text"
      },
      "source": [
        "question 16"
      ]
    },
    {
      "cell_type": "code",
      "metadata": {
        "id": "kNA8njsBs_yW",
        "colab_type": "code",
        "colab": {
          "base_uri": "https://localhost:8080/",
          "height": 221
        },
        "outputId": "5f83ec48-a694-493b-a67e-f37427e9053e"
      },
      "source": [
        "trans = {\n",
        "  \"male\": \"0\",\n",
        "  \"female\": \"1\"\n",
        "}\n",
        "train_df['Gender'] = train_df['Sex'].transform(lambda x: trans[x])\n",
        "train_df['Gender']"
      ],
      "execution_count": 314,
      "outputs": [
        {
          "output_type": "execute_result",
          "data": {
            "text/plain": [
              "0      0\n",
              "1      1\n",
              "2      1\n",
              "3      1\n",
              "4      0\n",
              "      ..\n",
              "886    0\n",
              "887    1\n",
              "888    1\n",
              "889    0\n",
              "890    0\n",
              "Name: Gender, Length: 891, dtype: object"
            ]
          },
          "metadata": {
            "tags": []
          },
          "execution_count": 314
        }
      ]
    },
    {
      "cell_type": "markdown",
      "metadata": {
        "id": "XuqN4JmkwG3y",
        "colab_type": "text"
      },
      "source": [
        "question 17"
      ]
    },
    {
      "cell_type": "code",
      "metadata": {
        "id": "TV6UFdg4wKlU",
        "colab_type": "code",
        "colab": {
          "base_uri": "https://localhost:8080/",
          "height": 221
        },
        "outputId": "f233cee2-808e-467b-ca56-8dff871a4a7b"
      },
      "source": [
        "cleanedAge = [x for x in train_df['Age'].values if str(x) != 'nan']\n",
        "avg = statistics.mean(cleanedAge)\n",
        "std = statistics.stdev(cleanedAge)\n",
        "newAge = std*randn(1) + avg\n",
        "#print(newAge)\n",
        "\n",
        "def age(x, s, a):\n",
        "  if str(x) == 'nan':\n",
        "    return s*randn(1) + a\n",
        "  return x\n",
        "\n",
        "train_df['NewAge'] = train_df['Age'].transform(lambda x: age(x, std, avg))\n",
        "\n",
        "print(train_df['NewAge'])"
      ],
      "execution_count": 333,
      "outputs": [
        {
          "output_type": "stream",
          "text": [
            "0                        22\n",
            "1                        38\n",
            "2                        26\n",
            "3                        35\n",
            "4                        35\n",
            "               ...         \n",
            "886                      27\n",
            "887                      19\n",
            "888    [13.541087077658403]\n",
            "889                      26\n",
            "890                      32\n",
            "Name: NewAge, Length: 891, dtype: object\n"
          ],
          "name": "stdout"
        }
      ]
    },
    {
      "cell_type": "markdown",
      "metadata": {
        "id": "pW0eAeASySVm",
        "colab_type": "text"
      },
      "source": [
        "question 18"
      ]
    },
    {
      "cell_type": "code",
      "metadata": {
        "id": "N6sViPLfyR-v",
        "colab_type": "code",
        "colab": {
          "base_uri": "https://localhost:8080/",
          "height": 102
        },
        "outputId": "15f0c89a-e952-4f68-cc40-82fdd1af59ad"
      },
      "source": [
        "train_df.Embarked.describe()"
      ],
      "execution_count": 329,
      "outputs": [
        {
          "output_type": "execute_result",
          "data": {
            "text/plain": [
              "count     889\n",
              "unique      3\n",
              "top         S\n",
              "freq      644\n",
              "Name: Embarked, dtype: object"
            ]
          },
          "metadata": {
            "tags": []
          },
          "execution_count": 329
        }
      ]
    },
    {
      "cell_type": "code",
      "metadata": {
        "id": "iuemkLgfyqCC",
        "colab_type": "code",
        "colab": {
          "base_uri": "https://localhost:8080/",
          "height": 221
        },
        "outputId": "1f541eb0-4ad5-47d6-c507-305bc08f0a2b"
      },
      "source": [
        "def emb(x):\n",
        "  if str(x) == 'nan':\n",
        "    return 'S'\n",
        "  return x\n",
        "\n",
        "train_df['NewEmbarked'] = train_df['Embarked'].transform(lambda x: emb(x))\n",
        "\n",
        "print(train_df['NewEmbarked'])"
      ],
      "execution_count": 334,
      "outputs": [
        {
          "output_type": "stream",
          "text": [
            "0      S\n",
            "1      C\n",
            "2      S\n",
            "3      S\n",
            "4      S\n",
            "      ..\n",
            "886    S\n",
            "887    S\n",
            "888    S\n",
            "889    C\n",
            "890    Q\n",
            "Name: NewEmbarked, Length: 891, dtype: object\n"
          ],
          "name": "stdout"
        }
      ]
    },
    {
      "cell_type": "markdown",
      "metadata": {
        "id": "QpJNwKckzAHA",
        "colab_type": "text"
      },
      "source": [
        "problem 19"
      ]
    },
    {
      "cell_type": "code",
      "metadata": {
        "id": "gxsb9mdpzBaW",
        "colab_type": "code",
        "colab": {
          "base_uri": "https://localhost:8080/",
          "height": 238
        },
        "outputId": "7458cce5-4442-45fa-8082-c0c1a8a3fb80"
      },
      "source": [
        "cleanedFare  = [x for x in train_df['Fare'].values if str(x) != 'nan']\n",
        "mode = statistics.mode(cleanedFare)\n",
        "print(mode)\n",
        "def age(x, m):\n",
        "  if str(x) == 'nan':\n",
        "    return m\n",
        "  return x\n",
        "\n",
        "train_df['NewFare'] = train_df['Fare'].transform(lambda x: age(x, mode))\n",
        "\n",
        "print(train_df['NewFare'])"
      ],
      "execution_count": 336,
      "outputs": [
        {
          "output_type": "stream",
          "text": [
            "8.05\n",
            "0       7.2500\n",
            "1      71.2833\n",
            "2       7.9250\n",
            "3      53.1000\n",
            "4       8.0500\n",
            "        ...   \n",
            "886    13.0000\n",
            "887    30.0000\n",
            "888    23.4500\n",
            "889    30.0000\n",
            "890     7.7500\n",
            "Name: NewFare, Length: 891, dtype: float64\n"
          ],
          "name": "stdout"
        }
      ]
    },
    {
      "cell_type": "markdown",
      "metadata": {
        "id": "zV5pg4_hRucu",
        "colab_type": "text"
      },
      "source": [
        "problem 20"
      ]
    },
    {
      "cell_type": "code",
      "metadata": {
        "id": "G5_VnqkJ3Gab",
        "colab_type": "code",
        "colab": {
          "base_uri": "https://localhost:8080/",
          "height": 221
        },
        "outputId": "85bad054-7355-4365-cf97-cee1aed3a0b0"
      },
      "source": [
        "def band(x):\n",
        "  if x < 0:\n",
        "    return -1\n",
        "  if x <= 7.91:\n",
        "    return 0\n",
        "  if x <= 14.454:\n",
        "    return 1\n",
        "  if x <= 31:\n",
        "    return 2\n",
        "  if x <= 512.329:\n",
        "    return 3\n",
        "  return -1\n",
        "  \n",
        "train_df['FareBand'] = train_df['NewFare'].transform(lambda x: band(x))\n",
        "print(train_df['FareBand'])"
      ],
      "execution_count": 338,
      "outputs": [
        {
          "output_type": "stream",
          "text": [
            "0      0\n",
            "1      3\n",
            "2      1\n",
            "3      3\n",
            "4      1\n",
            "      ..\n",
            "886    1\n",
            "887    2\n",
            "888    2\n",
            "889    2\n",
            "890    0\n",
            "Name: FareBand, Length: 891, dtype: int64\n"
          ],
          "name": "stdout"
        }
      ]
    }
  ]
}