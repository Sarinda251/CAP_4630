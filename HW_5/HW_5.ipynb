{
  "nbformat": 4,
  "nbformat_minor": 0,
  "metadata": {
    "colab": {
      "name": "HW_5",
      "provenance": [],
      "collapsed_sections": [],
      "authorship_tag": "ABX9TyPNkwftPYk7r2h3r1pZ+EEx",
      "include_colab_link": true
    },
    "kernelspec": {
      "name": "python3",
      "display_name": "Python 3"
    }
  },
  "cells": [
    {
      "cell_type": "markdown",
      "metadata": {
        "id": "view-in-github",
        "colab_type": "text"
      },
      "source": [
        "<a href=\"https://colab.research.google.com/github/Sarinda251/CAP_4630/blob/master/HW_5.ipynb\" target=\"_parent\"><img src=\"https://colab.research.google.com/assets/colab-badge.svg\" alt=\"Open In Colab\"/></a>"
      ]
    },
    {
      "cell_type": "markdown",
      "metadata": {
        "id": "jhUTXpF_i_s2",
        "colab_type": "text"
      },
      "source": [
        "#**HOMEWORK 5**"
      ]
    },
    {
      "cell_type": "markdown",
      "metadata": {
        "id": "f-mgKIq0jwWp",
        "colab_type": "text"
      },
      "source": [
        "#1. General concepts"
      ]
    },
    {
      "cell_type": "markdown",
      "metadata": {
        "id": "gqbHWVqwEhQI",
        "colab_type": "text"
      },
      "source": [
        "##Artificial Intelligence, Machine Learning, and Deep Learning\n"
      ]
    },
    {
      "cell_type": "markdown",
      "metadata": {
        "id": "JhiVBVL46KLV",
        "colab_type": "text"
      },
      "source": [
        "Artificial Intelligence (AI), Machine Learning (ML), and Deep Learning (DL) are all subsets of eachother with: DL $\\subset$ ML $\\subset$ AI\n",
        "\n"
      ]
    },
    {
      "cell_type": "markdown",
      "metadata": {
        "id": "6bLf0v3ZwL6b",
        "colab_type": "text"
      },
      "source": [
        "**Artificial Intelligence** is the most generic term which refers to the field of computer science dealing with simulating and imitating intelligent human behaviour \n",
        "\n",
        "**Symbolic Artificial Intelligence** or **Good Old-Fashioned Artificial Intelligence (GOFAI)** consists of artificial intelligence methods that are easily interpreted by humans\n",
        "\n",
        "In general, symbolic AI has a set of rules and an input, which are combined to produce an output. For the example of placing queens on an n by n chessboard, a program written in Prolog, a symbolic AI language simply defines the constraints of the problem (no queens in the same row, column, or diagonal) and the input (number of queens) and shows a boardstate if possible that satisfies the rules.\n",
        "\n",
        "\n",
        "\n",
        "---\n",
        "\n"
      ]
    },
    {
      "cell_type": "markdown",
      "metadata": {
        "id": "LeL6g8iRwNjy",
        "colab_type": "text"
      },
      "source": [
        "**Machine Learning** is a \"field of study that gives computers the ability to learn without being explicitly programmed.\" - Arthur Samuel (inventor of the term)\n",
        "\n",
        "It is the process of training a model with a data set to help us make more generalized predictions on newer data\n",
        "\n",
        "A key feature of machine learning is its ability to keep adapting when you give it more data.\n",
        "\n",
        "While the standard model of symbolic AI takes in rules and an input to produce an output, machine learning takes an input and a desired output, and comes up with the rules by itself. \n",
        "\n",
        "**Supervised Learning** refers to when an intended classification or **label** is provided alongside the data **features** to the model when training. \n",
        "\n",
        "In the example below, the MNIST digits data set has a large set of pictures of digits that is acommpanied with a set of corresponding integer labels of the numbers in the pictures. The code segment shows the picture of a 5 with its label underneath.\n"
      ]
    },
    {
      "cell_type": "code",
      "metadata": {
        "id": "N6qFxAXKEZpX",
        "colab_type": "code",
        "colab": {
          "base_uri": "https://localhost:8080/",
          "height": 282
        },
        "outputId": "1ad1cb69-4cd2-465d-e3c7-028cbde783b9"
      },
      "source": [
        "%tensorflow_version 2.x\n",
        "import tensorflow as tf\n",
        "\n",
        "(train_images, train_labels), (test_images, test_labels) = tf.keras.datasets.mnist.load_data()\n",
        "\n",
        "%matplotlib inline\n",
        "import matplotlib.pyplot as plt\n",
        "\n",
        "plt.figure(figsize=(4, 4))\n",
        "plt.imshow(train_images[0])\n",
        "plt.show()\n",
        "\n",
        "print(\"Label: \" + str(train_labels[0]))"
      ],
      "execution_count": 3,
      "outputs": [
        {
          "output_type": "display_data",
          "data": {
            "image/png": "[encoded data removed]",
            "text/plain": [
              "<Figure size 288x288 with 1 Axes>"
            ]
          },
          "metadata": {
            "tags": [],
            "needs_background": "light"
          }
        },
        {
          "output_type": "stream",
          "text": [
            "Label: 5\n"
          ],
          "name": "stdout"
        }
      ]
    },
    {
      "cell_type": "markdown",
      "metadata": {
        "id": "ITJOAVFO0YSh",
        "colab_type": "text"
      },
      "source": [
        "By giving the model a large set of feature, label pairs, it ideally will learn and modify itself to correcly assign labels to new feature inputs (ie. correctly identify pictures of 5's even if they are written with varying handwriting styles)"
      ]
    },
    {
      "cell_type": "markdown",
      "metadata": {
        "id": "tdDha9Nm1N3M",
        "colab_type": "text"
      },
      "source": [
        "**Unsupervised Learning** is the training of a model without any labels in the data set\n",
        "\n",
        "The model is forced to identify patterns in the data and create its own categorization rules from scratch\n",
        "\n",
        "This method is mainly used for pattern recognition when a currently observed pattern doesnt exist, or we seek to find any new patterns in the data"
      ]
    },
    {
      "cell_type": "markdown",
      "metadata": {
        "id": "-1M5jCKo2PDv",
        "colab_type": "text"
      },
      "source": [
        "**Reinforcement Learning** is another form of Machine Learning that is typically involved with getting computers to do certain tasks (ie. play a game or having a robot walk)\n",
        "\n",
        "The model in reinfocement learning is known as the **agent** and it is given a situation to avoid (ie. game over screen or falling down)\n",
        "\n",
        "Every action the agent takes is met with a varying level of reward based on how well it is achieving its goal or how well it is avoiding its loss state. This is combined with its knowledge of its current state to help build a model tha can properly make decisions to complete its task.\n",
        "\n",
        "---\n",
        "\n"
      ]
    },
    {
      "cell_type": "markdown",
      "metadata": {
        "id": "mHoF8Jfl5cl7",
        "colab_type": "text"
      },
      "source": [
        "**Deep Learning** deals with modelling by using algorithms that function similarly to the human brain.\n",
        "\n",
        "These are known as **artificial neural networks** and they mimic neurons firing in a real brain"
      ]
    },
    {
      "cell_type": "markdown",
      "metadata": {
        "id": "mnwrPbziEPH4",
        "colab_type": "text"
      },
      "source": [
        "#2. Basic concepts "
      ]
    },
    {
      "cell_type": "markdown",
      "metadata": {
        "id": "yxGYq-eJgsZP",
        "colab_type": "text"
      },
      "source": [
        "##Linear Regression"
      ]
    },
    {
      "cell_type": "markdown",
      "metadata": {
        "id": "vBV19hSCCCaG",
        "colab_type": "text"
      },
      "source": [
        "**Linear Regression** is a modelling technique that attempts to describe a linear relationship between a feature and its label\n",
        "\n",
        "The equation for a linear regression model is $\\hat{y} = w_0 + w_1 x_1$\n",
        "\n",
        "where:\n",
        "\n",
        "$\\hat{y}$ is the predicted label\n",
        "\n",
        "$w_0$ is the bias term\n",
        "\n",
        "$w_1$ is the weight of feature 1\n",
        "\n",
        "$x_1$ is feature 1\n",
        "\n",
        "for a relationship with n features, more feature and weight terms can be added to the model in the form of $w_i x_i$ up until $w_n x_n$\n",
        "\n",
        "To **infer** is to predict using the linear model and is done by evaluating the linear function at the desired feature values\n",
        "\n",
        "The graph below is a linear approximation for some data. It has $w_1 = 5$ and $b = 4$"
      ]
    },
    {
      "cell_type": "code",
      "metadata": {
        "id": "O-wrTrbGEakG",
        "colab_type": "code",
        "colab": {
          "base_uri": "https://localhost:8080/",
          "height": 287
        },
        "outputId": "425ea227-2835-448d-a4e5-a7feb79bef2a"
      },
      "source": [
        "import numpy as np\n",
        "\n",
        "m = 100\n",
        "X = 2 * np.random.rand(m, 1)\n",
        "y = 4 + 5 * X + (np.random.rand(m, 1)-.5)\n",
        "\n",
        "plt.plot(X, y, \"b.\")\n",
        "plt.xlabel(\"$x_1$\", fontsize=18)\n",
        "plt.ylabel(\"$y$\", rotation=0, fontsize=18)\n",
        "plt.axis([0, 2, 0, 15])\n",
        "\n",
        "x = np.linspace(0, 2, 50)\n",
        "y = 5*x + 4\n",
        "\n",
        "plt.plot(x, y)\n",
        "\n",
        "plt.show()"
      ],
      "execution_count": 18,
      "outputs": [
        {
          "output_type": "display_data",
          "data": {
            "image/png": "[encoded data removed]",
            "text/plain": [
              "<Figure size 432x288 with 1 Axes>"
            ]
          },
          "metadata": {
            "tags": [],
            "needs_background": "light"
          }
        }
      ]
    },
    {
      "cell_type": "markdown",
      "metadata": {
        "id": "-iYyHCcRJJF4",
        "colab_type": "text"
      },
      "source": [
        "##Training Basics"
      ]
    },
    {
      "cell_type": "markdown",
      "metadata": {
        "id": "S_X2fUg7mlRf",
        "colab_type": "text"
      },
      "source": [
        "**Training** a model is the process of adjusting the weights and bias of the model to minimize its loss over the set of examples\n",
        "\n",
        "**Loss** calculated from a function that determines how poor the model predicted the label for a single piece of test data. It is used as negative reinforcement for the model to help it make better predictions.\n",
        "\n",
        "For example, the loss for the above linear regression example is known as **squared loss**. It is the square distance from each point to the true line. \n",
        "\n",
        "Even though there is no line that will make the squared loss of ever point equal zero, the ideal linear regression model will minimize the average loss from all the datapoints known as the **Mean Square Error (MSE)**.\n",
        "\n",
        "$MSE = \\frac{1}{m} \\sum_{i=1}^{m} (\\hat{y}^{(i)} - {y}^{(i)})^2$"
      ]
    },
    {
      "cell_type": "markdown",
      "metadata": {
        "id": "AYyMYea86tCS",
        "colab_type": "text"
      },
      "source": [
        "The **gradient** of a multivariable function is a vector containing the partial derivatives with respect to its variables. The gradient of the loss function will have a vector with the partial derivatives with respect to each of its weights\n",
        "\n",
        "$ \\nabla L = \\begin{bmatrix}{\\frac{\\partial f}{\\partial w_1}} \\\\ \\vdots \\\\ {\\frac{\\partial f}{\\partial w_n}}\\end{bmatrix}$"
      ]
    },
    {
      "cell_type": "markdown",
      "metadata": {
        "id": "28k5JDtm8WF-",
        "colab_type": "text"
      },
      "source": [
        "## Logistic Regression"
      ]
    },
    {
      "cell_type": "markdown",
      "metadata": {
        "id": "Q8_FvY3x8aRh",
        "colab_type": "text"
      },
      "source": [
        "**Logistic Regression** is a modelling technique that is used when the labels belong to two different categories\n",
        "\n",
        "The **sigmoid function** is the function $\\frac{1}{1+e^{-t}}$. It is used for logistic regression as $y = mx + b$ is used as the base for linear regression.\n",
        "\n",
        "Below is a sigmoid function"
      ]
    },
    {
      "cell_type": "code",
      "metadata": {
        "id": "38mp_9hK875a",
        "colab_type": "code",
        "colab": {
          "base_uri": "https://localhost:8080/",
          "height": 265
        },
        "outputId": "ca24bb85-eb42-4846-9132-e251151fc194"
      },
      "source": [
        "import math\n",
        "\n",
        "def sigmoid(x):\n",
        "    a = []\n",
        "    for item in x:\n",
        "        a.append(1/(1+math.exp(-item)))\n",
        "    return a\n",
        "\n",
        "x = np.arange(-10., 10., 0.2)\n",
        "sig = sigmoid(x)\n",
        "\n",
        "plt.plot(x,sig)\n",
        "plt.show()"
      ],
      "execution_count": 19,
      "outputs": [
        {
          "output_type": "display_data",
          "data": {
            "image/png": "[encoded data removed]",
            "text/plain": [
              "<Figure size 432x288 with 1 Axes>"
            ]
          },
          "metadata": {
            "tags": [],
            "needs_background": "light"
          }
        }
      ]
    },
    {
      "cell_type": "markdown",
      "metadata": {
        "id": "PkdfOGPF9tfl",
        "colab_type": "text"
      },
      "source": [
        "The sigmoid function's range is bounded between 0 and 1, and it's variations are used to determine whether a feature belongs to the label 0 or 1. "
      ]
    },
    {
      "cell_type": "markdown",
      "metadata": {
        "id": "d7XK0WDSEO_M",
        "colab_type": "text"
      },
      "source": [
        "#3. Building a model"
      ]
    },
    {
      "cell_type": "markdown",
      "metadata": {
        "id": "WwDC0c46_5sf",
        "colab_type": "text"
      },
      "source": [
        "A **Convolutional Neural Network** or **CNN** or **ConvNet** is a deep learning algorithm that is used to analyze images, assign different values to parts of the image, and eventually differentiate images into different classifications.\n",
        "\n",
        "The input to a ConvNet is called the **input feature map**. This is a 3-d matrix consisting of x,y,and colors of the image's pixels. The dimensions in this example can be seen in the *input_shape* in the below code segment.\n",
        "\n"
      ]
    },
    {
      "cell_type": "code",
      "metadata": {
        "id": "yom-5aZQBI4m",
        "colab_type": "code",
        "colab": {
          "base_uri": "https://localhost:8080/",
          "height": 122
        },
        "outputId": "3dedcb24-ac65-48bf-a92d-4c4a89ffc8a4"
      },
      "source": [
        "from keras.applications import MobileNet\n",
        "\n",
        "conv_base = MobileNet(\n",
        "    weights='imagenet', \n",
        "    include_top=False, \n",
        "    input_shape=(150, 150, 3))"
      ],
      "execution_count": 22,
      "outputs": [
        {
          "output_type": "stream",
          "text": [
            "Using TensorFlow backend.\n",
            "/usr/local/lib/python3.6/dist-packages/keras_applications/mobilenet.py:207: UserWarning: `input_shape` is undefined or non-square, or `rows` is not in [128, 160, 192, 224]. Weights for input shape (224, 224) will be loaded as the default.\n",
            "  warnings.warn('`input_shape` is undefined or non-square, '\n"
          ],
          "name": "stderr"
        },
        {
          "output_type": "stream",
          "text": [
            "Downloading data from https://github.com/fchollet/deep-learning-models/releases/download/v0.6/mobilenet_1_0_224_tf_no_top.h5\n",
            "17227776/17225924 [==============================] - 2s 0us/step\n"
          ],
          "name": "stdout"
        }
      ]
    },
    {
      "cell_type": "markdown",
      "metadata": {
        "id": "xzItSw-FEjia",
        "colab_type": "text"
      },
      "source": [
        "##Importing the data"
      ]
    },
    {
      "cell_type": "markdown",
      "metadata": {
        "id": "W8SeSCu3_WW3",
        "colab_type": "text"
      },
      "source": [
        "The following code segments import the database we will work on. It a set of images or either a single cat or a single dog, to train our model to distinguish between the two. \n"
      ]
    },
    {
      "cell_type": "code",
      "metadata": {
        "id": "8vyqEBccEbVr",
        "colab_type": "code",
        "colab": {
          "base_uri": "https://localhost:8080/",
          "height": 204
        },
        "outputId": "073c775a-b73c-45df-b589-c06ecae8efa3"
      },
      "source": [
        "!wget --no-check-certificate \\\n",
        "    https://storage.googleapis.com/mledu-datasets/cats_and_dogs_filtered.zip \\\n",
        "    -O /tmp/cats_and_dogs_filtered.zip\n",
        "\n",
        "import os\n",
        "import zipfile\n",
        "\n",
        "local_zip = '/tmp/cats_and_dogs_filtered.zip'\n",
        "zip_ref = zipfile.ZipFile(local_zip, 'r')\n",
        "zip_ref.extractall('/tmp')\n",
        "zip_ref.close()\n",
        "\n",
        "base_dir = '/tmp/cats_and_dogs_filtered'\n",
        "train_dir = os.path.join(base_dir, 'train')\n",
        "validation_dir = os.path.join(base_dir, 'validation')\n",
        "\n",
        "# Directory with our training cat pictures\n",
        "train_cats_dir = os.path.join(train_dir, 'cats')\n",
        "\n",
        "# Directory with our training dog pictures\n",
        "train_dogs_dir = os.path.join(train_dir, 'dogs')\n",
        "\n",
        "# Directory with our validation cat pictures\n",
        "validation_cats_dir = os.path.join(validation_dir, 'cats')\n",
        "\n",
        "# Directory with our validation dog pictures\n",
        "validation_dogs_dir = os.path.join(validation_dir, 'dogs')"
      ],
      "execution_count": 23,
      "outputs": [
        {
          "output_type": "stream",
          "text": [
            "--2020-04-25 01:49:13--  https://storage.googleapis.com/mledu-datasets/cats_and_dogs_filtered.zip\n",
            "Resolving storage.googleapis.com (storage.googleapis.com)... 74.125.203.128, 2404:6800:4008:c00::80\n",
            "Connecting to storage.googleapis.com (storage.googleapis.com)|74.125.203.128|:443... connected.\n",
            "HTTP request sent, awaiting response... 200 OK\n",
            "Length: 68606236 (65M) [application/zip]\n",
            "Saving to: ‘/tmp/cats_and_dogs_filtered.zip’\n",
            "\n",
            "/tmp/cats_and_dogs_ 100%[===================>]  65.43M  68.2MB/s    in 1.0s    \n",
            "\n",
            "2020-04-25 01:49:15 (68.2 MB/s) - ‘/tmp/cats_and_dogs_filtered.zip’ saved [68606236/68606236]\n",
            "\n"
          ],
          "name": "stdout"
        }
      ]
    },
    {
      "cell_type": "markdown",
      "metadata": {
        "id": "vxVSo1KIAzVB",
        "colab_type": "text"
      },
      "source": [
        "## Creating the model"
      ]
    },
    {
      "cell_type": "markdown",
      "metadata": {
        "id": "_g37HLqGA6hB",
        "colab_type": "text"
      },
      "source": [
        "Models consist of **layers** that each take an input from either the original data or another layer, perform a transformation on that input, and pass an output to either another layer or as the final output of the model.\n",
        "\n",
        "In this example we will use a **Sequential Model**. This means that each layer forms a chain that is a straight line. Every layer has exactly one preceding layer and one succeding layer, with the only exception being the first and last layers.\n",
        "\n",
        "As seen earlier with the \n",
        "\n",
        "```\n",
        "input_shape=(150, 150, 3))\n",
        "```\n",
        "in our convbase, the first layer must be specified with the shape of its input. Every other layer simply assumes the input shape from the output of the layer before it.\n"
      ]
    },
    {
      "cell_type": "markdown",
      "metadata": {
        "id": "0BT4cffPDfp4",
        "colab_type": "text"
      },
      "source": [
        "In a **Dense** layer, the first number refers to how many weights that layer is dealing with. The layer with 256 will have 256 weights to tweak and compare, likely responding to groups of pixels in the image and how they look. The layer with 1 will only have 1 output. It is the layer that determines whether the image is a cat or a dog.\n",
        "\n",
        "**Maxpooling** is a technique in image processing that breaks up an array into square chunks, and then replaces each index in a chunk with the maximum of that chunk. Here, it helps us group up the pixels into more basic units to help analyze trends.\n",
        "\n",
        "Although not used here, **convolution** is another important technique in image processing. It deals with a kernel matrix that contains a particular transformation. This kernel matrix starts in the top left of the image and slides to the right and then down the rows, applying its transformation to the indexes that it is covering.\n",
        "\n",
        "**Activations** are an important part of Dense layers as they define what process that layer will use in its calculation. For example, the **sigmoid activation** will calculate a probability using the aforementioned sigmoid function (with its own modification to weights) and determine whether an image is a cat or a dog. The **relu actiavtion** will take the max of each feature and 0, ensuring that there are no negative values.\n",
        "\n",
        "The last layer of a model is extremely important because it determines what the output of your model will be. \n",
        "\n",
        "For example, If your problem is a **binary classification** (one with two different categories, use **sigmoid**. But if it has multiple classes with a single label, use **softmax**"
      ]
    },
    {
      "cell_type": "code",
      "metadata": {
        "id": "1AW30w6sBHQs",
        "colab_type": "code",
        "colab": {}
      },
      "source": [
        "conv_base.trainable = False\n",
        "from keras import layers\n",
        "from keras import models\n",
        "from keras import optimizers\n",
        "\n",
        "model = models.Sequential()\n",
        "model.add(conv_base)\n",
        "model.add(layers.MaxPooling2D(2, 2))\n",
        "model.add(layers.Flatten())\n",
        "model.add(layers.Dense(256, activation='relu'))\n",
        "model.add(layers.Dense(1, activation='sigmoid'))"
      ],
      "execution_count": 0,
      "outputs": []
    },
    {
      "cell_type": "markdown",
      "metadata": {
        "id": "jcp_kBxwEO0O",
        "colab_type": "text"
      },
      "source": [
        "#4. Comping a model"
      ]
    },
    {
      "cell_type": "markdown",
      "metadata": {
        "id": "k7qQjvNhEkHK",
        "colab_type": "text"
      },
      "source": [
        "Because models are extremely smart, if a loss function that doesn't match your problem perfectly is used, the model might take shortcuts to minimize loss that you hadn't intended initially.\n",
        "\n",
        "For the given binary classification problem of dogs and cats, we are using binary crossentrophy loss.\n",
        "\n",
        "**Optimizers** are how we make use of the information that our loss function gives us to make according changes to our model. The most basic optimizer is gradient descent"
      ]
    },
    {
      "cell_type": "markdown",
      "metadata": {
        "id": "I6gAwA7irDwn",
        "colab_type": "text"
      },
      "source": [
        "To minimize the loss function, we need to find its minimum. We assume that for a well defined loss function, a minimum does exist. At a minimum, the slope of the function is zero, so a method is required to identify where the slope is zero. Even though the slope can also be a maximum, we assume that there is no absolute worst case classifier.\n",
        "\n",
        "**Gradient Descent** is a technique for finding the minimum possible loss that involves taking the slope (or gradient in higher dimensions) of the function and using it to take steps towards the function's minimum. We assume that the graph of the losses for different weights is an upwards opening parabola, so the slopes of the curve to the left of the vertex are negative, and slops to the right are positive. \n",
        "\n",
        "Each step closer is determined by $w_n \\leftarrow w_{n-1} - \\alpha \\nabla L$, where:\n",
        "\n",
        "The $w$ terms are the tested weights, and $\\nabla L$ is the gradient of the loss function.\n",
        "\n",
        "The **learning rate** $\\alpha$ determines how quickly we want to approach the vertex. A large $\\alpha$ may overshoot the vertex, while a small one will take too long.\n"
      ]
    },
    {
      "cell_type": "code",
      "metadata": {
        "id": "AAwYk2YNEb_1",
        "colab_type": "code",
        "colab": {}
      },
      "source": [
        "# compile model\n",
        "\n",
        "model.compile(\n",
        "    loss='binary_crossentropy', \n",
        "    optimizer=optimizers.RMSprop(lr=2e-5), \n",
        "    metrics=['acc'])"
      ],
      "execution_count": 0,
      "outputs": []
    },
    {
      "cell_type": "markdown",
      "metadata": {
        "id": "ghSqsqg-EOZt",
        "colab_type": "text"
      },
      "source": [
        "#5. Training a model"
      ]
    },
    {
      "cell_type": "markdown",
      "metadata": {
        "id": "KQTx6_D0EkgK",
        "colab_type": "text"
      },
      "source": [
        "Now that we have our data and our model structure, it is time to train. Training a model consists of feeding it data over time and allowing itself to tweak weights to be the best model it can be. \n",
        "\n",
        "A common practice for training is to split the initial data into two sets. A training set and a validation set. It is important to have a set of data that the model hasn't seen during testing so you can check on its effectiveness after training. Given enough time, most models will be able to distinguish its test data extremely accurately. The real test is if it has made a model that can be generalized to new data.\n",
        "\n",
        "If the accuracy of your model during testing is higher than its accuracy on the validation set after testing, your model is likely guilty of **overfitting**. This means that your model has been too closely trained to your test data, and is not generalizable to your problem as a whole.\n",
        "\n",
        "**Underfitting** is another problem with training in which your model is simply not accurate enough to training data *or* validation data. This is typically remedied with more training, or a tweak in the layer structure.\n",
        "\n",
        "Below, our model is run through the data set multiple times. Each cycle through the training set is known as an **epoch**."
      ]
    },
    {
      "cell_type": "code",
      "metadata": {
        "id": "7MNeLRsKEcZV",
        "colab_type": "code",
        "colab": {
          "base_uri": "https://localhost:8080/",
          "height": 751
        },
        "outputId": "812b52eb-6429-42e6-99dc-1a9ef29a3fe3"
      },
      "source": [
        "from keras.preprocessing.image import ImageDataGenerator\n",
        "from keras import optimizers\n",
        "\n",
        "# data augmentation\n",
        "\n",
        "train_datagen = ImageDataGenerator(\n",
        "    rescale=1./255, \n",
        "    rotation_range=40,\n",
        "    width_shift_range=0.2,\n",
        "    height_shift_range=0.2,\n",
        "    shear_range=0.2,\n",
        "    zoom_range=0.2,\n",
        "    horizontal_flip=True,\n",
        "    fill_mode='nearest'\n",
        ")\n",
        "\n",
        "train_generator = train_datagen.flow_from_directory(\n",
        "    train_dir,\n",
        "    target_size=(150, 150),\n",
        "    batch_size=20,\n",
        "    class_mode='binary')\n",
        "\n",
        "validation_datagen = ImageDataGenerator(rescale=1./255)\n",
        "\n",
        "validation_generator = validation_datagen.flow_from_directory(\n",
        "    validation_dir,\n",
        "    target_size=(150, 150),\n",
        "    batch_size=20,\n",
        "    class_mode='binary')\n",
        "\n",
        "# train\n",
        "\n",
        "history = model.fit_generator(\n",
        "    train_generator,\n",
        "    steps_per_epoch=50,\n",
        "    epochs=20,\n",
        "    validation_data=validation_generator,\n",
        "    validation_steps=50\n",
        ")\n"
      ],
      "execution_count": 37,
      "outputs": [
        {
          "output_type": "stream",
          "text": [
            "Found 2000 images belonging to 2 classes.\n",
            "Found 1000 images belonging to 2 classes.\n",
            "Epoch 1/20\n",
            "50/50 [==============================] - 60s 1s/step - loss: 0.2162 - acc: 0.9110 - val_loss: 0.0199 - val_acc: 0.9610\n",
            "Epoch 2/20\n",
            "50/50 [==============================] - 59s 1s/step - loss: 0.1842 - acc: 0.9300 - val_loss: 0.2106 - val_acc: 0.9660\n",
            "Epoch 3/20\n",
            "50/50 [==============================] - 56s 1s/step - loss: 0.2427 - acc: 0.9110 - val_loss: 0.0360 - val_acc: 0.9630\n",
            "Epoch 4/20\n",
            "50/50 [==============================] - 56s 1s/step - loss: 0.1697 - acc: 0.9280 - val_loss: 0.0494 - val_acc: 0.9640\n",
            "Epoch 5/20\n",
            "50/50 [==============================] - 56s 1s/step - loss: 0.2236 - acc: 0.9020 - val_loss: 0.0412 - val_acc: 0.9650\n",
            "Epoch 6/20\n",
            "50/50 [==============================] - 55s 1s/step - loss: 0.2065 - acc: 0.9170 - val_loss: 0.1837 - val_acc: 0.9670\n",
            "Epoch 7/20\n",
            "50/50 [==============================] - 55s 1s/step - loss: 0.2176 - acc: 0.9050 - val_loss: 0.0067 - val_acc: 0.9680\n",
            "Epoch 8/20\n",
            "50/50 [==============================] - 55s 1s/step - loss: 0.1876 - acc: 0.9210 - val_loss: 0.3689 - val_acc: 0.9670\n",
            "Epoch 9/20\n",
            "50/50 [==============================] - 55s 1s/step - loss: 0.1616 - acc: 0.9340 - val_loss: 0.2096 - val_acc: 0.9660\n",
            "Epoch 10/20\n",
            "50/50 [==============================] - 55s 1s/step - loss: 0.2030 - acc: 0.9240 - val_loss: 0.0042 - val_acc: 0.9630\n",
            "Epoch 11/20\n",
            "50/50 [==============================] - 55s 1s/step - loss: 0.2067 - acc: 0.9140 - val_loss: 0.2459 - val_acc: 0.9660\n",
            "Epoch 12/20\n",
            "50/50 [==============================] - 54s 1s/step - loss: 0.1618 - acc: 0.9330 - val_loss: 0.2882 - val_acc: 0.9660\n",
            "Epoch 13/20\n",
            "50/50 [==============================] - 55s 1s/step - loss: 0.1809 - acc: 0.9330 - val_loss: 4.9088e-04 - val_acc: 0.9620\n",
            "Epoch 14/20\n",
            "50/50 [==============================] - 55s 1s/step - loss: 0.1740 - acc: 0.9290 - val_loss: 0.1041 - val_acc: 0.9670\n",
            "Epoch 15/20\n",
            "50/50 [==============================] - 55s 1s/step - loss: 0.2045 - acc: 0.9150 - val_loss: 0.0912 - val_acc: 0.9670\n",
            "Epoch 16/20\n",
            "50/50 [==============================] - 55s 1s/step - loss: 0.1580 - acc: 0.9440 - val_loss: 0.0364 - val_acc: 0.9620\n",
            "Epoch 17/20\n",
            "50/50 [==============================] - 55s 1s/step - loss: 0.1989 - acc: 0.9140 - val_loss: 0.0045 - val_acc: 0.9690\n",
            "Epoch 18/20\n",
            "50/50 [==============================] - 54s 1s/step - loss: 0.1972 - acc: 0.9290 - val_loss: 1.0992e-04 - val_acc: 0.9670\n",
            "Epoch 19/20\n",
            "50/50 [==============================] - 55s 1s/step - loss: 0.1863 - acc: 0.9220 - val_loss: 0.0075 - val_acc: 0.9520\n",
            "Epoch 20/20\n",
            "50/50 [==============================] - 55s 1s/step - loss: 0.1784 - acc: 0.9320 - val_loss: 0.1261 - val_acc: 0.9690\n"
          ],
          "name": "stdout"
        }
      ]
    },
    {
      "cell_type": "markdown",
      "metadata": {
        "id": "3RzM2a7vEXEy",
        "colab_type": "text"
      },
      "source": [
        "#6. Finetuning a pretrained model (describe how you proceed)"
      ]
    },
    {
      "cell_type": "markdown",
      "metadata": {
        "id": "awRXEMGVEk-W",
        "colab_type": "text"
      },
      "source": [
        "After training is through, it is helpful to plot graphs of the training accuracy alongside the test accuraty, to make sure no over or underfitting is ocurring."
      ]
    },
    {
      "cell_type": "code",
      "metadata": {
        "id": "pStba2VsEdY4",
        "colab_type": "code",
        "colab": {
          "base_uri": "https://localhost:8080/",
          "height": 545
        },
        "outputId": "d5158f60-2cff-4276-8f34-67f8f661782a"
      },
      "source": [
        "%matplotlib inline\n",
        "\n",
        "import matplotlib.pyplot as plt\n",
        "\n",
        "acc = history.history['acc']\n",
        "val_acc = history.history['val_acc']\n",
        "\n",
        "loss = history.history['loss']\n",
        "val_loss = history.history['val_loss']\n",
        "\n",
        "epochs = range(1, len(acc) + 1)\n",
        "\n",
        "# training and validation accuracy\n",
        "\n",
        "plt.plot(epochs, acc, 'bo', label='training acc')\n",
        "plt.plot(epochs, val_acc, 'b', label='validation acc')\n",
        "plt.title('training and validation accuracy')\n",
        "plt.legend()\n",
        "\n",
        "plt.figure()\n",
        "\n",
        "# training and validation loss\n",
        "\n",
        "plt.plot(epochs, loss, 'bo', label='training loss')\n",
        "plt.plot(epochs, val_loss, 'b', label='validation loss')\n",
        "plt.title('training and validation loss')\n",
        "plt.legend()\n",
        "\n",
        "plt.show()"
      ],
      "execution_count": 38,
      "outputs": [
        {
          "output_type": "display_data",
          "data": {
            "image/png": "[encoded data removed]",
            "text/plain": [
              "<Figure size 432x288 with 1 Axes>"
            ]
          },
          "metadata": {
            "tags": [],
            "needs_background": "light"
          }
        },
        {
          "output_type": "display_data",
          "data": {
            "image/png": "[encoded data removed]",
            "text/plain": [
              "<Figure size 432x288 with 1 Axes>"
            ]
          },
          "metadata": {
            "tags": [],
            "needs_background": "light"
          }
        }
      ]
    },
    {
      "cell_type": "markdown",
      "metadata": {
        "id": "ebzGCQqvMgXB",
        "colab_type": "text"
      },
      "source": [
        "Sometimes you want to retrain your model, but not completely. By **freezing** layers, you can control which layers of your model will update based on new training, and which ones will remain the same. This can also help if you want to retrain the last few layers of your model"
      ]
    },
    {
      "cell_type": "code",
      "metadata": {
        "id": "MxzjIDraM37q",
        "colab_type": "code",
        "colab": {}
      },
      "source": [
        "conv_base.trainable = True\n",
        "\n",
        "set_trainable = False\n",
        "for layer in conv_base.layers:\n",
        "  if layer.name == 'block5_conv1':\n",
        "    set_trainable = True\n",
        "  if set_trainable:\n",
        "    layer.trainable = True\n",
        "  else:\n",
        "    layer.trainable = False"
      ],
      "execution_count": 0,
      "outputs": []
    },
    {
      "cell_type": "markdown",
      "metadata": {
        "id": "Z4zOv6xqN858",
        "colab_type": "text"
      },
      "source": [
        "Now that the desired layers have been frozen, you can now retrain the model.\n",
        "\n",
        "In the example below, the learning rate has been tweaked to be slower. The loss function and optimizer are unchanged. "
      ]
    },
    {
      "cell_type": "code",
      "metadata": {
        "id": "AVKP4Uu8O6E6",
        "colab_type": "code",
        "colab": {
          "base_uri": "https://localhost:8080/",
          "height": 717
        },
        "outputId": "ae785522-c43d-4f14-db03-4d37f05decdf"
      },
      "source": [
        "# compile model\n",
        "\n",
        "model.compile(\n",
        "    loss='binary_crossentropy',\n",
        "    #\n",
        "    # choose a smaller learning rate\n",
        "    #\n",
        "    optimizer=optimizers.RMSprop(lr=1e-5), \n",
        "    metrics=['acc'])\n",
        "\n",
        "# train\n",
        "\n",
        "history = model.fit_generator(\n",
        "    train_generator,\n",
        "    steps_per_epoch=50,\n",
        "    epochs=20,\n",
        "    validation_data=validation_generator,\n",
        "    validation_steps=50)"
      ],
      "execution_count": 40,
      "outputs": [
        {
          "output_type": "stream",
          "text": [
            "Epoch 1/20\n",
            "50/50 [==============================] - 57s 1s/step - loss: 0.1901 - acc: 0.9220 - val_loss: 0.0777 - val_acc: 0.9590\n",
            "Epoch 2/20\n",
            "50/50 [==============================] - 54s 1s/step - loss: 0.1791 - acc: 0.9260 - val_loss: 0.1111 - val_acc: 0.9560\n",
            "Epoch 3/20\n",
            "50/50 [==============================] - 54s 1s/step - loss: 0.1425 - acc: 0.9370 - val_loss: 0.0490 - val_acc: 0.9560\n",
            "Epoch 4/20\n",
            "50/50 [==============================] - 54s 1s/step - loss: 0.2004 - acc: 0.9220 - val_loss: 0.3138 - val_acc: 0.9560\n",
            "Epoch 5/20\n",
            "50/50 [==============================] - 55s 1s/step - loss: 0.1688 - acc: 0.9350 - val_loss: 0.0494 - val_acc: 0.9570\n",
            "Epoch 6/20\n",
            "50/50 [==============================] - 54s 1s/step - loss: 0.1672 - acc: 0.9340 - val_loss: 0.0038 - val_acc: 0.9560\n",
            "Epoch 7/20\n",
            "50/50 [==============================] - 54s 1s/step - loss: 0.1910 - acc: 0.9260 - val_loss: 0.1387 - val_acc: 0.9550\n",
            "Epoch 8/20\n",
            "50/50 [==============================] - 54s 1s/step - loss: 0.1906 - acc: 0.9240 - val_loss: 0.1112 - val_acc: 0.9510\n",
            "Epoch 9/20\n",
            "50/50 [==============================] - 54s 1s/step - loss: 0.1696 - acc: 0.9260 - val_loss: 0.0233 - val_acc: 0.9560\n",
            "Epoch 10/20\n",
            "50/50 [==============================] - 54s 1s/step - loss: 0.1843 - acc: 0.9220 - val_loss: 0.1779 - val_acc: 0.9550\n",
            "Epoch 11/20\n",
            "50/50 [==============================] - 55s 1s/step - loss: 0.2128 - acc: 0.9130 - val_loss: 0.0142 - val_acc: 0.9530\n",
            "Epoch 12/20\n",
            "50/50 [==============================] - 54s 1s/step - loss: 0.1649 - acc: 0.9320 - val_loss: 0.0991 - val_acc: 0.9540\n",
            "Epoch 13/20\n",
            "50/50 [==============================] - 55s 1s/step - loss: 0.1457 - acc: 0.9400 - val_loss: 0.0088 - val_acc: 0.9520\n",
            "Epoch 14/20\n",
            "50/50 [==============================] - 54s 1s/step - loss: 0.1519 - acc: 0.9390 - val_loss: 0.0260 - val_acc: 0.9530\n",
            "Epoch 15/20\n",
            "50/50 [==============================] - 53s 1s/step - loss: 0.1758 - acc: 0.9350 - val_loss: 0.4481 - val_acc: 0.9540\n",
            "Epoch 16/20\n",
            "50/50 [==============================] - 55s 1s/step - loss: 0.1719 - acc: 0.9220 - val_loss: 0.2826 - val_acc: 0.9530\n",
            "Epoch 17/20\n",
            "50/50 [==============================] - 54s 1s/step - loss: 0.1672 - acc: 0.9310 - val_loss: 0.1713 - val_acc: 0.9550\n",
            "Epoch 18/20\n",
            "50/50 [==============================] - 54s 1s/step - loss: 0.1850 - acc: 0.9360 - val_loss: 0.0626 - val_acc: 0.9540\n",
            "Epoch 19/20\n",
            "50/50 [==============================] - 54s 1s/step - loss: 0.1735 - acc: 0.9360 - val_loss: 0.0940 - val_acc: 0.9560\n",
            "Epoch 20/20\n",
            "50/50 [==============================] - 54s 1s/step - loss: 0.1950 - acc: 0.9170 - val_loss: 0.0170 - val_acc: 0.9540\n"
          ],
          "name": "stdout"
        }
      ]
    },
    {
      "cell_type": "markdown",
      "metadata": {
        "id": "FEI4Qh3MO-hd",
        "colab_type": "text"
      },
      "source": [
        "Finally, the graphs can be replotted to gague the effectiveness of our fine tuning."
      ]
    },
    {
      "cell_type": "code",
      "metadata": {
        "id": "mbkIw7Ie-NP4",
        "colab_type": "code",
        "outputId": "71279d34-ddb4-49b5-fe18-e43f3d082112",
        "colab": {
          "base_uri": "https://localhost:8080/",
          "height": 545
        }
      },
      "source": [
        "%matplotlib inline\n",
        "\n",
        "import matplotlib.pyplot as plt\n",
        "\n",
        "acc = history.history['acc']\n",
        "val_acc = history.history['val_acc']\n",
        "\n",
        "loss = history.history['loss']\n",
        "val_loss = history.history['val_loss']\n",
        "\n",
        "epochs = range(1, len(acc) + 1)\n",
        "\n",
        "# training and validation accuracy\n",
        "\n",
        "plt.plot(epochs, acc, 'bo', label='training acc')\n",
        "plt.plot(epochs, val_acc, 'b', label='validation acc')\n",
        "plt.title('training and validation accuracy')\n",
        "plt.legend()\n",
        "\n",
        "plt.figure()\n",
        "\n",
        "# training and validation loss\n",
        "\n",
        "plt.plot(epochs, loss, 'bo', label='training loss')\n",
        "plt.plot(epochs, val_loss, 'b', label='validation loss')\n",
        "plt.title('training and validation loss')\n",
        "plt.legend()\n",
        "\n",
        "plt.show()"
      ],
      "execution_count": 41,
      "outputs": [
        {
          "output_type": "display_data",
          "data": {
            "image/png": "[encoded data removed]",
            "text/plain": [
              "<Figure size 432x288 with 1 Axes>"
            ]
          },
          "metadata": {
            "tags": [],
            "needs_background": "light"
          }
        },
        {
          "output_type": "display_data",
          "data": {
            "image/png": "[encoded data removed]",
            "text/plain": [
              "<Figure size 432x288 with 1 Axes>"
            ]
          },
          "metadata": {
            "tags": [],
            "needs_background": "light"
          }
        }
      ]
    },
    {
      "cell_type": "code",
      "metadata": {
        "id": "SVQtrk7uJdhl",
        "colab_type": "code",
        "colab": {}
      },
      "source": [
        "val_loss, val_acc = model.evaluate_generator(validation_generator, steps=50)"
      ],
      "execution_count": 0,
      "outputs": []
    },
    {
      "cell_type": "code",
      "metadata": {
        "id": "wgm2kZtIeqaz",
        "colab_type": "code",
        "colab": {
          "base_uri": "https://localhost:8080/",
          "height": 51
        },
        "outputId": "1e48f59c-15d1-4b17-bf7d-db97108d2757"
      },
      "source": [
        "print(\"Validation loss:\", val_loss)\n",
        "print(\"Validation accuracy:\", val_acc)"
      ],
      "execution_count": 43,
      "outputs": [
        {
          "output_type": "stream",
          "text": [
            "Validation loss: 0.1570131480693817\n",
            "Validation accuracy: 0.9539999961853027\n"
          ],
          "name": "stdout"
        }
      ]
    },
    {
      "cell_type": "markdown",
      "metadata": {
        "id": "KSk1hGote5Cq",
        "colab_type": "text"
      },
      "source": [
        "Our validation accuracy is significantly higher than our training accuracy, so we likely have not overfitted our model, and both are relatively high so we have not underfitted either.\n",
        "\n",
        "This data was only run for 50 epochs at 20 steps per epoch, so increasing both would likely improve the accuracy of our model, but Colabs is extremely slow right now."
      ]
    }
  ]
}
