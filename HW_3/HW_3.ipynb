{
  "nbformat": 4,
  "nbformat_minor": 0,
  "metadata": {
    "colab": {
      "name": "HW_3.ipynb",
      "provenance": [],
      "collapsed_sections": [],
      "authorship_tag": "ABX9TyOIQmvlqXYMZ2Yjh9fBPTEE",
      "include_colab_link": true
    },
    "kernelspec": {
      "name": "python3",
      "display_name": "Python 3"
    }
  },
  "cells": [
    {
      "cell_type": "markdown",
      "metadata": {
        "id": "view-in-github",
        "colab_type": "text"
      },
      "source": [
        "<a href=\"https://colab.research.google.com/github/Sarinda251/CAP_4630/blob/master/HW_3.ipynb\" target=\"_parent\"><img src=\"https://colab.research.google.com/assets/colab-badge.svg\" alt=\"Open In Colab\"/></a>"
      ]
    },
    {
      "cell_type": "markdown",
      "metadata": {
        "id": "mapeBTae09A1",
        "colab_type": "text"
      },
      "source": [
        "# Problem 1"
      ]
    },
    {
      "cell_type": "markdown",
      "metadata": {
        "id": "d21Av_KEP7et",
        "colab_type": "text"
      },
      "source": [
        "## Code"
      ]
    },
    {
      "cell_type": "markdown",
      "metadata": {
        "id": "eWL46L7H9Uuk",
        "colab_type": "text"
      },
      "source": [
        "### Imports"
      ]
    },
    {
      "cell_type": "code",
      "metadata": {
        "id": "RCo5FplC9XJf",
        "colab_type": "code",
        "colab": {}
      },
      "source": [
        "import numpy as np\n",
        "\n",
        "%matplotlib inline\n",
        "import matplotlib as mpl\n",
        "import matplotlib.pyplot as plt"
      ],
      "execution_count": 0,
      "outputs": []
    },
    {
      "cell_type": "markdown",
      "metadata": {
        "id": "59YwNOfC1Akf",
        "colab_type": "text"
      },
      "source": [
        "### Get Random Data Function"
      ]
    },
    {
      "cell_type": "code",
      "metadata": {
        "id": "LssUAhoB000D",
        "colab_type": "code",
        "colab": {}
      },
      "source": [
        "def get_random_data(w, b, mu, sigma, m):\n",
        "  # initialize arrays\n",
        "  data =  np.zeros((m,2))\n",
        "  labels = np.zeros((m,1))\n",
        "\n",
        "  for i in range(m):\n",
        "    # generate data\n",
        "    c = np.random.randint(2)\n",
        "    x_1 = np.random.default_rng().uniform(0,1,1)\n",
        "    n = np.random.normal(mu,sigma,1)\n",
        "    x_2 = (w * x_1) + b + (((-1)**c) * n)\n",
        "    \n",
        "    # store data\n",
        "    data[i][0] = x_1\n",
        "    data[i][1] = x_2\n",
        "    labels[i] = c\n",
        "  \n",
        "  return (labels, data)"
      ],
      "execution_count": 0,
      "outputs": []
    },
    {
      "cell_type": "markdown",
      "metadata": {
        "id": "84-WgvYn8by2",
        "colab_type": "text"
      },
      "source": [
        "### Display Random Data Function"
      ]
    },
    {
      "cell_type": "code",
      "metadata": {
        "id": "M0c40HVj5r0w",
        "colab_type": "code",
        "colab": {}
      },
      "source": [
        "\n",
        "\n",
        "def display_random_data(labels, data):\n",
        "\n",
        "  blue_x = []\n",
        "  blue_y = []\n",
        "  red_x = []\n",
        "  red_y = []\n",
        "  \n",
        "  m = len(labels)\n",
        "  for i in range(m):\n",
        "    if(labels[i] == 0):\n",
        "      blue_x.append(data[i][0])\n",
        "      blue_y.append(data[i][1])\n",
        "    else:\n",
        "      red_x.append(data[i][0])\n",
        "      red_y.append(data[i][1])\n",
        "\n",
        "  plt.scatter(blue_x, blue_y, color='blue', label = 'class 0')\n",
        "  plt.scatter(red_x, red_y, color='red', label = 'class 1')\n",
        "  plt.xlabel(\"$x_1$\", fontsize=16)\n",
        "  plt.ylabel(\"$x_2$\", rotation=0, fontsize=16)\n",
        "  plt.legend()\n"
      ],
      "execution_count": 0,
      "outputs": []
    },
    {
      "cell_type": "markdown",
      "metadata": {
        "id": "KY-OGEDRUIVl",
        "colab_type": "text"
      },
      "source": [
        "### Create training and test sets"
      ]
    },
    {
      "cell_type": "code",
      "metadata": {
        "id": "JXdhsnE6UHtu",
        "colab_type": "code",
        "outputId": "4d4c05b4-2067-4c5b-a0eb-4e1423e08585",
        "colab": {
          "base_uri": "https://localhost:8080/",
          "height": 438
        }
      },
      "source": [
        "slope = 10\n",
        "intercept = -5\n",
        "m = 10000\n",
        "\n",
        "(testinglabels, testingdata) = get_random_data(slope,intercept,4,1,m)\n",
        "display_random_data(testinglabels, testingdata)\n",
        "\n",
        "train_xs = testingdata[:8000]\n",
        "train_ys = testinglabels[:8000]\n",
        "\n",
        "test_xs = testingdata[8000:]\n",
        "test_ys = testinglabels[8000:]\n",
        "\n",
        "\n",
        "\n",
        "print(test_xs.shape)\n",
        "print(test_ys.shape)\n",
        "print(train_xs)"
      ],
      "execution_count": 22,
      "outputs": [
        {
          "output_type": "stream",
          "text": [
            "(2000, 2)\n",
            "(2000, 1)\n",
            "[[ 0.07640229  0.09713592]\n",
            " [ 0.78743981  7.01484729]\n",
            " [ 0.49772916  3.37888539]\n",
            " ...\n",
            " [ 0.4094767   3.07421282]\n",
            " [ 0.2581734   2.23069858]\n",
            " [ 0.36626031 -4.73357479]]\n"
          ],
          "name": "stdout"
        },
        {
          "output_type": "display_data",
          "data": {
            "image/png": "[encoded data removed]",
            "text/plain": [
              "<Figure size 432x288 with 1 Axes>"
            ]
          },
          "metadata": {
            "tags": []
          }
        }
      ]
    },
    {
      "cell_type": "markdown",
      "metadata": {
        "id": "5C-F8V8N-z_F",
        "colab_type": "text"
      },
      "source": [
        "## Testing"
      ]
    },
    {
      "cell_type": "markdown",
      "metadata": {
        "id": "-HYaHK1DPHmb",
        "colab_type": "text"
      },
      "source": [
        "The below test data are around the line $y = 5x + 5$ with 100 data points"
      ]
    },
    {
      "cell_type": "markdown",
      "metadata": {
        "id": "abekxI68Ozlo",
        "colab_type": "text"
      },
      "source": [
        "### no blue/red overlap (mean = 3, stdev = 1)"
      ]
    },
    {
      "cell_type": "code",
      "metadata": {
        "id": "3jRSPjTeOz8m",
        "colab_type": "code",
        "outputId": "47a4db6d-3914-4e26-b399-d045c919ebc6",
        "colab": {
          "base_uri": "https://localhost:8080/",
          "height": 285
        }
      },
      "source": [
        "(labels, data) = get_random_data(5,5,3,1,100)\n",
        "display_random_data(labels, data)"
      ],
      "execution_count": 23,
      "outputs": [
        {
          "output_type": "display_data",
          "data": {
            "image/png": "[encoded data removed]",
            "text/plain": [
              "<Figure size 432x288 with 1 Axes>"
            ]
          },
          "metadata": {
            "tags": []
          }
        }
      ]
    },
    {
      "cell_type": "markdown",
      "metadata": {
        "id": "6ZKKSFcqOs1S",
        "colab_type": "text"
      },
      "source": [
        "### minimal blue/red overlap (mean = 3, stdev = 2)"
      ]
    },
    {
      "cell_type": "code",
      "metadata": {
        "id": "dIipiZOc-1lh",
        "colab_type": "code",
        "outputId": "20e51b45-d5a5-410d-e863-1167a03c0dcb",
        "colab": {
          "base_uri": "https://localhost:8080/",
          "height": 285
        }
      },
      "source": [
        "(labels, data) = get_random_data(5,5,3,2,100)\n",
        "display_random_data(labels, data)"
      ],
      "execution_count": 24,
      "outputs": [
        {
          "output_type": "display_data",
          "data": {
            "image/png": "[encoded data removed]",
            "text/plain": [
              "<Figure size 432x288 with 1 Axes>"
            ]
          },
          "metadata": {
            "tags": []
          }
        }
      ]
    },
    {
      "cell_type": "markdown",
      "metadata": {
        "id": "suCG3mdSPjjf",
        "colab_type": "text"
      },
      "source": [
        "### moderate blue/red overlap (mean = 2, stdev = 3)\n",
        "\n",
        "*   List item\n",
        "*   List item\n",
        "\n"
      ]
    },
    {
      "cell_type": "code",
      "metadata": {
        "id": "PK8i2i4rPjWG",
        "colab_type": "code",
        "outputId": "43ede6fa-0cd4-470c-e28b-571eba8309f5",
        "colab": {
          "base_uri": "https://localhost:8080/",
          "height": 285
        }
      },
      "source": [
        "(labels, data) = get_random_data(5,5,2,3,100)\n",
        "display_random_data(labels, data)"
      ],
      "execution_count": 25,
      "outputs": [
        {
          "output_type": "display_data",
          "data": {
            "image/png": "[encoded data removed]",
            "text/plain": [
              "<Figure size 432x288 with 1 Axes>"
            ]
          },
          "metadata": {
            "tags": []
          }
        }
      ]
    },
    {
      "cell_type": "markdown",
      "metadata": {
        "id": "EsdRBOgHPUWF",
        "colab_type": "text"
      },
      "source": [
        "### complete blue/red overlap (mean = 1, stdev = 3)"
      ]
    },
    {
      "cell_type": "code",
      "metadata": {
        "id": "sz9z_nNIPUJo",
        "colab_type": "code",
        "outputId": "886a8746-ce5d-47c7-d5a0-93d85071c39e",
        "colab": {
          "base_uri": "https://localhost:8080/",
          "height": 285
        }
      },
      "source": [
        "(labels, data) = get_random_data(5,5,1,3,100)\n",
        "display_random_data(labels, data)"
      ],
      "execution_count": 26,
      "outputs": [
        {
          "output_type": "display_data",
          "data": {
            "image/png": "[encoded data removed]",
            "text/plain": [
              "<Figure size 432x288 with 1 Axes>"
            ]
          },
          "metadata": {
            "tags": []
          }
        }
      ]
    },
    {
      "cell_type": "markdown",
      "metadata": {
        "id": "nGO4I6K2ii7w",
        "colab_type": "text"
      },
      "source": [
        "# Problem 2"
      ]
    },
    {
      "cell_type": "markdown",
      "metadata": {
        "id": "T7uuraEKCBbL",
        "colab_type": "text"
      },
      "source": [
        "## Imports"
      ]
    },
    {
      "cell_type": "code",
      "metadata": {
        "id": "NWcBNU1lCDc4",
        "colab_type": "code",
        "colab": {}
      },
      "source": [
        "%tensorflow_version 2.x\n",
        "import tensorflow as tf\n",
        "from tensorflow import keras\n",
        "\n",
        "import math"
      ],
      "execution_count": 0,
      "outputs": []
    },
    {
      "cell_type": "markdown",
      "metadata": {
        "id": "6eR1XD2-isKP",
        "colab_type": "text"
      },
      "source": [
        "## Code"
      ]
    },
    {
      "cell_type": "markdown",
      "metadata": {
        "id": "zHc7kgiG0CGm",
        "colab_type": "text"
      },
      "source": [
        "### Model"
      ]
    },
    {
      "cell_type": "code",
      "metadata": {
        "id": "O3kB2CufirgF",
        "colab_type": "code",
        "colab": {}
      },
      "source": [
        "model = tf.keras.models.Sequential()\n",
        "\n",
        "#model.add(tf.keras.layers.Dense(2, activation='linear', input_dim=2))\n",
        "#model.add(tf.keras.layers.Dense(2, activation='relu'))\n",
        "layer2 = tf.keras.layers.Dense(1, activation='sigmoid', input_dim=2)\n",
        "model.add(layer2)\n",
        "\n",
        "# compile model\n",
        "# model.compile(optimizer=tf.keras.optimizers.RMSprop(lr=0.001), loss='binary_crossentropy', metrics=['accuracy'])\n",
        "model.compile(optimizer=tf.keras.optimizers.SGD(lr=0.01, momentum=0.9), loss='binary_crossentropy', metrics=['accuracy'])"
      ],
      "execution_count": 0,
      "outputs": []
    },
    {
      "cell_type": "code",
      "metadata": {
        "id": "FXM1glUaYnNs",
        "colab_type": "code",
        "outputId": "59c5b0e9-4500-4e8d-e9e8-438a9163a9ed",
        "colab": {
          "base_uri": "https://localhost:8080/",
          "height": 884
        }
      },
      "source": [
        "model.fit(train_xs, train_ys, epochs=25, batch_size=50)"
      ],
      "execution_count": 40,
      "outputs": [
        {
          "output_type": "stream",
          "text": [
            "Epoch 1/25\n",
            "160/160 [==============================] - 0s 1ms/step - loss: 0.0292 - accuracy: 0.9979\n",
            "Epoch 2/25\n",
            "160/160 [==============================] - 0s 1ms/step - loss: 0.0285 - accuracy: 0.9980\n",
            "Epoch 3/25\n",
            "160/160 [==============================] - 0s 1ms/step - loss: 0.0278 - accuracy: 0.9980\n",
            "Epoch 4/25\n",
            "160/160 [==============================] - 0s 1ms/step - loss: 0.0271 - accuracy: 0.9984\n",
            "Epoch 5/25\n",
            "160/160 [==============================] - 0s 1ms/step - loss: 0.0264 - accuracy: 0.9983\n",
            "Epoch 6/25\n",
            "160/160 [==============================] - 0s 1ms/step - loss: 0.0258 - accuracy: 0.9985\n",
            "Epoch 7/25\n",
            "160/160 [==============================] - 0s 1ms/step - loss: 0.0253 - accuracy: 0.9987\n",
            "Epoch 8/25\n",
            "160/160 [==============================] - 0s 1ms/step - loss: 0.0247 - accuracy: 0.9986\n",
            "Epoch 9/25\n",
            "160/160 [==============================] - 0s 1ms/step - loss: 0.0242 - accuracy: 0.9989\n",
            "Epoch 10/25\n",
            "160/160 [==============================] - 0s 1ms/step - loss: 0.0237 - accuracy: 0.9987\n",
            "Epoch 11/25\n",
            "160/160 [==============================] - 0s 1ms/step - loss: 0.0232 - accuracy: 0.9990\n",
            "Epoch 12/25\n",
            "160/160 [==============================] - 0s 1ms/step - loss: 0.0227 - accuracy: 0.9989\n",
            "Epoch 13/25\n",
            "160/160 [==============================] - 0s 1ms/step - loss: 0.0223 - accuracy: 0.9990\n",
            "Epoch 14/25\n",
            "160/160 [==============================] - 0s 1ms/step - loss: 0.0219 - accuracy: 0.9990\n",
            "Epoch 15/25\n",
            "160/160 [==============================] - 0s 1ms/step - loss: 0.0215 - accuracy: 0.9990\n",
            "Epoch 16/25\n",
            "160/160 [==============================] - 0s 1ms/step - loss: 0.0211 - accuracy: 0.9990\n",
            "Epoch 17/25\n",
            "160/160 [==============================] - 0s 1ms/step - loss: 0.0207 - accuracy: 0.9990\n",
            "Epoch 18/25\n",
            "160/160 [==============================] - 0s 1ms/step - loss: 0.0203 - accuracy: 0.9990\n",
            "Epoch 19/25\n",
            "160/160 [==============================] - 0s 1ms/step - loss: 0.0200 - accuracy: 0.9990\n",
            "Epoch 20/25\n",
            "160/160 [==============================] - 0s 1ms/step - loss: 0.0197 - accuracy: 0.9990\n",
            "Epoch 21/25\n",
            "160/160 [==============================] - 0s 1ms/step - loss: 0.0193 - accuracy: 0.9990\n",
            "Epoch 22/25\n",
            "160/160 [==============================] - 0s 1ms/step - loss: 0.0190 - accuracy: 0.9990\n",
            "Epoch 23/25\n",
            "160/160 [==============================] - 0s 1ms/step - loss: 0.0187 - accuracy: 0.9990\n",
            "Epoch 24/25\n",
            "160/160 [==============================] - 0s 1ms/step - loss: 0.0184 - accuracy: 0.9991\n",
            "Epoch 25/25\n",
            "160/160 [==============================] - 0s 1ms/step - loss: 0.0181 - accuracy: 0.9991\n"
          ],
          "name": "stdout"
        },
        {
          "output_type": "execute_result",
          "data": {
            "text/plain": [
              "<tensorflow.python.keras.callbacks.History at 0x7f4e98dc5e48>"
            ]
          },
          "metadata": {
            "tags": []
          },
          "execution_count": 40
        }
      ]
    },
    {
      "cell_type": "markdown",
      "metadata": {
        "id": "IjknayL70FUY",
        "colab_type": "text"
      },
      "source": [
        "Testing the model against the train and the test set"
      ]
    },
    {
      "cell_type": "code",
      "metadata": {
        "id": "QhghtQSJd7CD",
        "colab_type": "code",
        "outputId": "9c1c43d1-b626-43eb-f52e-cbb879d84f42",
        "colab": {
          "base_uri": "https://localhost:8080/",
          "height": 68
        }
      },
      "source": [
        "model.evaluate(train_xs, train_ys)\n",
        "model.evaluate(test_xs, test_ys)"
      ],
      "execution_count": 30,
      "outputs": [
        {
          "output_type": "stream",
          "text": [
            "250/250 [==============================] - 0s 1ms/step - loss: 0.0296 - accuracy: 0.9979\n",
            "63/63 [==============================] - 0s 1ms/step - loss: 0.0300 - accuracy: 0.9990\n"
          ],
          "name": "stdout"
        },
        {
          "output_type": "execute_result",
          "data": {
            "text/plain": [
              "[0.030023906379938126, 0.9990000128746033]"
            ]
          },
          "metadata": {
            "tags": []
          },
          "execution_count": 30
        }
      ]
    },
    {
      "cell_type": "markdown",
      "metadata": {
        "id": "-az2najV0LCh",
        "colab_type": "text"
      },
      "source": [
        "### Original Data with separating line"
      ]
    },
    {
      "cell_type": "markdown",
      "metadata": {
        "id": "EhQewYiO00pw",
        "colab_type": "text"
      },
      "source": [
        "The trained model realizes a function $f:R^2\\to[0,1]$ that gives the probability that the given data point is above the line (blue). \n",
        "\n",
        "The function is of the form $f(x_1,x_2) = 1 / (1 + e^{-(w_1  x_1 + w_2  x_2 + b)})$\n",
        "\n",
        "To calculate the separating line, we let $f(x_1,x_2) = .5$, since any point on this line has an equal chance of being blue or red\n",
        "\n",
        "Solving for $x_2$ yields:\n",
        "<h2><center>\n",
        "\n",
        "$.5 = 1 / (1 + e^{-(w_1  x_1 + w_2  x_2 + b)})$\n",
        "\n",
        "$.5 (1 + e^{-(w_1  x_1 + w_2 x_2 + b)})= 1$\n",
        "\n",
        "$1 + e^{-(w_1  x_1 + w_2 x_2 + b)}= 2$\n",
        "\n",
        "$e^{-(w_1  x_1 + w_2 x_2 + b)}= 1$\n",
        "\n",
        "$-(w_1  x_1 + w_2 x_2 + b) = 0$\n",
        "\n",
        "$w_2 x_2 = -w_1 x_1 - b$\n",
        "\n",
        "$x_2 = -(w_1 x_1 + b) / w_2$\n",
        "\n",
        "</h2></center>\n",
        "\n",
        "$x_2 = -(w_1 x_1 + b) / w_2$ is the equation for the trained separating line\n",
        "\n",
        "**Note:** if $w_2 = 0$, the separating line is instead the vertical line $x_1 = -b / w_1$\n"
      ]
    },
    {
      "cell_type": "code",
      "metadata": {
        "id": "7qs6qwLJnacF",
        "colab_type": "code",
        "outputId": "d0757212-d1d9-4424-c230-9b7910a20ebe",
        "colab": {
          "base_uri": "https://localhost:8080/",
          "height": 285
        }
      },
      "source": [
        "weights, bias = layer2.get_weights()\n",
        "weights.shape\n",
        "bias.shape\n",
        "\n",
        "# print(weights)\n",
        "# print(bias)\n",
        "\n",
        "w1 = weights[0][0]\n",
        "w2 = weights[1][0]\n",
        "b = bias[0]\n",
        "\n",
        "# print(w1, w2, b)\n",
        "\n",
        "x = np.linspace(0,1,1000)\n",
        "display_random_data(testinglabels, testingdata)\n",
        "plt.plot(x, (slope * x) + intercept, color='purple', linewidth=5, label = 'actual line')\n",
        "if(np.abs(w2) < 1e-6):\n",
        "  plt.axvline(x=(-b/w1), ymin=min_y, ymax=max_y, color='green', linewidth=5, label = 'prediction line')\n",
        "else:\n",
        "  plt.plot(x, -((w1 * x) + b) / w2, color='green', linewidth=5, label = 'prediction line')\n",
        "plt.legend()\n",
        "plt.show()"
      ],
      "execution_count": 41,
      "outputs": [
        {
          "output_type": "display_data",
          "data": {
            "image/png": "[encoded data removed]",
            "text/plain": [
              "<Figure size 432x288 with 1 Axes>"
            ]
          },
          "metadata": {
            "tags": []
          }
        }
      ]
    },
    {
      "cell_type": "markdown",
      "metadata": {
        "id": "8KJxrUoM5C1Y",
        "colab_type": "text"
      },
      "source": [
        "In the above model, the original data is presented along side the generating line (black) and the trained separating line (green)"
      ]
    },
    {
      "cell_type": "markdown",
      "metadata": {
        "id": "l7KKBbfez9ND",
        "colab_type": "text"
      },
      "source": [
        "### Heatmap"
      ]
    },
    {
      "cell_type": "code",
      "metadata": {
        "id": "nQ0arXPx3xu4",
        "colab_type": "code",
        "outputId": "5272fb17-e3b3-4732-d256-595b6a1f978c",
        "colab": {
          "base_uri": "https://localhost:8080/",
          "height": 269
        }
      },
      "source": [
        "# Function definition\n",
        "def f1(x, y):\n",
        "    return (1 / (1 + np.exp(-(b + (w1 * x) + (w2 * y)))))\n",
        "    # return np.exp(x + y)\n",
        "\n",
        "\n",
        "# These are to keep track of the scatter plot bounds for plotting\n",
        "max_y = float(\"-inf\")\n",
        "min_y = float(\"inf\")\n",
        "\n",
        "for i in range(testinglabels.size):\n",
        "  if(testingdata[i][1] < min_y):\n",
        "    min_y = testingdata[i][1]\n",
        "  if(testingdata[i][1] > max_y):\n",
        "    max_y = testingdata[i][1]\n",
        "\n",
        "X1, X2 = np.meshgrid(np.linspace(0,1,1000), np.linspace(min_y - 1,max_y + 1,1000))\n",
        "Y = f1(X1, X2)\n",
        "\n",
        "# Plot density\n",
        "plt.pcolormesh(X1, X2, Y, cmap='RdBu_r')\n",
        "plt.colorbar();"
      ],
      "execution_count": 45,
      "outputs": [
        {
          "output_type": "display_data",
          "data": {
            "image/png": "[encoded data removed]",
            "text/plain": [
              "<Figure size 432x288 with 2 Axes>"
            ]
          },
          "metadata": {
            "tags": []
          }
        }
      ]
    },
    {
      "cell_type": "markdown",
      "metadata": {
        "id": "rwYyKSuUE989",
        "colab_type": "text"
      },
      "source": [
        "# Problem 3"
      ]
    },
    {
      "cell_type": "markdown",
      "metadata": {
        "id": "2xrELXiEFD5O",
        "colab_type": "text"
      },
      "source": [
        "## Code"
      ]
    },
    {
      "cell_type": "markdown",
      "metadata": {
        "id": "6ucaesXCWsJq",
        "colab_type": "text"
      },
      "source": [
        "### Stochastic Gradient Descent"
      ]
    },
    {
      "cell_type": "code",
      "metadata": {
        "id": "CFwgHFBXFBoE",
        "colab_type": "code",
        "colab": {}
      },
      "source": [
        "def sigmoid(x):\n",
        "    return 1 / (1 + np.exp(-x))"
      ],
      "execution_count": 0,
      "outputs": []
    },
    {
      "cell_type": "code",
      "metadata": {
        "id": "G6zo-w5fGiN7",
        "colab_type": "code",
        "colab": {}
      },
      "source": [
        "# number of epochs\n",
        "epochs = 25\n",
        "# learning rate\n",
        "lr = 0.01\n",
        "# fix initial random weight for gradient descent\n",
        "np.random.seed(42)\n",
        "initial_weight = np.random.randn(3, 1) \n",
        "\n",
        "X_b = np.column_stack([np.ones((train_xs.shape[0], 1)), train_xs])"
      ],
      "execution_count": 0,
      "outputs": []
    },
    {
      "cell_type": "code",
      "metadata": {
        "id": "RDmX4ElAGaYV",
        "colab_type": "code",
        "colab": {}
      },
      "source": [
        "weight = initial_weight\n",
        "weight_path_sgd = []\n",
        "\n",
        "weight_path_sgd.append(weight)\n",
        "for epoch in range(epochs):\n",
        "    shuffled_indices = np.random.permutation(train_xs.shape[0])\n",
        "    X_b_shuffled = X_b[shuffled_indices]\n",
        "    y_shuffled = train_ys[shuffled_indices]\n",
        "    \n",
        "    for i in range(test_xs.shape[0]):           \n",
        "        xi = X_b_shuffled[i:i+1]\n",
        "        yi = y_shuffled[i:i+1]\n",
        "        loss = sigmoid(xi.dot(weight)) - yi\n",
        "        gradient = xi.T.dot(loss)\n",
        "        weight = weight - lr * gradient\n",
        "        weight_path_sgd.append(weight)      \n"
      ],
      "execution_count": 0,
      "outputs": []
    },
    {
      "cell_type": "markdown",
      "metadata": {
        "id": "AQIrzzXiWeZB",
        "colab_type": "text"
      },
      "source": [
        "#### Accuracy and loss on the test set"
      ]
    },
    {
      "cell_type": "code",
      "metadata": {
        "id": "1ENq5tI_T-Jj",
        "colab_type": "code",
        "outputId": "fe299019-4c7a-464f-9aa0-032377a539f2",
        "colab": {
          "base_uri": "https://localhost:8080/",
          "height": 68
        }
      },
      "source": [
        "weight_path_sgd[-1]\n",
        "\n",
        "b2 = weight_path_sgd[-1][0]\n",
        "w12 = weight_path_sgd[-1][1]\n",
        "w22 = weight_path_sgd[-1][2]\n",
        "\n",
        "# Function definition\n",
        "def f1(x, y):\n",
        "    return (1 / (1 + np.exp(-(b2 + (w12 * x) + (w22 * y)))))\n",
        "    # return np.exp(x + y)\n",
        "\n",
        "# calculate accuracy for test set\n",
        "correct = 0\n",
        "for i in range(len(test_ys)):\n",
        "  if(np.round(f1(test_xs[i][0], test_xs[i][1])) == test_ys[i]):\n",
        "    correct += 1\n",
        "# calculate loss\n",
        "loss_test = np.column_stack([np.ones((test_xs.shape[0], 1)), test_xs])\n",
        "loss = (-test_ys * np.log(sigmoid(loss_test.dot(weight)))) - ((1 - test_ys) * np.log(1 - sigmoid(loss_test.dot(weight))))\n",
        "\n",
        "# calculate full set accuracy\n",
        "print(str(correct) + \"/\" + str(len(test_ys)) + \" correct from the test set\")\n",
        "print(\"binary cross entrophy loss for test set:\" + str(np.average(loss)))\n",
        "correct2 = 0\n",
        "for i in range(m):\n",
        "  if(np.round(f1(testingdata[i][0], testingdata[i][1])) == testinglabels[i]):\n",
        "    correct2 += 1\n",
        "\n",
        "print(str(correct2) + \"/\" + str(m) + \" correct from the full dataset\")"
      ],
      "execution_count": 36,
      "outputs": [
        {
          "output_type": "stream",
          "text": [
            "1998/2000 correct from the test set\n",
            "binary cross entrophy loss for test set:0.03223391913479584\n",
            "9984/10000 correct from the full dataset\n"
          ],
          "name": "stdout"
        }
      ]
    },
    {
      "cell_type": "markdown",
      "metadata": {
        "id": "bQvfam62WSRs",
        "colab_type": "text"
      },
      "source": [
        "### Test Set Visualization"
      ]
    },
    {
      "cell_type": "code",
      "metadata": {
        "colab_type": "code",
        "outputId": "67389121-b14b-42aa-d83f-16b1872747bb",
        "id": "u4njQm4UWLfU",
        "colab": {
          "base_uri": "https://localhost:8080/",
          "height": 285
        }
      },
      "source": [
        "\n",
        "\n",
        "# print(w1, w2, b)\n",
        "\n",
        "x = np.linspace(0,1,1000)\n",
        "display_random_data(test_ys, test_xs)\n",
        "plt.plot(x, (slope * x) + intercept, color='purple', linewidth=5, label = 'actual line')\n",
        "if(np.abs(w2) < 1e-6):\n",
        "  plt.axvline(x=(-b2/w12), ymin=min_y, ymax=max_y, color='green', linewidth=5, label = 'prediction line')\n",
        "else:\n",
        "  plt.plot(x, -((w12 * x) + b2) / w22, color='green', linewidth=5, label = 'prediction line')\n",
        "plt.legend()\n",
        "plt.show()"
      ],
      "execution_count": 37,
      "outputs": [
        {
          "output_type": "display_data",
          "data": {
            "image/png": "[encoded data removed]",
            "text/plain": [
              "<Figure size 432x288 with 1 Axes>"
            ]
          },
          "metadata": {
            "tags": []
          }
        }
      ]
    },
    {
      "cell_type": "markdown",
      "metadata": {
        "id": "Biy1SyGPWX6h",
        "colab_type": "text"
      },
      "source": [
        "### Complete Data Set"
      ]
    },
    {
      "cell_type": "code",
      "metadata": {
        "id": "EEPxK7BkO7P_",
        "colab_type": "code",
        "outputId": "4516b6fb-7652-4dfe-8e90-57f9c5ee3124",
        "colab": {
          "base_uri": "https://localhost:8080/",
          "height": 285
        }
      },
      "source": [
        "\n",
        "\n",
        "# print(w1, w2, b)\n",
        "\n",
        "x = np.linspace(0,1,1000)\n",
        "display_random_data(testinglabels, testingdata)\n",
        "plt.plot(x, (slope * x) + intercept, color='purple', linewidth=5, label = 'actual line')\n",
        "plt.plot(x, -((w12 * x) + b2) / w22, color='green', linewidth=5, label = 'prediction line')\n",
        "plt.legend()\n",
        "plt.show()"
      ],
      "execution_count": 38,
      "outputs": [
        {
          "output_type": "display_data",
          "data": {
            "image/png": "[encoded data removed]",
            "text/plain": [
              "<Figure size 432x288 with 1 Axes>"
            ]
          },
          "metadata": {
            "tags": []
          }
        }
      ]
    },
    {
      "cell_type": "markdown",
      "metadata": {
        "id": "-8JePM9RPlOO",
        "colab_type": "text"
      },
      "source": [
        "### Heatmap"
      ]
    },
    {
      "cell_type": "code",
      "metadata": {
        "id": "sk3vz8NwPhiB",
        "colab_type": "code",
        "outputId": "f20ee96f-7a3e-437e-87b1-c72a9994d422",
        "colab": {
          "base_uri": "https://localhost:8080/",
          "height": 269
        }
      },
      "source": [
        "# These are to keep track of the scatter plot bounds for plotting\n",
        "max_y = float(\"-inf\")\n",
        "min_y = float(\"inf\")\n",
        "\n",
        "for i in range(testinglabels.size):\n",
        "  if(testingdata[i][1] < min_y):\n",
        "    min_y = testingdata[i][1]\n",
        "  if(testingdata[i][1] > max_y):\n",
        "    max_y = testingdata[i][1]\n",
        "\n",
        "X1, X2 = np.meshgrid(np.linspace(0,1,1000), np.linspace(min_y - 1,max_y + 1,1000))\n",
        "Y = f1(X1, X2)\n",
        "\n",
        "# Plot density\n",
        "plt.pcolormesh(X1, X2, Y, cmap='RdBu_r')\n",
        "plt.colorbar();"
      ],
      "execution_count": 46,
      "outputs": [
        {
          "output_type": "display_data",
          "data": {
            "image/png": "[encoded data removed]",
            "text/plain": [
              "<Figure size 432x288 with 2 Axes>"
            ]
          },
          "metadata": {
            "tags": []
          }
        }
      ]
    }
  ]
}
