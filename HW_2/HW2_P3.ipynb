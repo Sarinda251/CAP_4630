{
  "nbformat": 4,
  "nbformat_minor": 0,
  "metadata": {
    "colab": {
      "name": "HW2-P3.ipynb",
      "provenance": [],
      "authorship_tag": "ABX9TyPcIxUTAfdKxWb67JbXh1ke",
      "include_colab_link": true
    },
    "kernelspec": {
      "name": "python3",
      "display_name": "Python 3"
    }
  },
  "cells": [
    {
      "cell_type": "markdown",
      "metadata": {
        "id": "view-in-github",
        "colab_type": "text"
      },
      "source": [
        "<a href=\"https://colab.research.google.com/github/Sarinda251/CAP_4630/blob/master/HW_2/HW2_P3.ipynb\" target=\"_parent\"><img src=\"https://colab.research.google.com/assets/colab-badge.svg\" alt=\"Open In Colab\"/></a>"
      ]
    },
    {
      "cell_type": "markdown",
      "metadata": {
        "id": "CuG40YTb4NEn",
        "colab_type": "text"
      },
      "source": [
        "#Problem 3"
      ]
    },
    {
      "cell_type": "markdown",
      "metadata": {
        "id": "cjBOya9c4AEy",
        "colab_type": "text"
      },
      "source": [
        "####Imports"
      ]
    },
    {
      "cell_type": "code",
      "metadata": {
        "id": "2y51yalJ4Sux",
        "colab_type": "code",
        "colab": {}
      },
      "source": [
        "%tensorflow_version 2.x\n",
        "import tensorflow as tf\n",
        "(train_images, train_labels), (test_images, test_labels) = tf.keras.datasets.mnist.load_data()\n",
        "\n",
        "%matplotlib inline\n",
        "import matplotlib.pyplot as plt\n",
        "\n",
        "import numpy as np"
      ],
      "execution_count": 0,
      "outputs": []
    },
    {
      "cell_type": "markdown",
      "metadata": {
        "id": "o-LWp3RlFKFo",
        "colab_type": "text"
      },
      "source": [
        "### Main Code"
      ]
    },
    {
      "cell_type": "code",
      "metadata": {
        "id": "XBBCm7Ol4hGr",
        "colab_type": "code",
        "colab": {}
      },
      "source": [
        "# Array Declarations\n",
        "sorted_digits = [[] for _ in range(10)]\n",
        "avg_digits = []"
      ],
      "execution_count": 0,
      "outputs": []
    },
    {
      "cell_type": "code",
      "metadata": {
        "id": "JXj5v5kwDTlr",
        "colab_type": "code",
        "colab": {}
      },
      "source": [
        "# Images are sorted by label\n",
        "for i in range(len(train_images)):\n",
        "  sorted_digits[train_labels[i]].append(train_images[i])\n",
        "\n",
        "# The first image for each digit is stored in the average (it is scaled after storing)\n",
        "for i in range(10):\n",
        "  avg_digits.append(sorted_digits[i][0])\n",
        "  avg_digits[i] = avg_digits[i] / len(sorted_digits[i])"
      ],
      "execution_count": 0,
      "outputs": []
    },
    {
      "cell_type": "code",
      "metadata": {
        "id": "Ic_tdnRH5Z1F",
        "colab_type": "code",
        "colab": {}
      },
      "source": [
        "# The rest of the digits are computed for the average\n",
        "for i in range(10):\n",
        "  for j in range(len(sorted_digits[i])):\n",
        "    avg_digits[i] = avg_digits[i] + (sorted_digits[i][j] / len(sorted_digits[i])) \n"
      ],
      "execution_count": 0,
      "outputs": []
    },
    {
      "cell_type": "markdown",
      "metadata": {
        "id": "vEH20DU1FRFO",
        "colab_type": "text"
      },
      "source": [
        "### Final Output"
      ]
    },
    {
      "cell_type": "code",
      "metadata": {
        "id": "cloPJ9stA6c2",
        "colab_type": "code",
        "outputId": "945c042a-c3d5-49aa-8dfb-6cf613fe5293",
        "colab": {
          "base_uri": "https://localhost:8080/",
          "height": 357
        }
      },
      "source": [
        "plt.figure(figsize=(16, 16))\n",
        "plt.subplots_adjust(top = 0.3, bottom=0.01, hspace=0.1, wspace=0.4)\n",
        "for i in range(10):\n",
        "  ax = plt.subplot(2, 5, i + 1)\n",
        "  plt.imshow(avg_digits[i])\n",
        "  plt.title(i)\n",
        "  plt.axis('off')"
      ],
      "execution_count": 0,
      "outputs": [
        {
          "output_type": "display_data",
          "data": {
            "image/png": "[encoded data removed]",
            "text/plain": [
              "<Figure size 1152x1152 with 10 Axes>"
            ]
          },
          "metadata": {
            "tags": []
          }
        }
      ]
    }
  ]
}