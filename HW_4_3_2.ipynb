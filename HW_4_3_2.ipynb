{
  "nbformat": 4,
  "nbformat_minor": 0,
  "metadata": {
    "colab": {
      "name": "HW_4_3_2.ipynb",
      "provenance": [],
      "include_colab_link": true
    },
    "kernelspec": {
      "name": "python3",
      "display_name": "Python 3"
    },
    "accelerator": "GPU"
  },
  "cells": [
    {
      "cell_type": "markdown",
      "metadata": {
        "id": "view-in-github",
        "colab_type": "text"
      },
      "source": [
        "<a href=\"https://colab.research.google.com/github/Sarinda251/CAP_4630/blob/master/HW_4_3_2.ipynb\" target=\"_parent\"><img src=\"https://colab.research.google.com/assets/colab-badge.svg\" alt=\"Open In Colab\"/></a>"
      ]
    },
    {
      "cell_type": "markdown",
      "metadata": {
        "id": "KSrgMJ5vKFzQ",
        "colab_type": "text"
      },
      "source": [
        "# Homework 4, Problem 3, Notebook 1"
      ]
    },
    {
      "cell_type": "markdown",
      "metadata": {
        "id": "0g6ETAM9o54M",
        "colab_type": "text"
      },
      "source": [
        "Similar to the first notebook, the convnet I chose was Mobile net, and I added a small 2 by 2 maxpooling layer to the classifier to group chunks of pixels together. I added a dropout layer to try and help with overfitting"
      ]
    },
    {
      "cell_type": "markdown",
      "metadata": {
        "id": "BqIG8QHMLNOn",
        "colab_type": "text"
      },
      "source": [
        "## Download the data"
      ]
    },
    {
      "cell_type": "markdown",
      "metadata": {
        "id": "t3I1jd7cKV6_",
        "colab_type": "text"
      },
      "source": [
        "Download the example data, a zip. of 2,000 JPG pictures of cats and dogs and extract it locally in ```/tmp```.\n",
        "\n"
      ]
    },
    {
      "cell_type": "code",
      "metadata": {
        "id": "JWjprHEXJ5Qi",
        "colab_type": "code",
        "outputId": "96ba67ff-f960-4c47-85d1-318406e044cb",
        "colab": {
          "base_uri": "https://localhost:8080/",
          "height": 204
        }
      },
      "source": [
        "!wget --no-check-certificate \\\n",
        "    https://storage.googleapis.com/mledu-datasets/cats_and_dogs_filtered.zip \\\n",
        "    -O /tmp/cats_and_dogs_filtered.zip"
      ],
      "execution_count": 5,
      "outputs": [
        {
          "output_type": "stream",
          "text": [
            "--2020-04-21 23:56:59--  https://storage.googleapis.com/mledu-datasets/cats_and_dogs_filtered.zip\n",
            "Resolving storage.googleapis.com (storage.googleapis.com)... 74.125.24.128, 2404:6800:4003:c01::80\n",
            "Connecting to storage.googleapis.com (storage.googleapis.com)|74.125.24.128|:443... connected.\n",
            "HTTP request sent, awaiting response... 200 OK\n",
            "Length: 68606236 (65M) [application/zip]\n",
            "Saving to: ‘/tmp/cats_and_dogs_filtered.zip’\n",
            "\n",
            "\r          /tmp/cats   0%[                    ]       0  --.-KB/s               \r         /tmp/cats_  64%[===========>        ]  42.34M   212MB/s               \r/tmp/cats_and_dogs_ 100%[===================>]  65.43M   258MB/s    in 0.3s    \n",
            "\n",
            "2020-04-21 23:57:00 (258 MB/s) - ‘/tmp/cats_and_dogs_filtered.zip’ saved [68606236/68606236]\n",
            "\n"
          ],
          "name": "stdout"
        }
      ]
    },
    {
      "cell_type": "code",
      "metadata": {
        "id": "WvoHtdA-K6Rw",
        "colab_type": "code",
        "colab": {}
      },
      "source": [
        "import os\n",
        "import zipfile\n",
        "\n",
        "local_zip = '/tmp/cats_and_dogs_filtered.zip'\n",
        "zip_ref = zipfile.ZipFile(local_zip, 'r')\n",
        "zip_ref.extractall('/tmp')\n",
        "zip_ref.close()"
      ],
      "execution_count": 0,
      "outputs": []
    },
    {
      "cell_type": "markdown",
      "metadata": {
        "id": "shZiOBnJMyy_",
        "colab_type": "text"
      },
      "source": [
        "Note that the data provided by Google does not have a test set."
      ]
    },
    {
      "cell_type": "code",
      "metadata": {
        "id": "dL8ikM89LlsH",
        "colab_type": "code",
        "colab": {}
      },
      "source": [
        "base_dir = '/tmp/cats_and_dogs_filtered'\n",
        "train_dir = os.path.join(base_dir, 'train')\n",
        "validation_dir = os.path.join(base_dir, 'validation')\n",
        "\n",
        "# Directory with our training cat pictures\n",
        "train_cats_dir = os.path.join(train_dir, 'cats')\n",
        "\n",
        "# Directory with our training dog pictures\n",
        "train_dogs_dir = os.path.join(train_dir, 'dogs')\n",
        "\n",
        "# Directory with our validation cat pictures\n",
        "validation_cats_dir = os.path.join(validation_dir, 'cats')\n",
        "\n",
        "# Directory with our validation dog pictures\n",
        "validation_dogs_dir = os.path.join(validation_dir, 'dogs')"
      ],
      "execution_count": 0,
      "outputs": []
    },
    {
      "cell_type": "markdown",
      "metadata": {
        "id": "inyP8bcdXnn-",
        "colab_type": "text"
      },
      "source": [
        "## Build network with VGG16 convolution base and custom densely connected layers"
      ]
    },
    {
      "cell_type": "markdown",
      "metadata": {
        "id": "kQ48W5T9rHWu",
        "colab_type": "text"
      },
      "source": [
        "### Load the convolutional base"
      ]
    },
    {
      "cell_type": "code",
      "metadata": {
        "id": "Y0FgtANCXm_H",
        "colab_type": "code",
        "outputId": "c6ba6b3e-361c-429a-bc29-03fd4027dd7a",
        "colab": {
          "base_uri": "https://localhost:8080/",
          "height": 105
        }
      },
      "source": [
        "from keras.applications import MobileNet\n",
        "\n",
        "conv_base = MobileNet(\n",
        "    weights='imagenet', \n",
        "    include_top=False, \n",
        "    input_shape=(150, 150, 3))"
      ],
      "execution_count": 8,
      "outputs": [
        {
          "output_type": "stream",
          "text": [
            "/usr/local/lib/python3.6/dist-packages/keras_applications/mobilenet.py:207: UserWarning: `input_shape` is undefined or non-square, or `rows` is not in [128, 160, 192, 224]. Weights for input shape (224, 224) will be loaded as the default.\n",
            "  warnings.warn('`input_shape` is undefined or non-square, '\n"
          ],
          "name": "stderr"
        },
        {
          "output_type": "stream",
          "text": [
            "Downloading data from https://github.com/fchollet/deep-learning-models/releases/download/v0.6/mobilenet_1_0_224_tf_no_top.h5\n",
            "17227776/17225924 [==============================] - 3s 0us/step\n"
          ],
          "name": "stdout"
        }
      ]
    },
    {
      "cell_type": "markdown",
      "metadata": {
        "id": "D6OBHOO9q1ou",
        "colab_type": "text"
      },
      "source": [
        "### Freeze the convolutional base"
      ]
    },
    {
      "cell_type": "code",
      "metadata": {
        "id": "UleRo4Dpq6Ld",
        "colab_type": "code",
        "colab": {}
      },
      "source": [
        "conv_base.trainable = False"
      ],
      "execution_count": 0,
      "outputs": []
    },
    {
      "cell_type": "markdown",
      "metadata": {
        "id": "Qfx6PqhPrb7Q",
        "colab_type": "text"
      },
      "source": [
        "### Concatenate the convolutional base and densely connected layers"
      ]
    },
    {
      "cell_type": "code",
      "metadata": {
        "id": "qUpmocDAO3xm",
        "colab_type": "code",
        "colab": {}
      },
      "source": [
        "from keras import layers\n",
        "from keras import models\n",
        "from keras import optimizers\n",
        "\n",
        "model = models.Sequential()\n",
        "model.add(conv_base)\n",
        "model.add(layers.MaxPooling2D(2, 2))\n",
        "model.add(layers.Flatten())\n",
        "model.add(layers.Dense(256, activation='relu'))\n",
        "model.add(layers.Dropout(0.1))\n",
        "model.add(layers.Dense(1, activation='sigmoid'))"
      ],
      "execution_count": 0,
      "outputs": []
    },
    {
      "cell_type": "code",
      "metadata": {
        "id": "Fh6gZSeAjF7c",
        "colab_type": "code",
        "outputId": "8da1c471-332d-45eb-e008-433cbfa4b3c3",
        "colab": {
          "base_uri": "https://localhost:8080/",
          "height": 357
        }
      },
      "source": [
        "model.summary()"
      ],
      "execution_count": 11,
      "outputs": [
        {
          "output_type": "stream",
          "text": [
            "Model: \"sequential_1\"\n",
            "_________________________________________________________________\n",
            "Layer (type)                 Output Shape              Param #   \n",
            "=================================================================\n",
            "mobilenet_1.00_224 (Model)   (None, 4, 4, 1024)        3228864   \n",
            "_________________________________________________________________\n",
            "max_pooling2d_1 (MaxPooling2 (None, 2, 2, 1024)        0         \n",
            "_________________________________________________________________\n",
            "flatten_1 (Flatten)          (None, 4096)              0         \n",
            "_________________________________________________________________\n",
            "dense_1 (Dense)              (None, 256)               1048832   \n",
            "_________________________________________________________________\n",
            "dropout_1 (Dropout)          (None, 256)               0         \n",
            "_________________________________________________________________\n",
            "dense_2 (Dense)              (None, 1)                 257       \n",
            "=================================================================\n",
            "Total params: 4,277,953\n",
            "Trainable params: 1,049,089\n",
            "Non-trainable params: 3,228,864\n",
            "_________________________________________________________________\n"
          ],
          "name": "stdout"
        }
      ]
    },
    {
      "cell_type": "markdown",
      "metadata": {
        "id": "eZjBiddhi5Qj",
        "colab_type": "text"
      },
      "source": [
        "## Train the model end to end with frozen convolutional base"
      ]
    },
    {
      "cell_type": "code",
      "metadata": {
        "id": "tfAQlC2Oi41L",
        "colab_type": "code",
        "outputId": "c63f8d60-1851-495d-9b8a-0608ac1653d8",
        "colab": {
          "base_uri": "https://localhost:8080/",
          "height": 1000
        }
      },
      "source": [
        "from keras.preprocessing.image import ImageDataGenerator\n",
        "from keras import optimizers\n",
        "\n",
        "# data augmentation\n",
        "\n",
        "train_datagen = ImageDataGenerator(\n",
        "    rescale=1./255, \n",
        "    rotation_range=40,\n",
        "    width_shift_range=0.2,\n",
        "    height_shift_range=0.2,\n",
        "    shear_range=0.2,\n",
        "    zoom_range=0.2,\n",
        "    horizontal_flip=True,\n",
        "    fill_mode='nearest'\n",
        ")\n",
        "\n",
        "train_generator = train_datagen.flow_from_directory(\n",
        "    train_dir,\n",
        "    target_size=(150, 150),\n",
        "    batch_size=20,\n",
        "    class_mode='binary')\n",
        "\n",
        "validation_datagen = ImageDataGenerator(rescale=1./255)\n",
        "\n",
        "validation_generator = validation_datagen.flow_from_directory(\n",
        "    validation_dir,\n",
        "    target_size=(150, 150),\n",
        "    batch_size=20,\n",
        "    class_mode='binary')\n",
        "\n",
        "# compile model\n",
        "\n",
        "model.compile(\n",
        "    loss='binary_crossentropy', \n",
        "    optimizer=optimizers.RMSprop(lr=2e-5), \n",
        "    metrics=['acc'])\n",
        "\n",
        "# train\n",
        "\n",
        "history = model.fit_generator(\n",
        "    train_generator,\n",
        "    steps_per_epoch=100,\n",
        "    epochs=30,\n",
        "    validation_data=validation_generator,\n",
        "    validation_steps=50\n",
        ")"
      ],
      "execution_count": 12,
      "outputs": [
        {
          "output_type": "stream",
          "text": [
            "Found 2000 images belonging to 2 classes.\n",
            "Found 1000 images belonging to 2 classes.\n",
            "Epoch 1/30\n",
            "100/100 [==============================] - 24s 242ms/step - loss: 0.6800 - acc: 0.7240 - val_loss: 0.0799 - val_acc: 0.9120\n",
            "Epoch 2/30\n",
            "100/100 [==============================] - 16s 161ms/step - loss: 0.4386 - acc: 0.8275 - val_loss: 0.0331 - val_acc: 0.9360\n",
            "Epoch 3/30\n",
            "100/100 [==============================] - 16s 160ms/step - loss: 0.3543 - acc: 0.8590 - val_loss: 0.5632 - val_acc: 0.9470\n",
            "Epoch 4/30\n",
            "100/100 [==============================] - 16s 162ms/step - loss: 0.3707 - acc: 0.8615 - val_loss: 0.0936 - val_acc: 0.9520\n",
            "Epoch 5/30\n",
            "100/100 [==============================] - 16s 162ms/step - loss: 0.3103 - acc: 0.8745 - val_loss: 0.0966 - val_acc: 0.9580\n",
            "Epoch 6/30\n",
            "100/100 [==============================] - 16s 161ms/step - loss: 0.3251 - acc: 0.8605 - val_loss: 0.2717 - val_acc: 0.9580\n",
            "Epoch 7/30\n",
            "100/100 [==============================] - 16s 162ms/step - loss: 0.2744 - acc: 0.8990 - val_loss: 0.0212 - val_acc: 0.9590\n",
            "Epoch 8/30\n",
            "100/100 [==============================] - 16s 161ms/step - loss: 0.2915 - acc: 0.8910 - val_loss: 0.1099 - val_acc: 0.9610\n",
            "Epoch 9/30\n",
            "100/100 [==============================] - 16s 160ms/step - loss: 0.2893 - acc: 0.8845 - val_loss: 0.0405 - val_acc: 0.9600\n",
            "Epoch 10/30\n",
            "100/100 [==============================] - 16s 162ms/step - loss: 0.2503 - acc: 0.9005 - val_loss: 0.0565 - val_acc: 0.9570\n",
            "Epoch 11/30\n",
            "100/100 [==============================] - 16s 162ms/step - loss: 0.2508 - acc: 0.8955 - val_loss: 0.0512 - val_acc: 0.9590\n",
            "Epoch 12/30\n",
            "100/100 [==============================] - 16s 161ms/step - loss: 0.2853 - acc: 0.8870 - val_loss: 0.1576 - val_acc: 0.9620\n",
            "Epoch 13/30\n",
            "100/100 [==============================] - 16s 162ms/step - loss: 0.2300 - acc: 0.9095 - val_loss: 0.0693 - val_acc: 0.9680\n",
            "Epoch 14/30\n",
            "100/100 [==============================] - 16s 161ms/step - loss: 0.2337 - acc: 0.9045 - val_loss: 0.1629 - val_acc: 0.9670\n",
            "Epoch 15/30\n",
            "100/100 [==============================] - 16s 163ms/step - loss: 0.2050 - acc: 0.9100 - val_loss: 0.1242 - val_acc: 0.9680\n",
            "Epoch 16/30\n",
            "100/100 [==============================] - 16s 163ms/step - loss: 0.2301 - acc: 0.9075 - val_loss: 0.4133 - val_acc: 0.9500\n",
            "Epoch 17/30\n",
            "100/100 [==============================] - 16s 161ms/step - loss: 0.2029 - acc: 0.9225 - val_loss: 0.1100 - val_acc: 0.9720\n",
            "Epoch 18/30\n",
            "100/100 [==============================] - 16s 161ms/step - loss: 0.2221 - acc: 0.9105 - val_loss: 0.0024 - val_acc: 0.9670\n",
            "Epoch 19/30\n",
            "100/100 [==============================] - 16s 162ms/step - loss: 0.2340 - acc: 0.9110 - val_loss: 0.0491 - val_acc: 0.9510\n",
            "Epoch 20/30\n",
            "100/100 [==============================] - 16s 162ms/step - loss: 0.2117 - acc: 0.9110 - val_loss: 0.0150 - val_acc: 0.9690\n",
            "Epoch 21/30\n",
            "100/100 [==============================] - 16s 161ms/step - loss: 0.2089 - acc: 0.9135 - val_loss: 0.1634 - val_acc: 0.9700\n",
            "Epoch 22/30\n",
            "100/100 [==============================] - 16s 162ms/step - loss: 0.2260 - acc: 0.9095 - val_loss: 0.0018 - val_acc: 0.9690\n",
            "Epoch 23/30\n",
            "100/100 [==============================] - 16s 161ms/step - loss: 0.2343 - acc: 0.9060 - val_loss: 0.0404 - val_acc: 0.9630\n",
            "Epoch 24/30\n",
            "100/100 [==============================] - 16s 160ms/step - loss: 0.2077 - acc: 0.9090 - val_loss: 0.0101 - val_acc: 0.9650\n",
            "Epoch 25/30\n",
            "100/100 [==============================] - 16s 163ms/step - loss: 0.2287 - acc: 0.9015 - val_loss: 0.0341 - val_acc: 0.9680\n",
            "Epoch 26/30\n",
            "100/100 [==============================] - 16s 161ms/step - loss: 0.1918 - acc: 0.9290 - val_loss: 0.0329 - val_acc: 0.9690\n",
            "Epoch 27/30\n",
            "100/100 [==============================] - 16s 161ms/step - loss: 0.2054 - acc: 0.9205 - val_loss: 0.0640 - val_acc: 0.9680\n",
            "Epoch 28/30\n",
            "100/100 [==============================] - 16s 162ms/step - loss: 0.1852 - acc: 0.9260 - val_loss: 0.0124 - val_acc: 0.9700\n",
            "Epoch 29/30\n",
            "100/100 [==============================] - 16s 161ms/step - loss: 0.1863 - acc: 0.9230 - val_loss: 0.1000 - val_acc: 0.9720\n",
            "Epoch 30/30\n",
            "100/100 [==============================] - 16s 162ms/step - loss: 0.1966 - acc: 0.9220 - val_loss: 0.0325 - val_acc: 0.9740\n"
          ],
          "name": "stdout"
        }
      ]
    },
    {
      "cell_type": "markdown",
      "metadata": {
        "id": "xqRc_vHKc92U",
        "colab_type": "text"
      },
      "source": [
        "## Display curves of loss and accuracy during training"
      ]
    },
    {
      "cell_type": "code",
      "metadata": {
        "id": "ybWwdzz9bwuQ",
        "colab_type": "code",
        "outputId": "1ac131a6-c15a-4253-a58a-fd5980c0b341",
        "colab": {
          "base_uri": "https://localhost:8080/",
          "height": 545
        }
      },
      "source": [
        "%matplotlib inline\n",
        "\n",
        "import matplotlib.pyplot as plt\n",
        "\n",
        "acc = history.history['acc']\n",
        "val_acc = history.history['val_acc']\n",
        "\n",
        "loss = history.history['loss']\n",
        "val_loss = history.history['val_loss']\n",
        "\n",
        "epochs = range(1, len(acc) + 1)\n",
        "\n",
        "# training and validation accuracy\n",
        "\n",
        "plt.plot(epochs, acc, 'bo', label='training acc')\n",
        "plt.plot(epochs, val_acc, 'b', label='validation acc')\n",
        "plt.title('training and validation accuracy')\n",
        "plt.legend()\n",
        "\n",
        "plt.figure()\n",
        "\n",
        "# training and validation loss\n",
        "\n",
        "plt.plot(epochs, loss, 'bo', label='training loss')\n",
        "plt.plot(epochs, val_loss, 'b', label='validation loss')\n",
        "plt.title('training and validation loss')\n",
        "plt.legend()\n",
        "\n",
        "plt.show()"
      ],
      "execution_count": 13,
      "outputs": [
        {
          "output_type": "display_data",
          "data": {
            "image/png": "[encoded data removed]",
            "text/plain": [
              "<Figure size 432x288 with 1 Axes>"
            ]
          },
          "metadata": {
            "tags": [],
            "needs_background": "light"
          }
        },
        {
          "output_type": "display_data",
          "data": {
            "image/png": "[encoded data removed]",
            "text/plain": [
              "<Figure size 432x288 with 1 Axes>"
            ]
          },
          "metadata": {
            "tags": [],
            "needs_background": "light"
          }
        }
      ]
    },
    {
      "cell_type": "markdown",
      "metadata": {
        "id": "lOWsxpey8lN0",
        "colab_type": "text"
      },
      "source": [
        "## Fine-tuning"
      ]
    },
    {
      "cell_type": "code",
      "metadata": {
        "id": "PwkVMx8N8qMw",
        "colab_type": "code",
        "colab": {}
      },
      "source": [
        "conv_base.trainable = True\n",
        "\n",
        "set_trainable = False\n",
        "for layer in conv_base.layers:\n",
        "  if layer.name == 'block5_conv1':\n",
        "    set_trainable = True\n",
        "  if set_trainable:\n",
        "    layer.trainable = True\n",
        "  else:\n",
        "    layer.trainable = False"
      ],
      "execution_count": 0,
      "outputs": []
    },
    {
      "cell_type": "code",
      "metadata": {
        "id": "DyN-J7rs9cvo",
        "colab_type": "code",
        "outputId": "ac574687-56fe-468b-e154-e99bfed67c19",
        "colab": {
          "base_uri": "https://localhost:8080/",
          "height": 1000
        }
      },
      "source": [
        "# compile model\n",
        "\n",
        "model.compile(\n",
        "    loss='binary_crossentropy',\n",
        "    #\n",
        "    # choose a smaller learning rate\n",
        "    #\n",
        "    optimizer=optimizers.RMSprop(lr=1e-5), \n",
        "    metrics=['acc'])\n",
        "\n",
        "# train\n",
        "\n",
        "history = model.fit_generator(\n",
        "    train_generator,\n",
        "    steps_per_epoch=100,\n",
        "    epochs=100,\n",
        "    validation_data=validation_generator,\n",
        "    validation_steps=50)"
      ],
      "execution_count": 15,
      "outputs": [
        {
          "output_type": "stream",
          "text": [
            "Epoch 1/100\n",
            "100/100 [==============================] - 19s 186ms/step - loss: 0.1945 - acc: 0.9200 - val_loss: 0.0239 - val_acc: 0.9680\n",
            "Epoch 2/100\n",
            "100/100 [==============================] - 16s 162ms/step - loss: 0.1871 - acc: 0.9240 - val_loss: 0.1322 - val_acc: 0.9630\n",
            "Epoch 3/100\n",
            "100/100 [==============================] - 16s 163ms/step - loss: 0.1790 - acc: 0.9295 - val_loss: 0.0457 - val_acc: 0.9510\n",
            "Epoch 4/100\n",
            "100/100 [==============================] - 16s 163ms/step - loss: 0.1807 - acc: 0.9260 - val_loss: 0.3738 - val_acc: 0.9630\n",
            "Epoch 5/100\n",
            "100/100 [==============================] - 16s 164ms/step - loss: 0.1884 - acc: 0.9295 - val_loss: 0.3416 - val_acc: 0.9570\n",
            "Epoch 6/100\n",
            "100/100 [==============================] - 16s 163ms/step - loss: 0.1701 - acc: 0.9295 - val_loss: 0.0500 - val_acc: 0.9580\n",
            "Epoch 7/100\n",
            "100/100 [==============================] - 16s 162ms/step - loss: 0.2083 - acc: 0.9175 - val_loss: 0.1832 - val_acc: 0.9600\n",
            "Epoch 8/100\n",
            "100/100 [==============================] - 16s 162ms/step - loss: 0.1815 - acc: 0.9230 - val_loss: 0.0181 - val_acc: 0.9540\n",
            "Epoch 9/100\n",
            "100/100 [==============================] - 16s 164ms/step - loss: 0.1853 - acc: 0.9280 - val_loss: 0.1470 - val_acc: 0.9500\n",
            "Epoch 10/100\n",
            "100/100 [==============================] - 16s 163ms/step - loss: 0.1751 - acc: 0.9270 - val_loss: 0.1681 - val_acc: 0.9500\n",
            "Epoch 11/100\n",
            "100/100 [==============================] - 16s 162ms/step - loss: 0.1667 - acc: 0.9310 - val_loss: 0.0170 - val_acc: 0.9530\n",
            "Epoch 12/100\n",
            "100/100 [==============================] - 16s 164ms/step - loss: 0.1677 - acc: 0.9295 - val_loss: 0.0714 - val_acc: 0.9580\n",
            "Epoch 13/100\n",
            "100/100 [==============================] - 16s 163ms/step - loss: 0.1711 - acc: 0.9265 - val_loss: 0.0617 - val_acc: 0.9510\n",
            "Epoch 14/100\n",
            "100/100 [==============================] - 16s 162ms/step - loss: 0.1630 - acc: 0.9295 - val_loss: 0.0668 - val_acc: 0.9480\n",
            "Epoch 15/100\n",
            "100/100 [==============================] - 17s 165ms/step - loss: 0.1906 - acc: 0.9265 - val_loss: 0.2745 - val_acc: 0.9580\n",
            "Epoch 16/100\n",
            "100/100 [==============================] - 16s 163ms/step - loss: 0.1547 - acc: 0.9380 - val_loss: 0.1093 - val_acc: 0.9530\n",
            "Epoch 17/100\n",
            "100/100 [==============================] - 16s 162ms/step - loss: 0.1750 - acc: 0.9235 - val_loss: 0.1558 - val_acc: 0.9600\n",
            "Epoch 18/100\n",
            "100/100 [==============================] - 16s 163ms/step - loss: 0.1873 - acc: 0.9190 - val_loss: 0.0551 - val_acc: 0.9510\n",
            "Epoch 19/100\n",
            "100/100 [==============================] - 16s 163ms/step - loss: 0.1976 - acc: 0.9170 - val_loss: 0.0431 - val_acc: 0.9540\n",
            "Epoch 20/100\n",
            "100/100 [==============================] - 16s 163ms/step - loss: 0.1613 - acc: 0.9335 - val_loss: 0.1512 - val_acc: 0.9520\n",
            "Epoch 21/100\n",
            "100/100 [==============================] - 16s 164ms/step - loss: 0.1764 - acc: 0.9305 - val_loss: 0.1435 - val_acc: 0.9600\n",
            "Epoch 22/100\n",
            "100/100 [==============================] - 16s 162ms/step - loss: 0.1641 - acc: 0.9295 - val_loss: 0.0509 - val_acc: 0.9570\n",
            "Epoch 23/100\n",
            "100/100 [==============================] - 16s 164ms/step - loss: 0.2009 - acc: 0.9235 - val_loss: 0.1460 - val_acc: 0.9610\n",
            "Epoch 24/100\n",
            "100/100 [==============================] - 16s 164ms/step - loss: 0.1566 - acc: 0.9360 - val_loss: 0.0924 - val_acc: 0.9570\n",
            "Epoch 25/100\n",
            "100/100 [==============================] - 16s 162ms/step - loss: 0.1858 - acc: 0.9270 - val_loss: 0.1444 - val_acc: 0.9540\n",
            "Epoch 26/100\n",
            "100/100 [==============================] - 16s 162ms/step - loss: 0.1497 - acc: 0.9365 - val_loss: 0.1340 - val_acc: 0.9520\n",
            "Epoch 27/100\n",
            "100/100 [==============================] - 16s 163ms/step - loss: 0.1754 - acc: 0.9235 - val_loss: 0.0057 - val_acc: 0.9520\n",
            "Epoch 28/100\n",
            "100/100 [==============================] - 16s 163ms/step - loss: 0.1623 - acc: 0.9335 - val_loss: 0.0200 - val_acc: 0.9570\n",
            "Epoch 29/100\n",
            "100/100 [==============================] - 16s 163ms/step - loss: 0.1774 - acc: 0.9280 - val_loss: 0.3857 - val_acc: 0.9560\n",
            "Epoch 30/100\n",
            "100/100 [==============================] - 17s 165ms/step - loss: 0.1883 - acc: 0.9230 - val_loss: 0.0043 - val_acc: 0.9560\n",
            "Epoch 31/100\n",
            "100/100 [==============================] - 16s 163ms/step - loss: 0.1928 - acc: 0.9330 - val_loss: 0.1817 - val_acc: 0.9610\n",
            "Epoch 32/100\n",
            "100/100 [==============================] - 16s 162ms/step - loss: 0.1646 - acc: 0.9315 - val_loss: 0.0024 - val_acc: 0.9530\n",
            "Epoch 33/100\n",
            "100/100 [==============================] - 16s 164ms/step - loss: 0.1787 - acc: 0.9305 - val_loss: 0.1255 - val_acc: 0.9580\n",
            "Epoch 34/100\n",
            "100/100 [==============================] - 16s 163ms/step - loss: 0.1596 - acc: 0.9375 - val_loss: 0.0214 - val_acc: 0.9530\n",
            "Epoch 35/100\n",
            "100/100 [==============================] - 16s 163ms/step - loss: 0.1774 - acc: 0.9295 - val_loss: 0.0233 - val_acc: 0.9560\n",
            "Epoch 36/100\n",
            "100/100 [==============================] - 16s 163ms/step - loss: 0.1676 - acc: 0.9335 - val_loss: 0.2629 - val_acc: 0.9480\n",
            "Epoch 37/100\n",
            "100/100 [==============================] - 16s 162ms/step - loss: 0.1647 - acc: 0.9310 - val_loss: 0.0118 - val_acc: 0.9480\n",
            "Epoch 38/100\n",
            "100/100 [==============================] - 16s 162ms/step - loss: 0.1666 - acc: 0.9360 - val_loss: 0.0372 - val_acc: 0.9510\n",
            "Epoch 39/100\n",
            "100/100 [==============================] - 16s 164ms/step - loss: 0.1431 - acc: 0.9365 - val_loss: 0.1191 - val_acc: 0.9560\n",
            "Epoch 40/100\n",
            "100/100 [==============================] - 16s 162ms/step - loss: 0.1654 - acc: 0.9320 - val_loss: 0.0200 - val_acc: 0.9550\n",
            "Epoch 41/100\n",
            "100/100 [==============================] - 16s 162ms/step - loss: 0.1588 - acc: 0.9405 - val_loss: 0.4174 - val_acc: 0.9550\n",
            "Epoch 42/100\n",
            "100/100 [==============================] - 17s 166ms/step - loss: 0.1545 - acc: 0.9365 - val_loss: 0.0172 - val_acc: 0.9560\n",
            "Epoch 43/100\n",
            "100/100 [==============================] - 16s 163ms/step - loss: 0.1793 - acc: 0.9255 - val_loss: 0.0063 - val_acc: 0.9600\n",
            "Epoch 44/100\n",
            "100/100 [==============================] - 16s 164ms/step - loss: 0.1540 - acc: 0.9310 - val_loss: 0.1779 - val_acc: 0.9540\n",
            "Epoch 45/100\n",
            "100/100 [==============================] - 16s 165ms/step - loss: 0.1699 - acc: 0.9325 - val_loss: 0.2046 - val_acc: 0.9570\n",
            "Epoch 46/100\n",
            "100/100 [==============================] - 16s 163ms/step - loss: 0.1738 - acc: 0.9285 - val_loss: 0.0553 - val_acc: 0.9530\n",
            "Epoch 47/100\n",
            "100/100 [==============================] - 16s 164ms/step - loss: 0.1546 - acc: 0.9420 - val_loss: 0.1807 - val_acc: 0.9560\n",
            "Epoch 48/100\n",
            "100/100 [==============================] - 16s 164ms/step - loss: 0.1742 - acc: 0.9310 - val_loss: 0.0250 - val_acc: 0.9540\n",
            "Epoch 49/100\n",
            "100/100 [==============================] - 16s 164ms/step - loss: 0.1665 - acc: 0.9295 - val_loss: 0.0782 - val_acc: 0.9560\n",
            "Epoch 50/100\n",
            "100/100 [==============================] - 16s 163ms/step - loss: 0.1539 - acc: 0.9400 - val_loss: 0.1800 - val_acc: 0.9540\n",
            "Epoch 51/100\n",
            "100/100 [==============================] - 16s 164ms/step - loss: 0.1445 - acc: 0.9455 - val_loss: 0.0247 - val_acc: 0.9560\n",
            "Epoch 52/100\n",
            "100/100 [==============================] - 16s 163ms/step - loss: 0.1570 - acc: 0.9320 - val_loss: 0.3589 - val_acc: 0.9470\n",
            "Epoch 53/100\n",
            "100/100 [==============================] - 16s 164ms/step - loss: 0.1642 - acc: 0.9340 - val_loss: 0.0065 - val_acc: 0.9570\n",
            "Epoch 54/100\n",
            "100/100 [==============================] - 17s 165ms/step - loss: 0.1674 - acc: 0.9350 - val_loss: 0.3164 - val_acc: 0.9530\n",
            "Epoch 55/100\n",
            "100/100 [==============================] - 16s 163ms/step - loss: 0.1367 - acc: 0.9420 - val_loss: 0.3261 - val_acc: 0.9540\n",
            "Epoch 56/100\n",
            "100/100 [==============================] - 16s 164ms/step - loss: 0.1441 - acc: 0.9430 - val_loss: 0.3227 - val_acc: 0.9570\n",
            "Epoch 57/100\n",
            "100/100 [==============================] - 16s 164ms/step - loss: 0.1437 - acc: 0.9405 - val_loss: 0.2726 - val_acc: 0.9630\n",
            "Epoch 58/100\n",
            "100/100 [==============================] - 16s 163ms/step - loss: 0.1486 - acc: 0.9385 - val_loss: 0.0602 - val_acc: 0.9570\n",
            "Epoch 59/100\n",
            "100/100 [==============================] - 16s 164ms/step - loss: 0.1636 - acc: 0.9385 - val_loss: 0.0080 - val_acc: 0.9600\n",
            "Epoch 60/100\n",
            "100/100 [==============================] - 16s 165ms/step - loss: 0.1698 - acc: 0.9305 - val_loss: 0.0467 - val_acc: 0.9540\n",
            "Epoch 61/100\n",
            "100/100 [==============================] - 16s 164ms/step - loss: 0.1528 - acc: 0.9355 - val_loss: 0.0060 - val_acc: 0.9560\n",
            "Epoch 62/100\n",
            "100/100 [==============================] - 16s 163ms/step - loss: 0.1537 - acc: 0.9380 - val_loss: 0.0808 - val_acc: 0.9540\n",
            "Epoch 63/100\n",
            "100/100 [==============================] - 16s 163ms/step - loss: 0.1514 - acc: 0.9360 - val_loss: 0.0041 - val_acc: 0.9590\n",
            "Epoch 64/100\n",
            "100/100 [==============================] - 16s 164ms/step - loss: 0.1647 - acc: 0.9355 - val_loss: 0.0208 - val_acc: 0.9540\n",
            "Epoch 65/100\n",
            "100/100 [==============================] - 16s 162ms/step - loss: 0.1602 - acc: 0.9375 - val_loss: 0.0344 - val_acc: 0.9540\n",
            "Epoch 66/100\n",
            "100/100 [==============================] - 16s 164ms/step - loss: 0.1457 - acc: 0.9395 - val_loss: 0.0335 - val_acc: 0.9550\n",
            "Epoch 67/100\n",
            "100/100 [==============================] - 16s 162ms/step - loss: 0.1500 - acc: 0.9420 - val_loss: 0.0584 - val_acc: 0.9550\n",
            "Epoch 68/100\n",
            "100/100 [==============================] - 16s 163ms/step - loss: 0.1646 - acc: 0.9355 - val_loss: 0.0795 - val_acc: 0.9540\n",
            "Epoch 69/100\n",
            "100/100 [==============================] - 16s 164ms/step - loss: 0.1483 - acc: 0.9400 - val_loss: 0.0452 - val_acc: 0.9620\n",
            "Epoch 70/100\n",
            "100/100 [==============================] - 16s 162ms/step - loss: 0.1679 - acc: 0.9300 - val_loss: 0.1156 - val_acc: 0.9600\n",
            "Epoch 71/100\n",
            "100/100 [==============================] - 16s 164ms/step - loss: 0.1557 - acc: 0.9360 - val_loss: 0.0423 - val_acc: 0.9520\n",
            "Epoch 72/100\n",
            "100/100 [==============================] - 16s 163ms/step - loss: 0.1477 - acc: 0.9440 - val_loss: 0.1934 - val_acc: 0.9530\n",
            "Epoch 73/100\n",
            "100/100 [==============================] - 16s 162ms/step - loss: 0.1587 - acc: 0.9400 - val_loss: 0.1692 - val_acc: 0.9590\n",
            "Epoch 74/100\n",
            "100/100 [==============================] - 16s 163ms/step - loss: 0.1356 - acc: 0.9440 - val_loss: 0.2461 - val_acc: 0.9520\n",
            "Epoch 75/100\n",
            "100/100 [==============================] - 16s 164ms/step - loss: 0.1317 - acc: 0.9455 - val_loss: 0.1292 - val_acc: 0.9580\n",
            "Epoch 76/100\n",
            "100/100 [==============================] - 16s 162ms/step - loss: 0.1437 - acc: 0.9425 - val_loss: 0.0220 - val_acc: 0.9560\n",
            "Epoch 77/100\n",
            "100/100 [==============================] - 16s 161ms/step - loss: 0.1736 - acc: 0.9300 - val_loss: 0.1100 - val_acc: 0.9580\n",
            "Epoch 78/100\n",
            "100/100 [==============================] - 16s 164ms/step - loss: 0.1589 - acc: 0.9330 - val_loss: 0.1818 - val_acc: 0.9560\n",
            "Epoch 79/100\n",
            "100/100 [==============================] - 16s 163ms/step - loss: 0.1469 - acc: 0.9435 - val_loss: 0.0055 - val_acc: 0.9540\n",
            "Epoch 80/100\n",
            "100/100 [==============================] - 16s 162ms/step - loss: 0.1486 - acc: 0.9440 - val_loss: 0.1139 - val_acc: 0.9550\n",
            "Epoch 81/100\n",
            "100/100 [==============================] - 16s 164ms/step - loss: 0.1349 - acc: 0.9485 - val_loss: 0.0805 - val_acc: 0.9560\n",
            "Epoch 82/100\n",
            "100/100 [==============================] - 16s 161ms/step - loss: 0.1613 - acc: 0.9380 - val_loss: 0.0573 - val_acc: 0.9530\n",
            "Epoch 83/100\n",
            "100/100 [==============================] - 16s 161ms/step - loss: 0.1447 - acc: 0.9405 - val_loss: 0.1196 - val_acc: 0.9610\n",
            "Epoch 84/100\n",
            "100/100 [==============================] - 16s 164ms/step - loss: 0.1511 - acc: 0.9370 - val_loss: 0.0150 - val_acc: 0.9630\n",
            "Epoch 85/100\n",
            "100/100 [==============================] - 16s 161ms/step - loss: 0.1328 - acc: 0.9440 - val_loss: 0.0894 - val_acc: 0.9580\n",
            "Epoch 86/100\n",
            "100/100 [==============================] - 16s 163ms/step - loss: 0.1625 - acc: 0.9400 - val_loss: 0.3400 - val_acc: 0.9600\n",
            "Epoch 87/100\n",
            "100/100 [==============================] - 16s 163ms/step - loss: 0.1379 - acc: 0.9435 - val_loss: 0.1398 - val_acc: 0.9500\n",
            "Epoch 88/100\n",
            "100/100 [==============================] - 16s 161ms/step - loss: 0.1430 - acc: 0.9405 - val_loss: 0.0458 - val_acc: 0.9600\n",
            "Epoch 89/100\n",
            "100/100 [==============================] - 16s 163ms/step - loss: 0.1355 - acc: 0.9435 - val_loss: 0.3731 - val_acc: 0.9570\n",
            "Epoch 90/100\n",
            "100/100 [==============================] - 16s 164ms/step - loss: 0.1413 - acc: 0.9380 - val_loss: 0.0950 - val_acc: 0.9480\n",
            "Epoch 91/100\n",
            "100/100 [==============================] - 16s 162ms/step - loss: 0.1549 - acc: 0.9410 - val_loss: 0.1922 - val_acc: 0.9640\n",
            "Epoch 92/100\n",
            "100/100 [==============================] - 16s 162ms/step - loss: 0.1461 - acc: 0.9415 - val_loss: 4.4726e-04 - val_acc: 0.9630\n",
            "Epoch 93/100\n",
            "100/100 [==============================] - 16s 164ms/step - loss: 0.1595 - acc: 0.9375 - val_loss: 0.0595 - val_acc: 0.9650\n",
            "Epoch 94/100\n",
            "100/100 [==============================] - 16s 163ms/step - loss: 0.1531 - acc: 0.9385 - val_loss: 0.0035 - val_acc: 0.9630\n",
            "Epoch 95/100\n",
            "100/100 [==============================] - 16s 162ms/step - loss: 0.1337 - acc: 0.9455 - val_loss: 0.0582 - val_acc: 0.9570\n",
            "Epoch 96/100\n",
            "100/100 [==============================] - 16s 162ms/step - loss: 0.1507 - acc: 0.9430 - val_loss: 0.0177 - val_acc: 0.9570\n",
            "Epoch 97/100\n",
            "100/100 [==============================] - 16s 162ms/step - loss: 0.1515 - acc: 0.9340 - val_loss: 0.0590 - val_acc: 0.9620\n",
            "Epoch 98/100\n",
            "100/100 [==============================] - 16s 161ms/step - loss: 0.1614 - acc: 0.9370 - val_loss: 0.0033 - val_acc: 0.9600\n",
            "Epoch 99/100\n",
            "100/100 [==============================] - 17s 165ms/step - loss: 0.1327 - acc: 0.9505 - val_loss: 0.2303 - val_acc: 0.9520\n",
            "Epoch 100/100\n",
            "100/100 [==============================] - 16s 162ms/step - loss: 0.1396 - acc: 0.9465 - val_loss: 0.0464 - val_acc: 0.9600\n"
          ],
          "name": "stdout"
        }
      ]
    },
    {
      "cell_type": "markdown",
      "metadata": {
        "id": "eVBQgh5M-Rtz",
        "colab_type": "text"
      },
      "source": [
        "## Display learning curves during fine-tuning"
      ]
    },
    {
      "cell_type": "code",
      "metadata": {
        "id": "mbkIw7Ie-NP4",
        "colab_type": "code",
        "outputId": "caf45eed-7605-47b6-fedc-5dfd0ed9a075",
        "colab": {
          "base_uri": "https://localhost:8080/",
          "height": 545
        }
      },
      "source": [
        "%matplotlib inline\n",
        "\n",
        "import matplotlib.pyplot as plt\n",
        "\n",
        "acc = history.history['acc']\n",
        "val_acc = history.history['val_acc']\n",
        "\n",
        "loss = history.history['loss']\n",
        "val_loss = history.history['val_loss']\n",
        "\n",
        "epochs = range(1, len(acc) + 1)\n",
        "\n",
        "# training and validation accuracy\n",
        "\n",
        "plt.plot(epochs, acc, 'bo', label='training acc')\n",
        "plt.plot(epochs, val_acc, 'b', label='validation acc')\n",
        "plt.title('training and validation accuracy')\n",
        "plt.legend()\n",
        "\n",
        "plt.figure()\n",
        "\n",
        "# training and validation loss\n",
        "\n",
        "plt.plot(epochs, loss, 'bo', label='training loss')\n",
        "plt.plot(epochs, val_loss, 'b', label='validation loss')\n",
        "plt.title('training and validation loss')\n",
        "plt.legend()\n",
        "\n",
        "plt.show()"
      ],
      "execution_count": 16,
      "outputs": [
        {
          "output_type": "display_data",
          "data": {
            "image/png": "[encoded data removed]",
            "text/plain": [
              "<Figure size 432x288 with 1 Axes>"
            ]
          },
          "metadata": {
            "tags": [],
            "needs_background": "light"
          }
        },
        {
          "output_type": "display_data",
          "data": {
            "image/png": "[encoded data removed]",
            "text/plain": [
              "<Figure size 432x288 with 1 Axes>"
            ]
          },
          "metadata": {
            "tags": [],
            "needs_background": "light"
          }
        }
      ]
    },
    {
      "cell_type": "markdown",
      "metadata": {
        "id": "he3Nw6TOJwjx",
        "colab_type": "text"
      },
      "source": [
        "## Print out validation loss and accuracy"
      ]
    },
    {
      "cell_type": "code",
      "metadata": {
        "id": "SVQtrk7uJdhl",
        "colab_type": "code",
        "colab": {}
      },
      "source": [
        "val_loss, val_acc = model.evaluate_generator(validation_generator, steps=50)"
      ],
      "execution_count": 0,
      "outputs": []
    },
    {
      "cell_type": "code",
      "metadata": {
        "id": "HpdddLi1SUMe",
        "colab_type": "code",
        "outputId": "e06f2a37-2ab0-4a84-f662-e0e4be20d2e6",
        "colab": {
          "base_uri": "https://localhost:8080/",
          "height": 51
        }
      },
      "source": [
        "print(\"Validation loss:\", val_loss)\n",
        "print(\"Validation accuracy:\", val_acc)"
      ],
      "execution_count": 18,
      "outputs": [
        {
          "output_type": "stream",
          "text": [
            "Validation loss: 0.04635719582438469\n",
            "Validation accuracy: 0.9599999785423279\n"
          ],
          "name": "stdout"
        }
      ]
    },
    {
      "cell_type": "markdown",
      "metadata": {
        "id": "7Ww756WToby8",
        "colab_type": "text"
      },
      "source": [
        "## Save the model"
      ]
    },
    {
      "cell_type": "code",
      "metadata": {
        "id": "0lTUpUdwobKW",
        "colab_type": "code",
        "colab": {}
      },
      "source": [
        "model_fname = 'cats_and_dogs_small_4.h5' \n",
        "model.save(model_fname)"
      ],
      "execution_count": 0,
      "outputs": []
    }
  ]
}